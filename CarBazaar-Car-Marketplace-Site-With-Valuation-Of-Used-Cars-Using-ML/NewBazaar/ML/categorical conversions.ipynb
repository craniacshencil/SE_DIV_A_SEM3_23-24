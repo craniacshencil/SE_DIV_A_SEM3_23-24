{
 "cells": [
  {
   "cell_type": "code",
   "execution_count": 1,
   "id": "34315d9c",
   "metadata": {},
   "outputs": [],
   "source": [
    "import pandas as pd\n",
    "import numpy as np"
   ]
  },
  {
   "cell_type": "code",
   "execution_count": 2,
   "id": "35f4c3f4",
   "metadata": {},
   "outputs": [],
   "source": [
    "train = pd.read_csv(\"final_train_nooutliers.csv\")\n",
    "test = pd.read_csv(\"final_test2.csv\")"
   ]
  },
  {
   "cell_type": "code",
   "execution_count": 3,
   "id": "a47cdad6",
   "metadata": {},
   "outputs": [
    {
     "name": "stdout",
     "output_type": "stream",
     "text": [
      "No of uniques in variant  3085\n",
      "No of uniques in model 355\n"
     ]
    }
   ],
   "source": [
    "print(\"No of uniques in variant \", train['variant'].nunique())\n",
    "print(\"No of uniques in model\", train['model'].nunique())"
   ]
  },
  {
   "cell_type": "markdown",
   "id": "0e97ec4d",
   "metadata": {},
   "source": [
    "## 1. Fixing 'model'"
   ]
  },
  {
   "cell_type": "markdown",
   "id": "1fd78ee7",
   "metadata": {},
   "source": [
    "### Getting rid of the brand name from model"
   ]
  },
  {
   "cell_type": "code",
   "execution_count": 4,
   "id": "e1306ce6",
   "metadata": {},
   "outputs": [],
   "source": [
    "two_worded_brand = []\n",
    "one_worded_brand = []"
   ]
  },
  {
   "cell_type": "code",
   "execution_count": 5,
   "id": "caa30781",
   "metadata": {},
   "outputs": [],
   "source": [
    "for brand in train['oem'].unique():\n",
    "    if len(brand.split(\" \")) == 2:\n",
    "        two_worded_brand.append(brand)\n",
    "    else:\n",
    "        one_worded_brand.append(brand)"
   ]
  },
  {
   "cell_type": "code",
   "execution_count": 6,
   "id": "e265c2d4",
   "metadata": {},
   "outputs": [
    {
     "name": "stdout",
     "output_type": "stream",
     "text": [
      "Total no. of brands:  31\n",
      "Total no. of double worded brands:  28\n",
      "Total no. of single worded brands:  3\n"
     ]
    }
   ],
   "source": [
    "print(\"Total no. of brands: \", len(train['oem'].unique()))\n",
    "print(\"Total no. of double worded brands: \", len(one_worded_brand))\n",
    "print(\"Total no. of single worded brands: \", len(two_worded_brand))"
   ]
  },
  {
   "cell_type": "code",
   "execution_count": 7,
   "id": "727a536e",
   "metadata": {},
   "outputs": [],
   "source": [
    "def clean_model(row):\n",
    "    if row['oem'] in two_worded_brand:\n",
    "        return ' '.join(row['model'].split()[2:])\n",
    "    elif row['oem'] in one_worded_brand:\n",
    "        return ' '.join(row['model'].split()[1:])"
   ]
  },
  {
   "cell_type": "code",
   "execution_count": 8,
   "id": "ae413c54",
   "metadata": {},
   "outputs": [],
   "source": [
    "train['model'] = train.apply(clean_model, axis = 1)\n",
    "test['model'] = test.apply(clean_model, axis = 1)"
   ]
  },
  {
   "cell_type": "code",
   "execution_count": 9,
   "id": "0aa83bfb",
   "metadata": {},
   "outputs": [
    {
     "name": "stdout",
     "output_type": "stream",
     "text": [
      "aloha\n"
     ]
    }
   ],
   "source": [
    "if 'land rover' in two_worded_brand:\n",
    "    print(\"aloha\")"
   ]
  },
  {
   "cell_type": "code",
   "execution_count": 10,
   "id": "5c8bf414",
   "metadata": {},
   "outputs": [
    {
     "data": {
      "text/plain": [
       "city                 1509\n",
       "i20                  1215\n",
       "swift                1200\n",
       "wagon r              1121\n",
       "swift dzire          1000\n",
       "                     ... \n",
       "x4                      1\n",
       "venture                 1\n",
       "v90 cross country       1\n",
       "x-trail                 1\n",
       "f-type                  1\n",
       "Name: model, Length: 354, dtype: int64"
      ]
     },
     "execution_count": 10,
     "metadata": {},
     "output_type": "execute_result"
    }
   ],
   "source": [
    "train['model'].value_counts()"
   ]
  },
  {
   "cell_type": "code",
   "execution_count": 11,
   "id": "2f022426",
   "metadata": {},
   "outputs": [
    {
     "data": {
      "text/plain": [
       "city           183\n",
       "i20            173\n",
       "swift          153\n",
       "wagon r        138\n",
       "swift dzire    110\n",
       "              ... \n",
       "meridian         1\n",
       "tt               1\n",
       "baleno rs        1\n",
       "bolt             1\n",
       "scorpio n        1\n",
       "Name: model, Length: 250, dtype: int64"
      ]
     },
     "execution_count": 11,
     "metadata": {},
     "output_type": "execute_result"
    }
   ],
   "source": [
    "test['model'].value_counts()"
   ]
  },
  {
   "cell_type": "markdown",
   "id": "1dd09693",
   "metadata": {},
   "source": [
    "## 2. Fixing 'Variant'"
   ]
  },
  {
   "cell_type": "markdown",
   "id": "9b490793",
   "metadata": {},
   "source": [
    "### Getting rid of 'petrol' and 'diesel' from the name"
   ]
  },
  {
   "cell_type": "code",
   "execution_count": 12,
   "id": "a4857af9",
   "metadata": {},
   "outputs": [],
   "source": [
    "defaulters = []\n",
    "def find_defaulters(row):\n",
    "    if(('diesel' in row['variant'].split()) | ('petrol' in row['variant'].split())):\n",
    "        defaulters.append(row['variant'])"
   ]
  },
  {
   "cell_type": "code",
   "execution_count": 13,
   "id": "293d3f2a",
   "metadata": {},
   "outputs": [
    {
     "data": {
      "text/plain": [
       "0        None\n",
       "1        None\n",
       "2        None\n",
       "3        None\n",
       "4        None\n",
       "         ... \n",
       "31060    None\n",
       "31061    None\n",
       "31062    None\n",
       "31063    None\n",
       "31064    None\n",
       "Length: 31065, dtype: object"
      ]
     },
     "execution_count": 13,
     "metadata": {},
     "output_type": "execute_result"
    }
   ],
   "source": [
    "train.apply(find_defaulters, axis = 1)"
   ]
  },
  {
   "cell_type": "code",
   "execution_count": 14,
   "id": "4c2f4809",
   "metadata": {},
   "outputs": [
    {
     "data": {
      "text/plain": [
       "358"
      ]
     },
     "execution_count": 14,
     "metadata": {},
     "output_type": "execute_result"
    }
   ],
   "source": [
    "defaulters = list(set(defaulters))\n",
    "len(defaulters)"
   ]
  },
  {
   "cell_type": "code",
   "execution_count": 15,
   "id": "cf948046",
   "metadata": {},
   "outputs": [
    {
     "data": {
      "text/plain": [
       "['v cvt petrol',\n",
       " 'petrol exi',\n",
       " 'diesel ls',\n",
       " 'w6 amt diesel',\n",
       " 'gls diesel at',\n",
       " 'titanium diesel',\n",
       " '2.0 limited opt diesel',\n",
       " 'style diesel mt 7 str',\n",
       " 'diesel highline 1.2l',\n",
       " 'r-dynamic s petrol',\n",
       " '1.5 diesel titanium bsiv',\n",
       " 'w6 amt diesel sunroof',\n",
       " 'mx diesel',\n",
       " '1.5 gtx plus diesel at',\n",
       " 'diesel e4',\n",
       " 'prestige executive 7-seater diesel at',\n",
       " 'zeta diesel',\n",
       " 'magna petrol bsiv',\n",
       " 'signature edition diesel bsiv',\n",
       " 't petrol',\n",
       " 'diesel style',\n",
       " '1.2l diesel classic',\n",
       " 'lx 4-str convert top diesel at',\n",
       " 'trend petrol bsiv',\n",
       " 'petrol ls 8 seater',\n",
       " 'd petrol',\n",
       " 'vx cvt diesel bsiv',\n",
       " 'luxury plus diesel',\n",
       " '1.6 duratec petrol',\n",
       " 'new diesel highline',\n",
       " 'zxi plus petrol',\n",
       " 'petrol rxs',\n",
       " 'prestige diesel',\n",
       " '1.2l diesel elegance',\n",
       " 'vx petrol bsiv',\n",
       " 'ax 6-str soft top diesel',\n",
       " '1.5 diesel titanium',\n",
       " '1.6 ex diesel',\n",
       " '1.5 petrol rxl',\n",
       " 'platinum diesel at',\n",
       " 's cvt petrol bsiv',\n",
       " '1.5 petrol titanium plus bsiv',\n",
       " '110ps diesel rxz pack',\n",
       " 'ambulance petrol ac plus htr',\n",
       " 'z8l diesel at',\n",
       " 'petrol comfortline 1.2l',\n",
       " '2.5 g1 diesel 8-seater',\n",
       " '1.3 s diesel',\n",
       " 'e diesel',\n",
       " '110ps diesel rxl',\n",
       " 'sx diesel at',\n",
       " 'xz plus dualtone roof (o) diesel',\n",
       " '1.6 sx automatic diesel',\n",
       " 'titanium plus diesel bsiv',\n",
       " '2.5 zx diesel 7 seater',\n",
       " 'ax7 diesel',\n",
       " '1.5 dle diesel',\n",
       " 'xza plus (o) amt diesel',\n",
       " 'w6 amt diesel sunroof nt',\n",
       " 'sx executive diesel',\n",
       " 'diesel',\n",
       " 'platinum 7-seater diesel',\n",
       " '1.4 gle bsiv petrol',\n",
       " 'petrol rxl',\n",
       " '1.5 diesel rxl',\n",
       " '2.0l diesel pure',\n",
       " '2.5 ev diesel ps 8 seater bsiii',\n",
       " 'xt diesel',\n",
       " '2.5 e diesel ms 7-seater',\n",
       " '2.5 z diesel 7 seater',\n",
       " '1.4 glx bsiv petrol',\n",
       " 'diesel xl',\n",
       " '2.0 sport diesel',\n",
       " 'petrol hse 7s',\n",
       " 'petrol highline at',\n",
       " 'trend diesel bsiv',\n",
       " 'ex diesel',\n",
       " '1.5 gtx plus diesel',\n",
       " 'smart diesel mt bsiv',\n",
       " '2.0 l diesel lx',\n",
       " 'v cvt diesel bsiv',\n",
       " '85ps diesel rxs',\n",
       " 'diesel asta option',\n",
       " 'xza plus hs amt diesel',\n",
       " '1.5 htx diesel',\n",
       " 'tdv6 auto diesel',\n",
       " '1.4 ex diesel',\n",
       " 'titanium petrol bsiv',\n",
       " 'diesel titanium plus',\n",
       " 'w8 amt diesel bsiv',\n",
       " 'w8 diesel',\n",
       " 'diesel trd sportivo',\n",
       " '1.5 petrol trend',\n",
       " 'ax opt 4-str hard top diesel',\n",
       " 's amt diesel',\n",
       " '1.5 dlx diesel',\n",
       " 'diesel xe',\n",
       " '1.5 petrol rxe',\n",
       " 'petrol trendline 1.2l',\n",
       " 'alpha diesel',\n",
       " 'petrol titanium',\n",
       " 'e petrol bsiv',\n",
       " 'diesel sportz',\n",
       " '1.5 diesel trend',\n",
       " 'ax opt 4-str convert top diesel',\n",
       " 'sx diesel',\n",
       " 'vx petrol',\n",
       " 'diesel d4dg',\n",
       " '1.5 diesel ambiente bsiv',\n",
       " '1.5 htk plus diesel',\n",
       " 'smart diesel mt',\n",
       " '1.5 petrol titanium at',\n",
       " 'w8 diesel bsiv',\n",
       " '1.5 diesel ambiente',\n",
       " 'style diesel mt',\n",
       " 'diesel comfortline',\n",
       " '1.6 ex petrol',\n",
       " 'm sport petrol',\n",
       " 'petrol exi option',\n",
       " '1.0 petrol',\n",
       " 'z8l 6 str diesel',\n",
       " 'diesel lxi',\n",
       " 'prestige 7-seater diesel 2021-2022',\n",
       " '2.5 g4 diesel 8-seater',\n",
       " '1.5 diesel rxe',\n",
       " 'diesel zxi',\n",
       " '1.4 petrol',\n",
       " 'shine diesel mt',\n",
       " '1.4 tdci diesel',\n",
       " 'titanium diesel bsiv',\n",
       " 'xma amt diesel s',\n",
       " '1.5 hte diesel',\n",
       " 'signature edition petrol bsiv',\n",
       " 'w8 amt option diesel dual tone',\n",
       " '220 petrol',\n",
       " 'v petrol',\n",
       " 'petrol magna',\n",
       " '3.6 tdv8 vogue se diesel',\n",
       " 'w8 diesel sunroof',\n",
       " '1.5 diesel rxt',\n",
       " 'sportz petrol',\n",
       " 'prestige 7-seater diesel at 2021-2022',\n",
       " 'diesel d4d js',\n",
       " 'titanium plus petrol bsiv',\n",
       " 'zxi at petrol',\n",
       " 'w4 diesel',\n",
       " '85ps diesel rxl',\n",
       " '1.5 petrol titanium',\n",
       " '1.5 htk diesel',\n",
       " 'xe diesel',\n",
       " 'xza plus dt roof amt diesel',\n",
       " 'lx 4-str convert top diesel',\n",
       " '2.5 ev diesel ms 8 str bsiii',\n",
       " 'petrol titanium plus',\n",
       " 'xza plus amt diesel',\n",
       " 'sx diesel bsiv',\n",
       " 'ax7 awd diesel at',\n",
       " '1.5 petrol rxt',\n",
       " 'ax5 7 str diesel at',\n",
       " '2.0 diesel portfolio',\n",
       " 'ipl ii petrol highline',\n",
       " 'petrol rxe',\n",
       " '1.6 lt petrol',\n",
       " 'luxury plus diesel at 6 str',\n",
       " '1.2 mpi ambiente petrol',\n",
       " 'diesel comfortline 1.2l',\n",
       " '1.6 sx diesel',\n",
       " '2.5 e diesel ms 8-seater',\n",
       " 'petrol cvt magna executive',\n",
       " 'diesel lt',\n",
       " 'w6 diesel bsiv',\n",
       " 'petrol cvt asta',\n",
       " 'sx opt diesel',\n",
       " '1.5 diesel trend bsiv',\n",
       " 'ipl ii 1.2 petrol highline',\n",
       " '2.5 zx diesel 7 seater bsiii',\n",
       " 'xza plus dark edition diesel',\n",
       " '85ps diesel rxl option',\n",
       " 'xv petrol',\n",
       " 'lx 4-str hard top diesel at',\n",
       " 'delta diesel',\n",
       " '1.5 petrol ambiente',\n",
       " 'diesel ps',\n",
       " 'v diesel bsiv',\n",
       " 'xz plus diesel s',\n",
       " 'sportz plus diesel',\n",
       " 'lx 4-str hard top diesel',\n",
       " 'w8 amt diesel',\n",
       " '110ps diesel rxz awd',\n",
       " 'luxury plus diesel at',\n",
       " '1.4 magna opt diesel',\n",
       " 'w8 amt optional diesel bsiv',\n",
       " 'magna plus diesel',\n",
       " '1.6 ls petrol',\n",
       " '1.5 petrol trend bsiv',\n",
       " 'petrol comfortline',\n",
       " 'ax7 diesel at luxury pack',\n",
       " 'xz plus diesel',\n",
       " 'r supercharged 5.0 litre v8 petrol',\n",
       " 's plus diesel',\n",
       " 'petrol 1.4 glx',\n",
       " 'diesel e2',\n",
       " '3.0 petrol hse',\n",
       " '85ps diesel rxz',\n",
       " 'select diesel mt 7 str',\n",
       " 'xma amt diesel',\n",
       " 'petrol highline 1.6l',\n",
       " 'w8 amt optional diesel',\n",
       " '2.0l diesel prestige',\n",
       " 'sharp diesel mt bsiv',\n",
       " 'super diesel mt',\n",
       " 'sx opt executive diesel',\n",
       " 'r-dynamic s petrol my21',\n",
       " 'trend plus diesel',\n",
       " 'vx cvt petrol bsiv',\n",
       " '1.6 glx petrol',\n",
       " 'xz diesel',\n",
       " 'w6 diesel sunroof',\n",
       " 'signature 7-seater diesel at',\n",
       " 'v diesel',\n",
       " '1.5 htk plus diesel at',\n",
       " '3.0 diesel',\n",
       " 'xz plus dark edition diesel',\n",
       " '2.5 v diesel 8-seater',\n",
       " 'e petrol',\n",
       " 'signature diesel at',\n",
       " 'sportz petrol bsiv',\n",
       " 'sx opt diesel sport',\n",
       " 'diesel celebration edition',\n",
       " '85ps diesel rxl explore',\n",
       " '2.5 g4 diesel 7-seater',\n",
       " 'diesel magna',\n",
       " '1.4 glx petrol',\n",
       " '2.0 diesel prestige',\n",
       " '2.0 longitude opt diesel',\n",
       " 'aero gx diesel 8 seater',\n",
       " 'ace edition petrol bsiv',\n",
       " '1.5 diesel platine',\n",
       " 'sx petrol',\n",
       " 'petrol lt abs',\n",
       " '1.5 diesel titanium plus',\n",
       " 's petrol',\n",
       " 'signature diesel',\n",
       " 'w6 diesel',\n",
       " '1.5 diesel trend plus bsiv',\n",
       " 'petrol asta option',\n",
       " 'xm plus diesel',\n",
       " '1.5 gtx plus diesel dt',\n",
       " '85ps diesel rxl optional with nav',\n",
       " 'ipl ii petrol highline at',\n",
       " 'diesel trendline',\n",
       " 'diesel rxz',\n",
       " 'v petrol bsiv',\n",
       " '1.2l diesel ambiente',\n",
       " 'e350 diesel',\n",
       " 'xz plus hs diesel',\n",
       " 'xm diesel s',\n",
       " 'petrol se',\n",
       " 'style edition diesel v',\n",
       " 'xl petrol',\n",
       " '1.6 gls petrol',\n",
       " 'w8 option diesel bsiv',\n",
       " '1.6 sx option executive diesel',\n",
       " 'petrol ls abs',\n",
       " 'petrol spotz',\n",
       " 'petrol zxi',\n",
       " '1.5 petrol titanium plus at bsiv',\n",
       " '85ps diesel rxl optional',\n",
       " '1.5 petrol titanium bsiv',\n",
       " '110ps diesel rxz optional with nav',\n",
       " 'diesel highline',\n",
       " '110ps diesel rxz',\n",
       " 'sharp diesel dualtone',\n",
       " 'z8l diesel 4x4 at',\n",
       " '85ps diesel rxl plus',\n",
       " 'diesel highline 2.0 tdi',\n",
       " 'a petrol',\n",
       " 'petrol se 7s',\n",
       " 'diesel comfortline at',\n",
       " 'petrol lxi',\n",
       " 's diesel',\n",
       " 'ax5 7 str diesel',\n",
       " 's petrol bsiv',\n",
       " '2.0 diesel',\n",
       " '2.5 le 2014 diesel 7 seater bsiii',\n",
       " '2.5 v diesel 7-seater',\n",
       " 'petrol ltz 8 seater',\n",
       " 'petrol trendline',\n",
       " 'awd petrol',\n",
       " 'e250 petrol',\n",
       " 'diesel xv',\n",
       " 'ipl ii petrol trendline',\n",
       " 'a option petrol',\n",
       " 'kraz plus amt diesel',\n",
       " 'petrol',\n",
       " 'petrol asta',\n",
       " '1.5 petrol titanium plus',\n",
       " 'diesel exi',\n",
       " 'diesel base',\n",
       " 'diesel xv premium',\n",
       " '1.6 e plus diesel',\n",
       " 'vx cvt petrol',\n",
       " '1.6 sx option diesel',\n",
       " 'era petrol',\n",
       " 'luxury plus diesel 6 str',\n",
       " 'diesel titanium',\n",
       " 'classic petrol',\n",
       " '110ps diesel rxl amt',\n",
       " 'diesel rxl',\n",
       " 'petrol rxs cvt',\n",
       " 'signature dual tone diesel at',\n",
       " 't option petrol',\n",
       " 'diesel lt option',\n",
       " '110ps diesel rxz amt',\n",
       " 'xz option diesel',\n",
       " 'prestige plus diesel',\n",
       " 'diesel platinum edition',\n",
       " 'kraz diesel',\n",
       " '110ps diesel rxz plus',\n",
       " 'sx opt diesel bsiv',\n",
       " 'v cvt petrol bsiv',\n",
       " 'petrol highline',\n",
       " 'sx dual tone diesel',\n",
       " 'ax7 diesel at luxury pack awd',\n",
       " '1.5 htx plus diesel',\n",
       " '1.5 petrol ambiente bsiv',\n",
       " 'platinum 7-seater diesel at',\n",
       " '1.5 gtx plus diesel at dt',\n",
       " 'sx opt at diesel',\n",
       " 'e350 petrol',\n",
       " '4x2 diesel at',\n",
       " 'sharp diesel mt',\n",
       " 'thunder edition diesel',\n",
       " 'ax7 diesel at',\n",
       " 'petrol base',\n",
       " '1.5 petrol titanium plus at',\n",
       " 'diesel d4dj',\n",
       " '2.5 ev diesel ms 7 str bsiii',\n",
       " '110ps diesel rxz option',\n",
       " '4.4 diesel hse',\n",
       " 'w8 option diesel',\n",
       " '2.0l diesel portfolio',\n",
       " '1.5 htx diesel at',\n",
       " 'sportz diesel',\n",
       " 'lxi petrol',\n",
       " 'diesel trendline 1.2l',\n",
       " 'diesel trend',\n",
       " '1.5 diesel titanium plus bsiv',\n",
       " 'super diesel mt bsiv',\n",
       " '85ps diesel rxe',\n",
       " '85ps diesel rxe adventure',\n",
       " 'petrol highline 1.2l',\n",
       " 's diesel bsiv',\n",
       " '2.5 e diesel ps 7-seater',\n",
       " '2.5 ev diesel ps w/o a/c 7',\n",
       " '1.5 petrol trend plus at bsiv',\n",
       " 'vxi petrol',\n",
       " 'vx diesel bsiv']"
      ]
     },
     "execution_count": 15,
     "metadata": {},
     "output_type": "execute_result"
    }
   ],
   "source": [
    "defaulters"
   ]
  },
  {
   "cell_type": "code",
   "execution_count": 16,
   "id": "9fad7128",
   "metadata": {},
   "outputs": [],
   "source": [
    "def clean_variant(row):\n",
    "    if (('diesel' in row['variant'].split()) | ('petrol' in row['variant'].split())):\n",
    "        splitted = row['variant'].split()\n",
    "        final = [s for s in splitted if s not in ['diesel', 'petrol']]\n",
    "        return ' '.join(final)\n",
    "    else:\n",
    "        return row['variant']"
   ]
  },
  {
   "cell_type": "code",
   "execution_count": 17,
   "id": "57878acb",
   "metadata": {},
   "outputs": [],
   "source": [
    "train['variant'] = train.apply(clean_variant, axis = 1)\n",
    "test['variant'] = test.apply(clean_variant, axis = 1)"
   ]
  },
  {
   "cell_type": "code",
   "execution_count": 18,
   "id": "8694b63d",
   "metadata": {},
   "outputs": [
    {
     "data": {
      "text/plain": [
       "0        None\n",
       "1        None\n",
       "2        None\n",
       "3        None\n",
       "4        None\n",
       "         ... \n",
       "31060    None\n",
       "31061    None\n",
       "31062    None\n",
       "31063    None\n",
       "31064    None\n",
       "Length: 31065, dtype: object"
      ]
     },
     "execution_count": 18,
     "metadata": {},
     "output_type": "execute_result"
    }
   ],
   "source": [
    "defaulters = []\n",
    "train.apply(find_defaulters, axis = 1)"
   ]
  },
  {
   "cell_type": "code",
   "execution_count": 19,
   "id": "3bc99fae",
   "metadata": {},
   "outputs": [
    {
     "data": {
      "text/plain": [
       "[]"
      ]
     },
     "execution_count": 19,
     "metadata": {},
     "output_type": "execute_result"
    }
   ],
   "source": [
    "defaulters"
   ]
  },
  {
   "cell_type": "code",
   "execution_count": 21,
   "id": "e200cac9",
   "metadata": {},
   "outputs": [
    {
     "name": "stdout",
     "output_type": "stream",
     "text": [
      "Previously: \n",
      "No of uniques in variant: 3085\n",
      "Now: \n",
      "No of uniques in variant:  2911\n"
     ]
    }
   ],
   "source": [
    "print(\"Previously: \")\n",
    "print(\"No of uniques in variant: 3085\")\n",
    "print(\"Now: \")\n",
    "print(\"No of uniques in variant: \", train['variant'].nunique())"
   ]
  },
  {
   "cell_type": "code",
   "execution_count": 22,
   "id": "65c0446b",
   "metadata": {},
   "outputs": [],
   "source": [
    "train.to_csv('data_entry_train.csv', index = False)"
   ]
  },
  {
   "cell_type": "markdown",
   "id": "485066d2",
   "metadata": {},
   "source": [
    "## 2. Dealing with categorical columns"
   ]
  },
  {
   "cell_type": "code",
   "execution_count": 167,
   "id": "aee2e2aa",
   "metadata": {},
   "outputs": [
    {
     "data": {
      "text/plain": [
       "['transmission',\n",
       " 'fuel',\n",
       " 'oem',\n",
       " 'model',\n",
       " 'variant',\n",
       " 'Valve Configuration',\n",
       " 'Drive Type',\n",
       " 'Fuel Supply System',\n",
       " 'body',\n",
       " 'Gear Box',\n",
       " 'Steering Type',\n",
       " 'Front Brake Type',\n",
       " 'Rear Brake Type',\n",
       " 'Tyre Type',\n",
       " 'exterior_color']"
      ]
     },
     "execution_count": 167,
     "metadata": {},
     "output_type": "execute_result"
    }
   ],
   "source": [
    "#Finding the categorical columns\n",
    "cat = [col for col in train.columns if train[col].dtype == 'O']\n",
    "cat"
   ]
  },
  {
   "cell_type": "markdown",
   "id": "4b18a540",
   "metadata": {},
   "source": [
    "### 2.1. Transmission"
   ]
  },
  {
   "cell_type": "code",
   "execution_count": 168,
   "id": "41fdf2dc",
   "metadata": {},
   "outputs": [],
   "source": [
    "comparison = {}\n",
    "for col in cat:\n",
    "    varname = f'{col}_price'\n",
    "    comparison[varname] = train.groupby(f'{col}')['listed_price'].agg([np.mean, min, max])"
   ]
  },
  {
   "cell_type": "code",
   "execution_count": 169,
   "id": "48b6fa81",
   "metadata": {},
   "outputs": [
    {
     "data": {
      "text/html": [
       "<div>\n",
       "<style scoped>\n",
       "    .dataframe tbody tr th:only-of-type {\n",
       "        vertical-align: middle;\n",
       "    }\n",
       "\n",
       "    .dataframe tbody tr th {\n",
       "        vertical-align: top;\n",
       "    }\n",
       "\n",
       "    .dataframe thead th {\n",
       "        text-align: right;\n",
       "    }\n",
       "</style>\n",
       "<table border=\"1\" class=\"dataframe\">\n",
       "  <thead>\n",
       "    <tr style=\"text-align: right;\">\n",
       "      <th></th>\n",
       "      <th>mean</th>\n",
       "      <th>min</th>\n",
       "      <th>max</th>\n",
       "    </tr>\n",
       "    <tr>\n",
       "      <th>transmission</th>\n",
       "      <th></th>\n",
       "      <th></th>\n",
       "      <th></th>\n",
       "    </tr>\n",
       "  </thead>\n",
       "  <tbody>\n",
       "    <tr>\n",
       "      <th>automatic</th>\n",
       "      <td>1.469067e+06</td>\n",
       "      <td>60000.0</td>\n",
       "      <td>28300000.0</td>\n",
       "    </tr>\n",
       "    <tr>\n",
       "      <th>manual</th>\n",
       "      <td>5.081978e+05</td>\n",
       "      <td>11963.0</td>\n",
       "      <td>3200000.0</td>\n",
       "    </tr>\n",
       "  </tbody>\n",
       "</table>\n",
       "</div>"
      ],
      "text/plain": [
       "                      mean      min         max\n",
       "transmission                                   \n",
       "automatic     1.469067e+06  60000.0  28300000.0\n",
       "manual        5.081978e+05  11963.0   3200000.0"
      ]
     },
     "execution_count": 169,
     "metadata": {},
     "output_type": "execute_result"
    }
   ],
   "source": [
    "comparison['transmission_price']\n",
    "#Clearly automatic cars are more expensive"
   ]
  },
  {
   "cell_type": "code",
   "execution_count": 170,
   "id": "2ed6c2de",
   "metadata": {},
   "outputs": [],
   "source": [
    "def convert_transmission(row):\n",
    "    if row['transmission'] == 'manual':\n",
    "        return 0\n",
    "    if row['transmission'] == 'automatic':\n",
    "        return 1"
   ]
  },
  {
   "cell_type": "markdown",
   "id": "ddb6203d",
   "metadata": {},
   "source": [
    "### 2.2. Fuel"
   ]
  },
  {
   "cell_type": "code",
   "execution_count": 171,
   "id": "6f1ad37b",
   "metadata": {},
   "outputs": [
    {
     "data": {
      "text/html": [
       "<div>\n",
       "<style scoped>\n",
       "    .dataframe tbody tr th:only-of-type {\n",
       "        vertical-align: middle;\n",
       "    }\n",
       "\n",
       "    .dataframe tbody tr th {\n",
       "        vertical-align: top;\n",
       "    }\n",
       "\n",
       "    .dataframe thead th {\n",
       "        text-align: right;\n",
       "    }\n",
       "</style>\n",
       "<table border=\"1\" class=\"dataframe\">\n",
       "  <thead>\n",
       "    <tr style=\"text-align: right;\">\n",
       "      <th></th>\n",
       "      <th>mean</th>\n",
       "      <th>min</th>\n",
       "      <th>max</th>\n",
       "    </tr>\n",
       "    <tr>\n",
       "      <th>fuel</th>\n",
       "      <th></th>\n",
       "      <th></th>\n",
       "      <th></th>\n",
       "    </tr>\n",
       "  </thead>\n",
       "  <tbody>\n",
       "    <tr>\n",
       "      <th>cng</th>\n",
       "      <td>4.254505e+05</td>\n",
       "      <td>50000.0</td>\n",
       "      <td>1200000.0</td>\n",
       "    </tr>\n",
       "    <tr>\n",
       "      <th>diesel</th>\n",
       "      <td>9.493799e+05</td>\n",
       "      <td>11963.0</td>\n",
       "      <td>18500000.0</td>\n",
       "    </tr>\n",
       "    <tr>\n",
       "      <th>electric</th>\n",
       "      <td>1.498626e+06</td>\n",
       "      <td>236204.0</td>\n",
       "      <td>9000000.0</td>\n",
       "    </tr>\n",
       "    <tr>\n",
       "      <th>lpg</th>\n",
       "      <td>1.740199e+05</td>\n",
       "      <td>50000.0</td>\n",
       "      <td>350000.0</td>\n",
       "    </tr>\n",
       "    <tr>\n",
       "      <th>petrol</th>\n",
       "      <td>5.726273e+05</td>\n",
       "      <td>25000.0</td>\n",
       "      <td>28300000.0</td>\n",
       "    </tr>\n",
       "  </tbody>\n",
       "</table>\n",
       "</div>"
      ],
      "text/plain": [
       "                  mean       min         max\n",
       "fuel                                        \n",
       "cng       4.254505e+05   50000.0   1200000.0\n",
       "diesel    9.493799e+05   11963.0  18500000.0\n",
       "electric  1.498626e+06  236204.0   9000000.0\n",
       "lpg       1.740199e+05   50000.0    350000.0\n",
       "petrol    5.726273e+05   25000.0  28300000.0"
      ]
     },
     "execution_count": 171,
     "metadata": {},
     "output_type": "execute_result"
    }
   ],
   "source": [
    "comparison['fuel_price']\n",
    "#Also upon further research clear hierarchy is present\n",
    "#electric > diesel > petrol > cng > lpg"
   ]
  },
  {
   "cell_type": "code",
   "execution_count": 172,
   "id": "b0a27a56",
   "metadata": {},
   "outputs": [],
   "source": [
    "def convert_fuel(row):\n",
    "    if row['fuel'] == 'lpg':\n",
    "        return 0\n",
    "    if row['fuel'] == 'cng':\n",
    "        return 1\n",
    "    if row['fuel'] == 'petrol':\n",
    "        return 2\n",
    "    if row['fuel'] == 'diesel':\n",
    "        return 3\n",
    "    if row['fuel'] == 'electric':\n",
    "        return 4"
   ]
  },
  {
   "cell_type": "markdown",
   "id": "be4310a0",
   "metadata": {},
   "source": [
    "### Drive Type"
   ]
  },
  {
   "cell_type": "code",
   "execution_count": 173,
   "id": "8995d34c",
   "metadata": {},
   "outputs": [
    {
     "data": {
      "text/html": [
       "<div>\n",
       "<style scoped>\n",
       "    .dataframe tbody tr th:only-of-type {\n",
       "        vertical-align: middle;\n",
       "    }\n",
       "\n",
       "    .dataframe tbody tr th {\n",
       "        vertical-align: top;\n",
       "    }\n",
       "\n",
       "    .dataframe thead th {\n",
       "        text-align: right;\n",
       "    }\n",
       "</style>\n",
       "<table border=\"1\" class=\"dataframe\">\n",
       "  <thead>\n",
       "    <tr style=\"text-align: right;\">\n",
       "      <th></th>\n",
       "      <th>mean</th>\n",
       "      <th>min</th>\n",
       "      <th>max</th>\n",
       "    </tr>\n",
       "    <tr>\n",
       "      <th>Drive Type</th>\n",
       "      <th></th>\n",
       "      <th></th>\n",
       "      <th></th>\n",
       "    </tr>\n",
       "  </thead>\n",
       "  <tbody>\n",
       "    <tr>\n",
       "      <th>2wd</th>\n",
       "      <td>7.967986e+05</td>\n",
       "      <td>40000.0</td>\n",
       "      <td>4600000.0</td>\n",
       "    </tr>\n",
       "    <tr>\n",
       "      <th>awd</th>\n",
       "      <td>2.114139e+06</td>\n",
       "      <td>170000.0</td>\n",
       "      <td>28300000.0</td>\n",
       "    </tr>\n",
       "    <tr>\n",
       "      <th>fwd</th>\n",
       "      <td>5.807789e+05</td>\n",
       "      <td>11963.0</td>\n",
       "      <td>6585000.0</td>\n",
       "    </tr>\n",
       "    <tr>\n",
       "      <th>rwd</th>\n",
       "      <td>1.379340e+06</td>\n",
       "      <td>50000.0</td>\n",
       "      <td>10000000.0</td>\n",
       "    </tr>\n",
       "  </tbody>\n",
       "</table>\n",
       "</div>"
      ],
      "text/plain": [
       "                    mean       min         max\n",
       "Drive Type                                    \n",
       "2wd         7.967986e+05   40000.0   4600000.0\n",
       "awd         2.114139e+06  170000.0  28300000.0\n",
       "fwd         5.807789e+05   11963.0   6585000.0\n",
       "rwd         1.379340e+06   50000.0  10000000.0"
      ]
     },
     "execution_count": 173,
     "metadata": {},
     "output_type": "execute_result"
    }
   ],
   "source": [
    "comparison['Drive Type_price']\n",
    "#Upon research the hierarchy is same\n",
    "#awd > rwd > 2wd > fwd"
   ]
  },
  {
   "cell_type": "code",
   "execution_count": 174,
   "id": "6e88ae6a",
   "metadata": {},
   "outputs": [],
   "source": [
    "def convert_DriveType(row):\n",
    "    if row['Drive Type'] == 'awd':\n",
    "        return 4\n",
    "    if row['Drive Type'] == 'rwd':\n",
    "        return 3\n",
    "    if row['Drive Type'] == '2wd':\n",
    "        return 2\n",
    "    if row['Drive Type'] == 'fwd':\n",
    "        return 1"
   ]
  },
  {
   "cell_type": "code",
   "execution_count": 177,
   "id": "6b6349a9",
   "metadata": {},
   "outputs": [],
   "source": [
    "train['transmission'] = train.apply(convert_transmission, axis = 1)\n",
    "train['Drive Type'] = train.apply(convert_DriveType, axis = 1)\n",
    "train['fuel'] = train.apply(convert_fuel, axis = 1)\n",
    "\n",
    "test['transmission'] = test.apply(convert_transmission, axis = 1)\n",
    "test['Drive Type'] = test.apply(convert_DriveType, axis = 1)\n",
    "test['fuel'] = test.apply(convert_fuel, axis = 1)"
   ]
  },
  {
   "cell_type": "code",
   "execution_count": 179,
   "id": "0ec909de",
   "metadata": {},
   "outputs": [
    {
     "data": {
      "text/plain": [
       "['myear',\n",
       " 'transmission',\n",
       " 'fuel',\n",
       " 'km',\n",
       " 'Turbo Charger',\n",
       " 'Kerb Weight',\n",
       " 'Drive Type',\n",
       " 'Seats',\n",
       " 'Top Speed',\n",
       " 'Acceleration',\n",
       " 'Doors',\n",
       " 'Cargo Volume',\n",
       " 'owner_type',\n",
       " 'Max Torque Delivered',\n",
       " 'listed_price',\n",
       " 'avg_measure',\n",
       " 'Features',\n",
       " 'Valves',\n",
       " 'Tread']"
      ]
     },
     "execution_count": 179,
     "metadata": {},
     "output_type": "execute_result"
    }
   ],
   "source": [
    "num_cols = [col for col in train if train[col].dtype != 'O']\n",
    "num_cols"
   ]
  },
  {
   "cell_type": "code",
   "execution_count": 180,
   "id": "4f73fd03",
   "metadata": {},
   "outputs": [],
   "source": [
    "train.to_csv('train3.csv', index = False)\n",
    "test.to_csv('test3.csv', index = False)"
   ]
  },
  {
   "cell_type": "code",
   "execution_count": null,
   "id": "f8aff3c4",
   "metadata": {},
   "outputs": [],
   "source": []
  },
  {
   "cell_type": "code",
   "execution_count": null,
   "id": "371f26af",
   "metadata": {},
   "outputs": [],
   "source": []
  },
  {
   "cell_type": "code",
   "execution_count": null,
   "id": "988833b6",
   "metadata": {},
   "outputs": [],
   "source": []
  },
  {
   "cell_type": "code",
   "execution_count": null,
   "id": "36f1a299",
   "metadata": {},
   "outputs": [],
   "source": []
  },
  {
   "cell_type": "code",
   "execution_count": null,
   "id": "1defba7b",
   "metadata": {},
   "outputs": [],
   "source": []
  },
  {
   "cell_type": "code",
   "execution_count": null,
   "id": "f423a059",
   "metadata": {},
   "outputs": [],
   "source": []
  },
  {
   "cell_type": "code",
   "execution_count": null,
   "id": "e22b35ad",
   "metadata": {},
   "outputs": [],
   "source": []
  },
  {
   "cell_type": "code",
   "execution_count": null,
   "id": "69c4cac0",
   "metadata": {},
   "outputs": [],
   "source": []
  },
  {
   "cell_type": "code",
   "execution_count": null,
   "id": "aae791c4",
   "metadata": {},
   "outputs": [],
   "source": []
  },
  {
   "cell_type": "code",
   "execution_count": null,
   "id": "a36d8f8d",
   "metadata": {},
   "outputs": [],
   "source": []
  }
 ],
 "metadata": {
  "kernelspec": {
   "display_name": "Python 3 (ipykernel)",
   "language": "python",
   "name": "python3"
  },
  "language_info": {
   "codemirror_mode": {
    "name": "ipython",
    "version": 3
   },
   "file_extension": ".py",
   "mimetype": "text/x-python",
   "name": "python",
   "nbconvert_exporter": "python",
   "pygments_lexer": "ipython3",
   "version": "3.9.13"
  }
 },
 "nbformat": 4,
 "nbformat_minor": 5
}
