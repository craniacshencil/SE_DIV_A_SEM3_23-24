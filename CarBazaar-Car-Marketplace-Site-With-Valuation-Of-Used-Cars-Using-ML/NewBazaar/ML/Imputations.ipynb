{
 "cells": [
  {
   "cell_type": "code",
   "execution_count": 1,
   "id": "9e50146a",
   "metadata": {
    "_cell_guid": "b1076dfc-b9ad-4769-8c92-a6c4dae69d19",
    "_uuid": "8f2839f25d086af736a60e9eeb907d3b93b6e0e5",
    "execution": {
     "iopub.execute_input": "2023-08-11T16:41:26.255736Z",
     "iopub.status.busy": "2023-08-11T16:41:26.255182Z",
     "iopub.status.idle": "2023-08-11T16:41:28.124758Z",
     "shell.execute_reply": "2023-08-11T16:41:28.123163Z"
    },
    "papermill": {
     "duration": 1.88412,
     "end_time": "2023-08-11T16:41:28.127766",
     "exception": false,
     "start_time": "2023-08-11T16:41:26.243646",
     "status": "completed"
    },
    "tags": []
   },
   "outputs": [],
   "source": [
    "import numpy as np \n",
    "import pandas as pd \n",
    "import seaborn as sns\n",
    "import matplotlib.pyplot as plt"
   ]
  },
  {
   "cell_type": "code",
   "execution_count": 2,
   "id": "999a0626",
   "metadata": {
    "execution": {
     "iopub.execute_input": "2023-08-11T16:41:28.148853Z",
     "iopub.status.busy": "2023-08-11T16:41:28.148402Z",
     "iopub.status.idle": "2023-08-11T16:41:30.118772Z",
     "shell.execute_reply": "2023-08-11T16:41:30.117467Z"
    },
    "papermill": {
     "duration": 1.984535,
     "end_time": "2023-08-11T16:41:30.121929",
     "exception": false,
     "start_time": "2023-08-11T16:41:28.137394",
     "status": "completed"
    },
    "tags": []
   },
   "outputs": [],
   "source": [
    "path = 'old_data/cars_data_clean.csv'\n",
    "df = pd.read_csv(path)"
   ]
  },
  {
   "cell_type": "code",
   "execution_count": 3,
   "id": "905a30b3",
   "metadata": {
    "execution": {
     "iopub.execute_input": "2023-08-11T16:41:30.143838Z",
     "iopub.status.busy": "2023-08-11T16:41:30.143384Z",
     "iopub.status.idle": "2023-08-11T16:41:30.164132Z",
     "shell.execute_reply": "2023-08-11T16:41:30.162923Z"
    },
    "papermill": {
     "duration": 0.034318,
     "end_time": "2023-08-11T16:41:30.167006",
     "exception": false,
     "start_time": "2023-08-11T16:41:30.132688",
     "status": "completed"
    },
    "tags": []
   },
   "outputs": [],
   "source": [
    "info_path = \"old_data/feature_dictionary.csv\"\n",
    "info = pd.read_csv(info_path, index_col = 'Feature')"
   ]
  },
  {
   "cell_type": "code",
   "execution_count": 4,
   "id": "4adbed42",
   "metadata": {
    "execution": {
     "iopub.execute_input": "2023-08-11T16:41:30.186389Z",
     "iopub.status.busy": "2023-08-11T16:41:30.185883Z",
     "iopub.status.idle": "2023-08-11T16:41:30.228793Z",
     "shell.execute_reply": "2023-08-11T16:41:30.227373Z"
    },
    "papermill": {
     "duration": 0.055839,
     "end_time": "2023-08-11T16:41:30.231576",
     "exception": false,
     "start_time": "2023-08-11T16:41:30.175737",
     "status": "completed"
    },
    "tags": []
   },
   "outputs": [
    {
     "data": {
      "text/html": [
       "<div>\n",
       "<style scoped>\n",
       "    .dataframe tbody tr th:only-of-type {\n",
       "        vertical-align: middle;\n",
       "    }\n",
       "\n",
       "    .dataframe tbody tr th {\n",
       "        vertical-align: top;\n",
       "    }\n",
       "\n",
       "    .dataframe thead th {\n",
       "        text-align: right;\n",
       "    }\n",
       "</style>\n",
       "<table border=\"1\" class=\"dataframe\">\n",
       "  <thead>\n",
       "    <tr style=\"text-align: right;\">\n",
       "      <th></th>\n",
       "      <th>usedCarSkuId</th>\n",
       "      <th>loc</th>\n",
       "      <th>myear</th>\n",
       "      <th>body</th>\n",
       "      <th>transmission</th>\n",
       "      <th>fuel</th>\n",
       "      <th>km</th>\n",
       "      <th>ip</th>\n",
       "      <th>images</th>\n",
       "      <th>imgCount</th>\n",
       "      <th>...</th>\n",
       "      <th>Fuel Suppy System</th>\n",
       "      <th>Compression Ratio</th>\n",
       "      <th>Alloy Wheel Size</th>\n",
       "      <th>Ground Clearance Unladen</th>\n",
       "      <th>Max Power Delivered</th>\n",
       "      <th>Max Power At</th>\n",
       "      <th>Max Torque Delivered</th>\n",
       "      <th>Max Torque At</th>\n",
       "      <th>Bore</th>\n",
       "      <th>Stroke</th>\n",
       "    </tr>\n",
       "  </thead>\n",
       "  <tbody>\n",
       "    <tr>\n",
       "      <th>0</th>\n",
       "      <td>7111bf25-97af-47f9-867b-40879190d800</td>\n",
       "      <td>gomti nagar</td>\n",
       "      <td>2016</td>\n",
       "      <td>hatchback</td>\n",
       "      <td>manual</td>\n",
       "      <td>cng</td>\n",
       "      <td>69162.0</td>\n",
       "      <td>0</td>\n",
       "      <td>[{'img': 'https://images10.gaadi.com/usedcar_i...</td>\n",
       "      <td>15</td>\n",
       "      <td>...</td>\n",
       "      <td>NaN</td>\n",
       "      <td>NaN</td>\n",
       "      <td>NaN</td>\n",
       "      <td>NaN</td>\n",
       "      <td>58.16</td>\n",
       "      <td>6200.0</td>\n",
       "      <td>77.0</td>\n",
       "      <td>3500.0</td>\n",
       "      <td>69.0</td>\n",
       "      <td>NaN</td>\n",
       "    </tr>\n",
       "    <tr>\n",
       "      <th>1</th>\n",
       "      <td>c309efc1-efaf-4f82-81ad-dcb38eb36665</td>\n",
       "      <td>borivali west</td>\n",
       "      <td>2015</td>\n",
       "      <td>hatchback</td>\n",
       "      <td>manual</td>\n",
       "      <td>cng</td>\n",
       "      <td>45864.0</td>\n",
       "      <td>0</td>\n",
       "      <td>[{'img': 'https://images10.gaadi.com/usedcar_i...</td>\n",
       "      <td>15</td>\n",
       "      <td>...</td>\n",
       "      <td>Gasoline Port Injection</td>\n",
       "      <td>11.0</td>\n",
       "      <td>NaN</td>\n",
       "      <td>NaN</td>\n",
       "      <td>58.20</td>\n",
       "      <td>6000.0</td>\n",
       "      <td>78.0</td>\n",
       "      <td>3500.0</td>\n",
       "      <td>73.0</td>\n",
       "      <td>NaN</td>\n",
       "    </tr>\n",
       "    <tr>\n",
       "      <th>2</th>\n",
       "      <td>7609f710-0c97-4f00-9a47-9b9284b62d3a</td>\n",
       "      <td>jasola</td>\n",
       "      <td>2015</td>\n",
       "      <td>sedan</td>\n",
       "      <td>manual</td>\n",
       "      <td>cng</td>\n",
       "      <td>81506.0</td>\n",
       "      <td>0</td>\n",
       "      <td>[{'img': 'https://images10.gaadi.com/usedcar_i...</td>\n",
       "      <td>15</td>\n",
       "      <td>...</td>\n",
       "      <td>NaN</td>\n",
       "      <td>NaN</td>\n",
       "      <td>NaN</td>\n",
       "      <td>NaN</td>\n",
       "      <td>86.70</td>\n",
       "      <td>6000.0</td>\n",
       "      <td>109.0</td>\n",
       "      <td>4500.0</td>\n",
       "      <td>NaN</td>\n",
       "      <td>NaN</td>\n",
       "    </tr>\n",
       "  </tbody>\n",
       "</table>\n",
       "<p>3 rows × 66 columns</p>\n",
       "</div>"
      ],
      "text/plain": [
       "                           usedCarSkuId            loc  myear       body  \\\n",
       "0  7111bf25-97af-47f9-867b-40879190d800    gomti nagar   2016  hatchback   \n",
       "1  c309efc1-efaf-4f82-81ad-dcb38eb36665  borivali west   2015  hatchback   \n",
       "2  7609f710-0c97-4f00-9a47-9b9284b62d3a         jasola   2015      sedan   \n",
       "\n",
       "  transmission fuel       km  ip  \\\n",
       "0       manual  cng  69162.0   0   \n",
       "1       manual  cng  45864.0   0   \n",
       "2       manual  cng  81506.0   0   \n",
       "\n",
       "                                              images  imgCount  ...  \\\n",
       "0  [{'img': 'https://images10.gaadi.com/usedcar_i...        15  ...   \n",
       "1  [{'img': 'https://images10.gaadi.com/usedcar_i...        15  ...   \n",
       "2  [{'img': 'https://images10.gaadi.com/usedcar_i...        15  ...   \n",
       "\n",
       "         Fuel Suppy System Compression Ratio Alloy Wheel Size  \\\n",
       "0                      NaN               NaN              NaN   \n",
       "1  Gasoline Port Injection              11.0              NaN   \n",
       "2                      NaN               NaN              NaN   \n",
       "\n",
       "  Ground Clearance Unladen Max Power Delivered Max Power At  \\\n",
       "0                      NaN               58.16       6200.0   \n",
       "1                      NaN               58.20       6000.0   \n",
       "2                      NaN               86.70       6000.0   \n",
       "\n",
       "   Max Torque Delivered  Max Torque At  Bore Stroke  \n",
       "0                  77.0         3500.0  69.0    NaN  \n",
       "1                  78.0         3500.0  73.0    NaN  \n",
       "2                 109.0         4500.0   NaN    NaN  \n",
       "\n",
       "[3 rows x 66 columns]"
      ]
     },
     "execution_count": 4,
     "metadata": {},
     "output_type": "execute_result"
    }
   ],
   "source": [
    "df.head(3)"
   ]
  },
  {
   "cell_type": "code",
   "execution_count": 5,
   "id": "b4099c29",
   "metadata": {
    "execution": {
     "iopub.execute_input": "2023-08-11T16:41:30.252112Z",
     "iopub.status.busy": "2023-08-11T16:41:30.251734Z",
     "iopub.status.idle": "2023-08-11T16:41:30.258797Z",
     "shell.execute_reply": "2023-08-11T16:41:30.257531Z"
    },
    "papermill": {
     "duration": 0.020321,
     "end_time": "2023-08-11T16:41:30.261303",
     "exception": false,
     "start_time": "2023-08-11T16:41:30.240982",
     "status": "completed"
    },
    "tags": []
   },
   "outputs": [
    {
     "data": {
      "text/html": [
       "<div>\n",
       "<style scoped>\n",
       "    .dataframe tbody tr th:only-of-type {\n",
       "        vertical-align: middle;\n",
       "    }\n",
       "\n",
       "    .dataframe tbody tr th {\n",
       "        vertical-align: top;\n",
       "    }\n",
       "\n",
       "    .dataframe thead th {\n",
       "        text-align: right;\n",
       "    }\n",
       "</style>\n",
       "<table border=\"1\" class=\"dataframe\">\n",
       "  <thead>\n",
       "    <tr style=\"text-align: right;\">\n",
       "      <th></th>\n",
       "      <th>usedCarSkuId</th>\n",
       "      <th>loc</th>\n",
       "      <th>myear</th>\n",
       "      <th>body</th>\n",
       "      <th>transmission</th>\n",
       "      <th>fuel</th>\n",
       "      <th>km</th>\n",
       "      <th>ip</th>\n",
       "      <th>images</th>\n",
       "      <th>imgCount</th>\n",
       "      <th>...</th>\n",
       "      <th>Fuel Suppy System</th>\n",
       "      <th>Compression Ratio</th>\n",
       "      <th>Alloy Wheel Size</th>\n",
       "      <th>Ground Clearance Unladen</th>\n",
       "      <th>Max Power Delivered</th>\n",
       "      <th>Max Power At</th>\n",
       "      <th>Max Torque Delivered</th>\n",
       "      <th>Max Torque At</th>\n",
       "      <th>Bore</th>\n",
       "      <th>Stroke</th>\n",
       "    </tr>\n",
       "  </thead>\n",
       "  <tbody>\n",
       "    <tr>\n",
       "      <th>0</th>\n",
       "      <td>7111bf25-97af-47f9-867b-40879190d800</td>\n",
       "      <td>gomti nagar</td>\n",
       "      <td>2016</td>\n",
       "      <td>hatchback</td>\n",
       "      <td>manual</td>\n",
       "      <td>cng</td>\n",
       "      <td>69162.0</td>\n",
       "      <td>0</td>\n",
       "      <td>[{'img': 'https://images10.gaadi.com/usedcar_i...</td>\n",
       "      <td>15</td>\n",
       "      <td>...</td>\n",
       "      <td>NaN</td>\n",
       "      <td>NaN</td>\n",
       "      <td>NaN</td>\n",
       "      <td>NaN</td>\n",
       "      <td>58.16</td>\n",
       "      <td>6200.0</td>\n",
       "      <td>77.0</td>\n",
       "      <td>3500.0</td>\n",
       "      <td>69.0</td>\n",
       "      <td>NaN</td>\n",
       "    </tr>\n",
       "    <tr>\n",
       "      <th>1</th>\n",
       "      <td>c309efc1-efaf-4f82-81ad-dcb38eb36665</td>\n",
       "      <td>borivali west</td>\n",
       "      <td>2015</td>\n",
       "      <td>hatchback</td>\n",
       "      <td>manual</td>\n",
       "      <td>cng</td>\n",
       "      <td>45864.0</td>\n",
       "      <td>0</td>\n",
       "      <td>[{'img': 'https://images10.gaadi.com/usedcar_i...</td>\n",
       "      <td>15</td>\n",
       "      <td>...</td>\n",
       "      <td>Gasoline Port Injection</td>\n",
       "      <td>11.0</td>\n",
       "      <td>NaN</td>\n",
       "      <td>NaN</td>\n",
       "      <td>58.20</td>\n",
       "      <td>6000.0</td>\n",
       "      <td>78.0</td>\n",
       "      <td>3500.0</td>\n",
       "      <td>73.0</td>\n",
       "      <td>NaN</td>\n",
       "    </tr>\n",
       "    <tr>\n",
       "      <th>2</th>\n",
       "      <td>7609f710-0c97-4f00-9a47-9b9284b62d3a</td>\n",
       "      <td>jasola</td>\n",
       "      <td>2015</td>\n",
       "      <td>sedan</td>\n",
       "      <td>manual</td>\n",
       "      <td>cng</td>\n",
       "      <td>81506.0</td>\n",
       "      <td>0</td>\n",
       "      <td>[{'img': 'https://images10.gaadi.com/usedcar_i...</td>\n",
       "      <td>15</td>\n",
       "      <td>...</td>\n",
       "      <td>NaN</td>\n",
       "      <td>NaN</td>\n",
       "      <td>NaN</td>\n",
       "      <td>NaN</td>\n",
       "      <td>86.70</td>\n",
       "      <td>6000.0</td>\n",
       "      <td>109.0</td>\n",
       "      <td>4500.0</td>\n",
       "      <td>NaN</td>\n",
       "      <td>NaN</td>\n",
       "    </tr>\n",
       "    <tr>\n",
       "      <th>3</th>\n",
       "      <td>278b76e3-5539-4a5e-ae3e-353a2e3b6d7d</td>\n",
       "      <td>jasola</td>\n",
       "      <td>2013</td>\n",
       "      <td>hatchback</td>\n",
       "      <td>manual</td>\n",
       "      <td>cng</td>\n",
       "      <td>115893.0</td>\n",
       "      <td>0</td>\n",
       "      <td>[{'img': ''}]</td>\n",
       "      <td>0</td>\n",
       "      <td>...</td>\n",
       "      <td>Multi-Point Fuel Injection</td>\n",
       "      <td>NaN</td>\n",
       "      <td>13.0</td>\n",
       "      <td>NaN</td>\n",
       "      <td>58.20</td>\n",
       "      <td>6200.0</td>\n",
       "      <td>77.0</td>\n",
       "      <td>3500.0</td>\n",
       "      <td>NaN</td>\n",
       "      <td>NaN</td>\n",
       "    </tr>\n",
       "    <tr>\n",
       "      <th>4</th>\n",
       "      <td>b1eab99b-a606-48dd-a75b-57feb8a9ad92</td>\n",
       "      <td>mumbai g.p.o.</td>\n",
       "      <td>2022</td>\n",
       "      <td>muv</td>\n",
       "      <td>manual</td>\n",
       "      <td>cng</td>\n",
       "      <td>18900.0</td>\n",
       "      <td>0</td>\n",
       "      <td>[{'img': 'https://images10.gaadi.com/usedcar_i...</td>\n",
       "      <td>6</td>\n",
       "      <td>...</td>\n",
       "      <td>NaN</td>\n",
       "      <td>12.0</td>\n",
       "      <td>NaN</td>\n",
       "      <td>NaN</td>\n",
       "      <td>86.63</td>\n",
       "      <td>5500.0</td>\n",
       "      <td>121.5</td>\n",
       "      <td>4200.0</td>\n",
       "      <td>NaN</td>\n",
       "      <td>NaN</td>\n",
       "    </tr>\n",
       "    <tr>\n",
       "      <th>...</th>\n",
       "      <td>...</td>\n",
       "      <td>...</td>\n",
       "      <td>...</td>\n",
       "      <td>...</td>\n",
       "      <td>...</td>\n",
       "      <td>...</td>\n",
       "      <td>...</td>\n",
       "      <td>...</td>\n",
       "      <td>...</td>\n",
       "      <td>...</td>\n",
       "      <td>...</td>\n",
       "      <td>...</td>\n",
       "      <td>...</td>\n",
       "      <td>...</td>\n",
       "      <td>...</td>\n",
       "      <td>...</td>\n",
       "      <td>...</td>\n",
       "      <td>...</td>\n",
       "      <td>...</td>\n",
       "      <td>...</td>\n",
       "      <td>...</td>\n",
       "    </tr>\n",
       "    <tr>\n",
       "      <th>37808</th>\n",
       "      <td>ee6ce523-2aa6-4852-96a1-86b9bc277377</td>\n",
       "      <td>thathawade</td>\n",
       "      <td>2018</td>\n",
       "      <td>suv</td>\n",
       "      <td>manual</td>\n",
       "      <td>diesel</td>\n",
       "      <td>49882.0</td>\n",
       "      <td>0</td>\n",
       "      <td>[{'img': 'https://images10.gaadi.com/usedcar_i...</td>\n",
       "      <td>15</td>\n",
       "      <td>...</td>\n",
       "      <td>Common Rail Injection</td>\n",
       "      <td>NaN</td>\n",
       "      <td>16.0</td>\n",
       "      <td>209.0</td>\n",
       "      <td>108.50</td>\n",
       "      <td>3750.0</td>\n",
       "      <td>260.0</td>\n",
       "      <td>2125.0</td>\n",
       "      <td>76.0</td>\n",
       "      <td>82.5</td>\n",
       "    </tr>\n",
       "    <tr>\n",
       "      <th>37809</th>\n",
       "      <td>ba1994ac-53ab-4baf-913e-b72f01a37b5d</td>\n",
       "      <td>kharadi</td>\n",
       "      <td>2011</td>\n",
       "      <td>sedan</td>\n",
       "      <td>manual</td>\n",
       "      <td>diesel</td>\n",
       "      <td>82843.0</td>\n",
       "      <td>0</td>\n",
       "      <td>[{'img': 'https://images10.gaadi.com/usedcar_i...</td>\n",
       "      <td>27</td>\n",
       "      <td>...</td>\n",
       "      <td>Common Rail Injection</td>\n",
       "      <td>NaN</td>\n",
       "      <td>15.0</td>\n",
       "      <td>NaN</td>\n",
       "      <td>88.80</td>\n",
       "      <td>4000.0</td>\n",
       "      <td>200.0</td>\n",
       "      <td>2375.0</td>\n",
       "      <td>NaN</td>\n",
       "      <td>NaN</td>\n",
       "    </tr>\n",
       "    <tr>\n",
       "      <th>37810</th>\n",
       "      <td>8f4448ae-53f5-4a3f-b13d-2401dd60c624</td>\n",
       "      <td>kothrud</td>\n",
       "      <td>2020</td>\n",
       "      <td>hatchback</td>\n",
       "      <td>manual</td>\n",
       "      <td>diesel</td>\n",
       "      <td>58000.0</td>\n",
       "      <td>0</td>\n",
       "      <td>[{'img': 'https://images10.gaadi.com/usedcar_i...</td>\n",
       "      <td>11</td>\n",
       "      <td>...</td>\n",
       "      <td>NaN</td>\n",
       "      <td>NaN</td>\n",
       "      <td>16.0</td>\n",
       "      <td>NaN</td>\n",
       "      <td>88.77</td>\n",
       "      <td>4000.0</td>\n",
       "      <td>200.0</td>\n",
       "      <td>2125.0</td>\n",
       "      <td>NaN</td>\n",
       "      <td>NaN</td>\n",
       "    </tr>\n",
       "    <tr>\n",
       "      <th>37811</th>\n",
       "      <td>dbf9b629-7215-494b-a62d-ba1408531362</td>\n",
       "      <td>kothrud</td>\n",
       "      <td>2014</td>\n",
       "      <td>hatchback</td>\n",
       "      <td>manual</td>\n",
       "      <td>diesel</td>\n",
       "      <td>62000.0</td>\n",
       "      <td>0</td>\n",
       "      <td>[{'img': 'https://images10.gaadi.com/usedcar_i...</td>\n",
       "      <td>8</td>\n",
       "      <td>...</td>\n",
       "      <td>Common Rail Injection</td>\n",
       "      <td>NaN</td>\n",
       "      <td>NaN</td>\n",
       "      <td>NaN</td>\n",
       "      <td>69.00</td>\n",
       "      <td>4000.0</td>\n",
       "      <td>140.0</td>\n",
       "      <td>2400.0</td>\n",
       "      <td>NaN</td>\n",
       "      <td>NaN</td>\n",
       "    </tr>\n",
       "    <tr>\n",
       "      <th>37812</th>\n",
       "      <td>a96fbcd7-c183-4829-ae97-b2581afe4bac</td>\n",
       "      <td>ambegaon narhe</td>\n",
       "      <td>2018</td>\n",
       "      <td>sedan</td>\n",
       "      <td>manual</td>\n",
       "      <td>diesel</td>\n",
       "      <td>54000.0</td>\n",
       "      <td>0</td>\n",
       "      <td>[{'img': ''}]</td>\n",
       "      <td>0</td>\n",
       "      <td>...</td>\n",
       "      <td>Common Rail Injection</td>\n",
       "      <td>16.0</td>\n",
       "      <td>14.0</td>\n",
       "      <td>NaN</td>\n",
       "      <td>69.00</td>\n",
       "      <td>4000.0</td>\n",
       "      <td>140.0</td>\n",
       "      <td>2400.0</td>\n",
       "      <td>75.0</td>\n",
       "      <td>NaN</td>\n",
       "    </tr>\n",
       "  </tbody>\n",
       "</table>\n",
       "<p>37813 rows × 66 columns</p>\n",
       "</div>"
      ],
      "text/plain": [
       "                               usedCarSkuId             loc  myear       body  \\\n",
       "0      7111bf25-97af-47f9-867b-40879190d800     gomti nagar   2016  hatchback   \n",
       "1      c309efc1-efaf-4f82-81ad-dcb38eb36665   borivali west   2015  hatchback   \n",
       "2      7609f710-0c97-4f00-9a47-9b9284b62d3a          jasola   2015      sedan   \n",
       "3      278b76e3-5539-4a5e-ae3e-353a2e3b6d7d          jasola   2013  hatchback   \n",
       "4      b1eab99b-a606-48dd-a75b-57feb8a9ad92   mumbai g.p.o.   2022        muv   \n",
       "...                                     ...             ...    ...        ...   \n",
       "37808  ee6ce523-2aa6-4852-96a1-86b9bc277377      thathawade   2018        suv   \n",
       "37809  ba1994ac-53ab-4baf-913e-b72f01a37b5d         kharadi   2011      sedan   \n",
       "37810  8f4448ae-53f5-4a3f-b13d-2401dd60c624         kothrud   2020  hatchback   \n",
       "37811  dbf9b629-7215-494b-a62d-ba1408531362         kothrud   2014  hatchback   \n",
       "37812  a96fbcd7-c183-4829-ae97-b2581afe4bac  ambegaon narhe   2018      sedan   \n",
       "\n",
       "      transmission    fuel        km  ip  \\\n",
       "0           manual     cng   69162.0   0   \n",
       "1           manual     cng   45864.0   0   \n",
       "2           manual     cng   81506.0   0   \n",
       "3           manual     cng  115893.0   0   \n",
       "4           manual     cng   18900.0   0   \n",
       "...            ...     ...       ...  ..   \n",
       "37808       manual  diesel   49882.0   0   \n",
       "37809       manual  diesel   82843.0   0   \n",
       "37810       manual  diesel   58000.0   0   \n",
       "37811       manual  diesel   62000.0   0   \n",
       "37812       manual  diesel   54000.0   0   \n",
       "\n",
       "                                                  images  imgCount  ...  \\\n",
       "0      [{'img': 'https://images10.gaadi.com/usedcar_i...        15  ...   \n",
       "1      [{'img': 'https://images10.gaadi.com/usedcar_i...        15  ...   \n",
       "2      [{'img': 'https://images10.gaadi.com/usedcar_i...        15  ...   \n",
       "3                                          [{'img': ''}]         0  ...   \n",
       "4      [{'img': 'https://images10.gaadi.com/usedcar_i...         6  ...   \n",
       "...                                                  ...       ...  ...   \n",
       "37808  [{'img': 'https://images10.gaadi.com/usedcar_i...        15  ...   \n",
       "37809  [{'img': 'https://images10.gaadi.com/usedcar_i...        27  ...   \n",
       "37810  [{'img': 'https://images10.gaadi.com/usedcar_i...        11  ...   \n",
       "37811  [{'img': 'https://images10.gaadi.com/usedcar_i...         8  ...   \n",
       "37812                                      [{'img': ''}]         0  ...   \n",
       "\n",
       "                Fuel Suppy System Compression Ratio Alloy Wheel Size  \\\n",
       "0                             NaN               NaN              NaN   \n",
       "1         Gasoline Port Injection              11.0              NaN   \n",
       "2                             NaN               NaN              NaN   \n",
       "3      Multi-Point Fuel Injection               NaN             13.0   \n",
       "4                             NaN              12.0              NaN   \n",
       "...                           ...               ...              ...   \n",
       "37808       Common Rail Injection               NaN             16.0   \n",
       "37809       Common Rail Injection               NaN             15.0   \n",
       "37810                         NaN               NaN             16.0   \n",
       "37811       Common Rail Injection               NaN              NaN   \n",
       "37812       Common Rail Injection              16.0             14.0   \n",
       "\n",
       "      Ground Clearance Unladen Max Power Delivered Max Power At  \\\n",
       "0                          NaN               58.16       6200.0   \n",
       "1                          NaN               58.20       6000.0   \n",
       "2                          NaN               86.70       6000.0   \n",
       "3                          NaN               58.20       6200.0   \n",
       "4                          NaN               86.63       5500.0   \n",
       "...                        ...                 ...          ...   \n",
       "37808                    209.0              108.50       3750.0   \n",
       "37809                      NaN               88.80       4000.0   \n",
       "37810                      NaN               88.77       4000.0   \n",
       "37811                      NaN               69.00       4000.0   \n",
       "37812                      NaN               69.00       4000.0   \n",
       "\n",
       "       Max Torque Delivered  Max Torque At  Bore Stroke  \n",
       "0                      77.0         3500.0  69.0    NaN  \n",
       "1                      78.0         3500.0  73.0    NaN  \n",
       "2                     109.0         4500.0   NaN    NaN  \n",
       "3                      77.0         3500.0   NaN    NaN  \n",
       "4                     121.5         4200.0   NaN    NaN  \n",
       "...                     ...            ...   ...    ...  \n",
       "37808                 260.0         2125.0  76.0   82.5  \n",
       "37809                 200.0         2375.0   NaN    NaN  \n",
       "37810                 200.0         2125.0   NaN    NaN  \n",
       "37811                 140.0         2400.0   NaN    NaN  \n",
       "37812                 140.0         2400.0  75.0    NaN  \n",
       "\n",
       "[37813 rows x 66 columns]"
      ]
     },
     "execution_count": 5,
     "metadata": {},
     "output_type": "execute_result"
    }
   ],
   "source": [
    "df.drop_duplicates()"
   ]
  },
  {
   "cell_type": "code",
   "execution_count": 6,
   "id": "48fa8c24",
   "metadata": {},
   "outputs": [
    {
     "data": {
      "text/plain": [
       "(37813, 66)"
      ]
     },
     "execution_count": 6,
     "metadata": {},
     "output_type": "execute_result"
    }
   ],
   "source": [
    "df.shape"
   ]
  },
  {
   "cell_type": "code",
   "execution_count": 7,
   "id": "8a71407c",
   "metadata": {
    "execution": {
     "iopub.execute_input": "2023-08-11T16:41:30.374364Z",
     "iopub.status.busy": "2023-08-11T16:41:30.373912Z",
     "iopub.status.idle": "2023-08-11T16:41:31.180850Z",
     "shell.execute_reply": "2023-08-11T16:41:31.179301Z"
    },
    "papermill": {
     "duration": 0.821571,
     "end_time": "2023-08-11T16:41:31.183761",
     "exception": false,
     "start_time": "2023-08-11T16:41:30.362190",
     "status": "completed"
    },
    "tags": []
   },
   "outputs": [
    {
     "name": "stdout",
     "output_type": "stream",
     "text": [
      "Total missing values:  282038\n",
      "Percent of missing values:  11.301147833557323\n"
     ]
    }
   ],
   "source": [
    "#Missing values\n",
    "print(\"Total missing values: \", df.isna().sum().sum())\n",
    "print(\"Percent of missing values: \", df.isna().sum().sum() * 100 / np.product(df.shape))"
   ]
  },
  {
   "cell_type": "code",
   "execution_count": 8,
   "id": "7baf5ec8",
   "metadata": {
    "execution": {
     "iopub.execute_input": "2023-08-11T16:41:31.206686Z",
     "iopub.status.busy": "2023-08-11T16:41:31.206232Z",
     "iopub.status.idle": "2023-08-11T16:41:31.217616Z",
     "shell.execute_reply": "2023-08-11T16:41:31.216041Z"
    },
    "papermill": {
     "duration": 0.026355,
     "end_time": "2023-08-11T16:41:31.220398",
     "exception": false,
     "start_time": "2023-08-11T16:41:31.194043",
     "status": "completed"
    },
    "tags": []
   },
   "outputs": [
    {
     "data": {
      "text/plain": [
       "array([dtype('O'), dtype('int64'), dtype('float64'), dtype('bool')],\n",
       "      dtype=object)"
      ]
     },
     "execution_count": 8,
     "metadata": {},
     "output_type": "execute_result"
    }
   ],
   "source": [
    "df.dtypes.unique()"
   ]
  },
  {
   "cell_type": "code",
   "execution_count": 9,
   "id": "5ccc4d87",
   "metadata": {},
   "outputs": [
    {
     "data": {
      "text/plain": [
       "0                               NaN\n",
       "1           Gasoline Port Injection\n",
       "2                               NaN\n",
       "3        Multi-Point Fuel Injection\n",
       "4                               NaN\n",
       "                    ...            \n",
       "37808         Common Rail Injection\n",
       "37809         Common Rail Injection\n",
       "37810                           NaN\n",
       "37811         Common Rail Injection\n",
       "37812         Common Rail Injection\n",
       "Name: Fuel Supply System, Length: 37813, dtype: object"
      ]
     },
     "execution_count": 9,
     "metadata": {},
     "output_type": "execute_result"
    }
   ],
   "source": [
    "df.rename(columns = {'Fuel Suppy System' : 'Fuel Supply System'}, inplace = True)\n",
    "df['Fuel Supply System']"
   ]
  },
  {
   "cell_type": "code",
   "execution_count": 10,
   "id": "34ea932b",
   "metadata": {},
   "outputs": [],
   "source": [
    "#Creating X and y\n",
    "y = df['listed_price']\n",
    "X = df.drop('listed_price', axis = 1)"
   ]
  },
  {
   "cell_type": "markdown",
   "id": "f1042967",
   "metadata": {},
   "source": [
    "## Dropping Columns"
   ]
  },
  {
   "cell_type": "markdown",
   "id": "81bdd1f0",
   "metadata": {},
   "source": [
    "### Categorical"
   ]
  },
  {
   "cell_type": "code",
   "execution_count": 11,
   "id": "6be6b53f",
   "metadata": {},
   "outputs": [],
   "source": [
    "#i wouldn't be using these features because they are images\n",
    "X = X.drop(['usedCarSkuId', 'images'], axis = 1)\n",
    "X = X.drop(['model_type_new'], axis = 1)#Contains only one unique value\n",
    "X = X.drop(['Color'], axis = 1)#X contains feature \"eXterior_color\"\n",
    "X = X.drop(['dvn'], axis = 1)#has already been split into oem, model and variant\n",
    "X = X.drop(['loc'], axis = 1)#City eXists\n",
    "X = X.drop(['carType', 'utype'], axis = 1)#of no use in our implementation\n",
    "X = X.drop(['state', 'ip', 'City','Engine Type'], axis = 1)#of no use for predictions"
   ]
  },
  {
   "cell_type": "markdown",
   "id": "41a224b5",
   "metadata": {},
   "source": [
    "### Numerical"
   ]
  },
  {
   "cell_type": "code",
   "execution_count": 12,
   "id": "f70239f9",
   "metadata": {},
   "outputs": [],
   "source": [
    "X = X.drop(['discountValue'], axis = 1)\n",
    "#Possible target leakage\n",
    "X = X.drop(['Stroke', 'Ground Clearance Unladen', 'Compression Ratio', 'Bore', 'Gross Weight'], axis = 1)\n",
    "#60+ % of missing values\n",
    "X = X.drop(['imgCount', 'threesixty'], axis = 1)\n",
    "#image related features dont make sense for my implementation\n",
    "X = X.drop(['Turning Radius'], axis = 1)#Severe outliers for pickup trucks\n",
    "X = X.drop(['Alloy Wheel Size'], axis = 1) #too random like cmon"
   ]
  },
  {
   "cell_type": "code",
   "execution_count": 13,
   "id": "8c1238b5",
   "metadata": {},
   "outputs": [],
   "source": [
    "all_cols = list(X.columns)\n",
    "misc = ['body', 'transmission', 'fuel', 'variant', 'City', 'listed_price', 'Valves per Cylinder', 'Valve Configuration', 'Seats', 'Doors', 'Cargo Volume', \n",
    "'Max Power Delivered', 'Max Power At', 'Max Torque Delivered', 'Max Torque At', 'Bore', 'Stroke']\n",
    "type(all_cols)\n",
    "temp = [col for col in all_cols if col not in misc]"
   ]
  },
  {
   "cell_type": "code",
   "execution_count": 14,
   "id": "e8569a70",
   "metadata": {},
   "outputs": [
    {
     "data": {
      "text/html": [
       "<div>\n",
       "<style scoped>\n",
       "    .dataframe tbody tr th:only-of-type {\n",
       "        vertical-align: middle;\n",
       "    }\n",
       "\n",
       "    .dataframe tbody tr th {\n",
       "        vertical-align: top;\n",
       "    }\n",
       "\n",
       "    .dataframe thead th {\n",
       "        text-align: right;\n",
       "    }\n",
       "</style>\n",
       "<table border=\"1\" class=\"dataframe\">\n",
       "  <thead>\n",
       "    <tr style=\"text-align: right;\">\n",
       "      <th></th>\n",
       "      <th>Description</th>\n",
       "    </tr>\n",
       "    <tr>\n",
       "      <th>Feature</th>\n",
       "      <th></th>\n",
       "    </tr>\n",
       "  </thead>\n",
       "  <tbody>\n",
       "    <tr>\n",
       "      <th>myear</th>\n",
       "      <td>Manufacturing year of the car</td>\n",
       "    </tr>\n",
       "    <tr>\n",
       "      <th>km</th>\n",
       "      <td>Kilometers driven by the car</td>\n",
       "    </tr>\n",
       "    <tr>\n",
       "      <th>oem</th>\n",
       "      <td>Original equipment manufacturer of the car</td>\n",
       "    </tr>\n",
       "    <tr>\n",
       "      <th>model</th>\n",
       "      <td>Model of the car</td>\n",
       "    </tr>\n",
       "    <tr>\n",
       "      <th>top_features</th>\n",
       "      <td>List of top features of the car (e.g. ABS, air...</td>\n",
       "    </tr>\n",
       "    <tr>\n",
       "      <th>comfort_features</th>\n",
       "      <td>List of comfort features of the car (e.g. air ...</td>\n",
       "    </tr>\n",
       "    <tr>\n",
       "      <th>interior_features</th>\n",
       "      <td>List of interior features of the car (e.g. lea...</td>\n",
       "    </tr>\n",
       "    <tr>\n",
       "      <th>exterior_features</th>\n",
       "      <td>List of exterior features of the car (e.g. all...</td>\n",
       "    </tr>\n",
       "    <tr>\n",
       "      <th>safety_features</th>\n",
       "      <td>List of safety features of the car (e.g. ABS, ...</td>\n",
       "    </tr>\n",
       "    <tr>\n",
       "      <th>No of Cylinder</th>\n",
       "      <td>Number of cylinders in the engine</td>\n",
       "    </tr>\n",
       "    <tr>\n",
       "      <th>Turbo Charger</th>\n",
       "      <td>Indicates if the engine has a turbocharger</td>\n",
       "    </tr>\n",
       "    <tr>\n",
       "      <th>Super Charger</th>\n",
       "      <td>Indicates if the engine has a supercharger</td>\n",
       "    </tr>\n",
       "    <tr>\n",
       "      <th>Length</th>\n",
       "      <td>Length of the car in mm</td>\n",
       "    </tr>\n",
       "    <tr>\n",
       "      <th>Width</th>\n",
       "      <td>Width of the car in mm</td>\n",
       "    </tr>\n",
       "    <tr>\n",
       "      <th>Height</th>\n",
       "      <td>Height of the car in mm</td>\n",
       "    </tr>\n",
       "    <tr>\n",
       "      <th>Wheel Base</th>\n",
       "      <td>Wheel base of the car in mm</td>\n",
       "    </tr>\n",
       "    <tr>\n",
       "      <th>Front Tread</th>\n",
       "      <td>Front tread of the car in mm</td>\n",
       "    </tr>\n",
       "    <tr>\n",
       "      <th>Rear Tread</th>\n",
       "      <td>Rear tread of the car in mm</td>\n",
       "    </tr>\n",
       "    <tr>\n",
       "      <th>Kerb Weight</th>\n",
       "      <td>Kerb weight of the car in kg</td>\n",
       "    </tr>\n",
       "    <tr>\n",
       "      <th>Gear Box</th>\n",
       "      <td>Gear box type of the car (4 speed, 5 speed, etc.)</td>\n",
       "    </tr>\n",
       "    <tr>\n",
       "      <th>Drive Type</th>\n",
       "      <td>Rear wheel drive (RWD), front wheel drive (FWD...</td>\n",
       "    </tr>\n",
       "    <tr>\n",
       "      <th>Steering Type</th>\n",
       "      <td>The type of steering (power steering, manual s...</td>\n",
       "    </tr>\n",
       "    <tr>\n",
       "      <th>Front Brake Type</th>\n",
       "      <td>Front brake type of the car (disc, drum, etc.)</td>\n",
       "    </tr>\n",
       "    <tr>\n",
       "      <th>Rear Brake Type</th>\n",
       "      <td>Rear brake type of the car (disc, drum, etc.)</td>\n",
       "    </tr>\n",
       "    <tr>\n",
       "      <th>Top Speed</th>\n",
       "      <td>Top speed of the car in kmph</td>\n",
       "    </tr>\n",
       "    <tr>\n",
       "      <th>Acceleration</th>\n",
       "      <td>0-100 kmph acceleration time of the car in sec...</td>\n",
       "    </tr>\n",
       "    <tr>\n",
       "      <th>Tyre Type</th>\n",
       "      <td>Tyre type of the car (tubeless, tube, etc.)</td>\n",
       "    </tr>\n",
       "    <tr>\n",
       "      <th>exterior_color</th>\n",
       "      <td>Exterior color of the car</td>\n",
       "    </tr>\n",
       "    <tr>\n",
       "      <th>owner_type</th>\n",
       "      <td>Owner type of the car (first, second, etc.)</td>\n",
       "    </tr>\n",
       "    <tr>\n",
       "      <th>Fuel Supply System</th>\n",
       "      <td>Type of fuel supply system (Carburetor, Fuel I...</td>\n",
       "    </tr>\n",
       "  </tbody>\n",
       "</table>\n",
       "</div>"
      ],
      "text/plain": [
       "                                                          Description\n",
       "Feature                                                              \n",
       "myear                                   Manufacturing year of the car\n",
       "km                                       Kilometers driven by the car\n",
       "oem                        Original equipment manufacturer of the car\n",
       "model                                                Model of the car\n",
       "top_features        List of top features of the car (e.g. ABS, air...\n",
       "comfort_features    List of comfort features of the car (e.g. air ...\n",
       "interior_features   List of interior features of the car (e.g. lea...\n",
       "exterior_features   List of exterior features of the car (e.g. all...\n",
       "safety_features     List of safety features of the car (e.g. ABS, ...\n",
       "No of Cylinder                      Number of cylinders in the engine\n",
       "Turbo Charger              Indicates if the engine has a turbocharger\n",
       "Super Charger              Indicates if the engine has a supercharger\n",
       "Length                                        Length of the car in mm\n",
       "Width                                          Width of the car in mm\n",
       "Height                                        Height of the car in mm\n",
       "Wheel Base                                Wheel base of the car in mm\n",
       "Front Tread                              Front tread of the car in mm\n",
       "Rear Tread                                Rear tread of the car in mm\n",
       "Kerb Weight                              Kerb weight of the car in kg\n",
       "Gear Box            Gear box type of the car (4 speed, 5 speed, etc.)\n",
       "Drive Type          Rear wheel drive (RWD), front wheel drive (FWD...\n",
       "Steering Type       The type of steering (power steering, manual s...\n",
       "Front Brake Type       Front brake type of the car (disc, drum, etc.)\n",
       "Rear Brake Type         Rear brake type of the car (disc, drum, etc.)\n",
       "Top Speed                                Top speed of the car in kmph\n",
       "Acceleration        0-100 kmph acceleration time of the car in sec...\n",
       "Tyre Type                 Tyre type of the car (tubeless, tube, etc.)\n",
       "exterior_color                              Exterior color of the car\n",
       "owner_type                Owner type of the car (first, second, etc.)\n",
       "Fuel Supply System  Type of fuel supply system (Carburetor, Fuel I..."
      ]
     },
     "execution_count": 14,
     "metadata": {},
     "output_type": "execute_result"
    }
   ],
   "source": [
    "col_info = info.loc[temp,['Description']]\n",
    "col_info"
   ]
  },
  {
   "cell_type": "code",
   "execution_count": 15,
   "id": "015c5fbe",
   "metadata": {},
   "outputs": [],
   "source": [
    "from sklearn.model_selection import train_test_split\n",
    "X_train, X_valid, y_train, y_valid = train_test_split(X, y, train_size = 0.9, random_state = 42)"
   ]
  },
  {
   "cell_type": "markdown",
   "id": "ca03e2b8",
   "metadata": {},
   "source": [
    "## 2. Categorical Column Analysis"
   ]
  },
  {
   "cell_type": "code",
   "execution_count": 16,
   "id": "b016c0fc",
   "metadata": {},
   "outputs": [
    {
     "data": {
      "text/plain": [
       "(34031, 43)"
      ]
     },
     "execution_count": 16,
     "metadata": {},
     "output_type": "execute_result"
    }
   ],
   "source": [
    "X_train.shape"
   ]
  },
  {
   "cell_type": "code",
   "execution_count": 17,
   "id": "b0fe8e91",
   "metadata": {
    "execution": {
     "iopub.execute_input": "2023-08-11T16:41:31.346871Z",
     "iopub.status.busy": "2023-08-11T16:41:31.346460Z",
     "iopub.status.idle": "2023-08-11T16:41:31.354474Z",
     "shell.execute_reply": "2023-08-11T16:41:31.353266Z"
    },
    "papermill": {
     "duration": 0.022319,
     "end_time": "2023-08-11T16:41:31.357143",
     "exception": false,
     "start_time": "2023-08-11T16:41:31.334824",
     "status": "completed"
    },
    "tags": []
   },
   "outputs": [],
   "source": [
    "categorical_cols = [col for col in X_train.columns\n",
    "                   if X_train[col].dtype == 'object']"
   ]
  },
  {
   "cell_type": "markdown",
   "id": "7a186ed0",
   "metadata": {
    "papermill": {
     "duration": 0.009882,
     "end_time": "2023-08-11T16:41:31.377120",
     "exception": false,
     "start_time": "2023-08-11T16:41:31.367238",
     "status": "completed"
    },
    "tags": []
   },
   "source": [
    "### 2.1. Checking Missing Values"
   ]
  },
  {
   "cell_type": "code",
   "execution_count": 18,
   "id": "8cb1db2e",
   "metadata": {
    "execution": {
     "iopub.execute_input": "2023-08-11T16:41:31.399610Z",
     "iopub.status.busy": "2023-08-11T16:41:31.399136Z",
     "iopub.status.idle": "2023-08-11T16:41:31.743216Z",
     "shell.execute_reply": "2023-08-11T16:41:31.742292Z"
    },
    "papermill": {
     "duration": 0.358185,
     "end_time": "2023-08-11T16:41:31.745709",
     "exception": false,
     "start_time": "2023-08-11T16:41:31.387524",
     "status": "completed"
    },
    "tags": []
   },
   "outputs": [
    {
     "data": {
      "text/html": [
       "<div>\n",
       "<style scoped>\n",
       "    .dataframe tbody tr th:only-of-type {\n",
       "        vertical-align: middle;\n",
       "    }\n",
       "\n",
       "    .dataframe tbody tr th {\n",
       "        vertical-align: top;\n",
       "    }\n",
       "\n",
       "    .dataframe thead th {\n",
       "        text-align: right;\n",
       "    }\n",
       "</style>\n",
       "<table border=\"1\" class=\"dataframe\">\n",
       "  <thead>\n",
       "    <tr style=\"text-align: right;\">\n",
       "      <th></th>\n",
       "      <th>features</th>\n",
       "      <th>missing counts</th>\n",
       "      <th>%missing</th>\n",
       "      <th>uniques</th>\n",
       "    </tr>\n",
       "  </thead>\n",
       "  <tbody>\n",
       "    <tr>\n",
       "      <th>0</th>\n",
       "      <td>body</td>\n",
       "      <td>19</td>\n",
       "      <td>0.055831</td>\n",
       "      <td>11</td>\n",
       "    </tr>\n",
       "    <tr>\n",
       "      <th>1</th>\n",
       "      <td>transmission</td>\n",
       "      <td>0</td>\n",
       "      <td>0.000000</td>\n",
       "      <td>2</td>\n",
       "    </tr>\n",
       "    <tr>\n",
       "      <th>2</th>\n",
       "      <td>fuel</td>\n",
       "      <td>0</td>\n",
       "      <td>0.000000</td>\n",
       "      <td>5</td>\n",
       "    </tr>\n",
       "    <tr>\n",
       "      <th>3</th>\n",
       "      <td>oem</td>\n",
       "      <td>0</td>\n",
       "      <td>0.000000</td>\n",
       "      <td>46</td>\n",
       "    </tr>\n",
       "    <tr>\n",
       "      <th>4</th>\n",
       "      <td>model</td>\n",
       "      <td>0</td>\n",
       "      <td>0.000000</td>\n",
       "      <td>376</td>\n",
       "    </tr>\n",
       "    <tr>\n",
       "      <th>5</th>\n",
       "      <td>variant</td>\n",
       "      <td>0</td>\n",
       "      <td>0.000000</td>\n",
       "      <td>3336</td>\n",
       "    </tr>\n",
       "    <tr>\n",
       "      <th>6</th>\n",
       "      <td>top_features</td>\n",
       "      <td>0</td>\n",
       "      <td>0.000000</td>\n",
       "      <td>390</td>\n",
       "    </tr>\n",
       "    <tr>\n",
       "      <th>7</th>\n",
       "      <td>comfort_features</td>\n",
       "      <td>0</td>\n",
       "      <td>0.000000</td>\n",
       "      <td>1981</td>\n",
       "    </tr>\n",
       "    <tr>\n",
       "      <th>8</th>\n",
       "      <td>interior_features</td>\n",
       "      <td>0</td>\n",
       "      <td>0.000000</td>\n",
       "      <td>519</td>\n",
       "    </tr>\n",
       "    <tr>\n",
       "      <th>9</th>\n",
       "      <td>exterior_features</td>\n",
       "      <td>0</td>\n",
       "      <td>0.000000</td>\n",
       "      <td>1853</td>\n",
       "    </tr>\n",
       "    <tr>\n",
       "      <th>10</th>\n",
       "      <td>safety_features</td>\n",
       "      <td>0</td>\n",
       "      <td>0.000000</td>\n",
       "      <td>2073</td>\n",
       "    </tr>\n",
       "    <tr>\n",
       "      <th>11</th>\n",
       "      <td>Valve Configuration</td>\n",
       "      <td>7175</td>\n",
       "      <td>21.083718</td>\n",
       "      <td>5</td>\n",
       "    </tr>\n",
       "    <tr>\n",
       "      <th>12</th>\n",
       "      <td>Gear Box</td>\n",
       "      <td>419</td>\n",
       "      <td>1.231230</td>\n",
       "      <td>11</td>\n",
       "    </tr>\n",
       "    <tr>\n",
       "      <th>13</th>\n",
       "      <td>Drive Type</td>\n",
       "      <td>4052</td>\n",
       "      <td>11.906791</td>\n",
       "      <td>6</td>\n",
       "    </tr>\n",
       "    <tr>\n",
       "      <th>14</th>\n",
       "      <td>Steering Type</td>\n",
       "      <td>729</td>\n",
       "      <td>2.142164</td>\n",
       "      <td>2</td>\n",
       "    </tr>\n",
       "    <tr>\n",
       "      <th>15</th>\n",
       "      <td>Front Brake Type</td>\n",
       "      <td>285</td>\n",
       "      <td>0.837472</td>\n",
       "      <td>6</td>\n",
       "    </tr>\n",
       "    <tr>\n",
       "      <th>16</th>\n",
       "      <td>Rear Brake Type</td>\n",
       "      <td>284</td>\n",
       "      <td>0.834533</td>\n",
       "      <td>6</td>\n",
       "    </tr>\n",
       "    <tr>\n",
       "      <th>17</th>\n",
       "      <td>Tyre Type</td>\n",
       "      <td>221</td>\n",
       "      <td>0.649408</td>\n",
       "      <td>4</td>\n",
       "    </tr>\n",
       "    <tr>\n",
       "      <th>18</th>\n",
       "      <td>exterior_color</td>\n",
       "      <td>113</td>\n",
       "      <td>0.332050</td>\n",
       "      <td>717</td>\n",
       "    </tr>\n",
       "    <tr>\n",
       "      <th>19</th>\n",
       "      <td>owner_type</td>\n",
       "      <td>0</td>\n",
       "      <td>0.000000</td>\n",
       "      <td>6</td>\n",
       "    </tr>\n",
       "    <tr>\n",
       "      <th>20</th>\n",
       "      <td>Fuel Supply System</td>\n",
       "      <td>4956</td>\n",
       "      <td>14.563192</td>\n",
       "      <td>14</td>\n",
       "    </tr>\n",
       "  </tbody>\n",
       "</table>\n",
       "</div>"
      ],
      "text/plain": [
       "               features  missing counts   %missing  uniques\n",
       "0                  body              19   0.055831       11\n",
       "1          transmission               0   0.000000        2\n",
       "2                  fuel               0   0.000000        5\n",
       "3                   oem               0   0.000000       46\n",
       "4                 model               0   0.000000      376\n",
       "5               variant               0   0.000000     3336\n",
       "6          top_features               0   0.000000      390\n",
       "7      comfort_features               0   0.000000     1981\n",
       "8     interior_features               0   0.000000      519\n",
       "9     exterior_features               0   0.000000     1853\n",
       "10      safety_features               0   0.000000     2073\n",
       "11  Valve Configuration            7175  21.083718        5\n",
       "12             Gear Box             419   1.231230       11\n",
       "13           Drive Type            4052  11.906791        6\n",
       "14        Steering Type             729   2.142164        2\n",
       "15     Front Brake Type             285   0.837472        6\n",
       "16      Rear Brake Type             284   0.834533        6\n",
       "17            Tyre Type             221   0.649408        4\n",
       "18       exterior_color             113   0.332050      717\n",
       "19           owner_type               0   0.000000        6\n",
       "20   Fuel Supply System            4956  14.563192       14"
      ]
     },
     "execution_count": 18,
     "metadata": {},
     "output_type": "execute_result"
    }
   ],
   "source": [
    "a = pd.Series(data = [col for col in categorical_cols], name = 'features')\n",
    "b = pd.Series(data = [X_train[col].isna().sum() for col in categorical_cols], name = 'missing counts')\n",
    "c = pd.Series(data = b * 100/ X_train.shape[0], name = '%missing')\n",
    "d = pd.Series(data = [X_train[col].nunique() for col in categorical_cols], name = 'uniques')\n",
    "catinfo_train= pd.concat([a, b, c, d], axis = 1)\n",
    "catinfo_train"
   ]
  },
  {
   "cell_type": "code",
   "execution_count": 19,
   "id": "50fe18c4",
   "metadata": {},
   "outputs": [
    {
     "data": {
      "text/html": [
       "<div>\n",
       "<style scoped>\n",
       "    .dataframe tbody tr th:only-of-type {\n",
       "        vertical-align: middle;\n",
       "    }\n",
       "\n",
       "    .dataframe tbody tr th {\n",
       "        vertical-align: top;\n",
       "    }\n",
       "\n",
       "    .dataframe thead th {\n",
       "        text-align: right;\n",
       "    }\n",
       "</style>\n",
       "<table border=\"1\" class=\"dataframe\">\n",
       "  <thead>\n",
       "    <tr style=\"text-align: right;\">\n",
       "      <th></th>\n",
       "      <th>features</th>\n",
       "      <th>missing counts</th>\n",
       "      <th>%missing</th>\n",
       "      <th>uniques</th>\n",
       "    </tr>\n",
       "  </thead>\n",
       "  <tbody>\n",
       "    <tr>\n",
       "      <th>0</th>\n",
       "      <td>body</td>\n",
       "      <td>0</td>\n",
       "      <td>0.000000</td>\n",
       "      <td>9</td>\n",
       "    </tr>\n",
       "    <tr>\n",
       "      <th>1</th>\n",
       "      <td>transmission</td>\n",
       "      <td>0</td>\n",
       "      <td>0.000000</td>\n",
       "      <td>2</td>\n",
       "    </tr>\n",
       "    <tr>\n",
       "      <th>2</th>\n",
       "      <td>fuel</td>\n",
       "      <td>0</td>\n",
       "      <td>0.000000</td>\n",
       "      <td>5</td>\n",
       "    </tr>\n",
       "    <tr>\n",
       "      <th>3</th>\n",
       "      <td>oem</td>\n",
       "      <td>0</td>\n",
       "      <td>0.000000</td>\n",
       "      <td>33</td>\n",
       "    </tr>\n",
       "    <tr>\n",
       "      <th>4</th>\n",
       "      <td>model</td>\n",
       "      <td>0</td>\n",
       "      <td>0.000000</td>\n",
       "      <td>253</td>\n",
       "    </tr>\n",
       "    <tr>\n",
       "      <th>5</th>\n",
       "      <td>variant</td>\n",
       "      <td>0</td>\n",
       "      <td>0.000000</td>\n",
       "      <td>1353</td>\n",
       "    </tr>\n",
       "    <tr>\n",
       "      <th>6</th>\n",
       "      <td>top_features</td>\n",
       "      <td>0</td>\n",
       "      <td>0.000000</td>\n",
       "      <td>214</td>\n",
       "    </tr>\n",
       "    <tr>\n",
       "      <th>7</th>\n",
       "      <td>comfort_features</td>\n",
       "      <td>0</td>\n",
       "      <td>0.000000</td>\n",
       "      <td>1016</td>\n",
       "    </tr>\n",
       "    <tr>\n",
       "      <th>8</th>\n",
       "      <td>interior_features</td>\n",
       "      <td>0</td>\n",
       "      <td>0.000000</td>\n",
       "      <td>321</td>\n",
       "    </tr>\n",
       "    <tr>\n",
       "      <th>9</th>\n",
       "      <td>exterior_features</td>\n",
       "      <td>0</td>\n",
       "      <td>0.000000</td>\n",
       "      <td>985</td>\n",
       "    </tr>\n",
       "    <tr>\n",
       "      <th>10</th>\n",
       "      <td>safety_features</td>\n",
       "      <td>0</td>\n",
       "      <td>0.000000</td>\n",
       "      <td>1052</td>\n",
       "    </tr>\n",
       "    <tr>\n",
       "      <th>11</th>\n",
       "      <td>Valve Configuration</td>\n",
       "      <td>787</td>\n",
       "      <td>20.809096</td>\n",
       "      <td>3</td>\n",
       "    </tr>\n",
       "    <tr>\n",
       "      <th>12</th>\n",
       "      <td>Gear Box</td>\n",
       "      <td>52</td>\n",
       "      <td>1.374934</td>\n",
       "      <td>10</td>\n",
       "    </tr>\n",
       "    <tr>\n",
       "      <th>13</th>\n",
       "      <td>Drive Type</td>\n",
       "      <td>445</td>\n",
       "      <td>11.766261</td>\n",
       "      <td>6</td>\n",
       "    </tr>\n",
       "    <tr>\n",
       "      <th>14</th>\n",
       "      <td>Steering Type</td>\n",
       "      <td>79</td>\n",
       "      <td>2.088842</td>\n",
       "      <td>2</td>\n",
       "    </tr>\n",
       "    <tr>\n",
       "      <th>15</th>\n",
       "      <td>Front Brake Type</td>\n",
       "      <td>42</td>\n",
       "      <td>1.110524</td>\n",
       "      <td>4</td>\n",
       "    </tr>\n",
       "    <tr>\n",
       "      <th>16</th>\n",
       "      <td>Rear Brake Type</td>\n",
       "      <td>42</td>\n",
       "      <td>1.110524</td>\n",
       "      <td>5</td>\n",
       "    </tr>\n",
       "    <tr>\n",
       "      <th>17</th>\n",
       "      <td>Tyre Type</td>\n",
       "      <td>36</td>\n",
       "      <td>0.951877</td>\n",
       "      <td>3</td>\n",
       "    </tr>\n",
       "    <tr>\n",
       "      <th>18</th>\n",
       "      <td>exterior_color</td>\n",
       "      <td>10</td>\n",
       "      <td>0.264410</td>\n",
       "      <td>297</td>\n",
       "    </tr>\n",
       "    <tr>\n",
       "      <th>19</th>\n",
       "      <td>owner_type</td>\n",
       "      <td>0</td>\n",
       "      <td>0.000000</td>\n",
       "      <td>6</td>\n",
       "    </tr>\n",
       "    <tr>\n",
       "      <th>20</th>\n",
       "      <td>Fuel Supply System</td>\n",
       "      <td>546</td>\n",
       "      <td>14.436806</td>\n",
       "      <td>12</td>\n",
       "    </tr>\n",
       "  </tbody>\n",
       "</table>\n",
       "</div>"
      ],
      "text/plain": [
       "               features  missing counts   %missing  uniques\n",
       "0                  body               0   0.000000        9\n",
       "1          transmission               0   0.000000        2\n",
       "2                  fuel               0   0.000000        5\n",
       "3                   oem               0   0.000000       33\n",
       "4                 model               0   0.000000      253\n",
       "5               variant               0   0.000000     1353\n",
       "6          top_features               0   0.000000      214\n",
       "7      comfort_features               0   0.000000     1016\n",
       "8     interior_features               0   0.000000      321\n",
       "9     exterior_features               0   0.000000      985\n",
       "10      safety_features               0   0.000000     1052\n",
       "11  Valve Configuration             787  20.809096        3\n",
       "12             Gear Box              52   1.374934       10\n",
       "13           Drive Type             445  11.766261        6\n",
       "14        Steering Type              79   2.088842        2\n",
       "15     Front Brake Type              42   1.110524        4\n",
       "16      Rear Brake Type              42   1.110524        5\n",
       "17            Tyre Type              36   0.951877        3\n",
       "18       exterior_color              10   0.264410      297\n",
       "19           owner_type               0   0.000000        6\n",
       "20   Fuel Supply System             546  14.436806       12"
      ]
     },
     "execution_count": 19,
     "metadata": {},
     "output_type": "execute_result"
    }
   ],
   "source": [
    "a = pd.Series(data = [col for col in categorical_cols], name = 'features')\n",
    "b = pd.Series(data = [X_valid[col].isna().sum() for col in categorical_cols], name = 'missing counts')\n",
    "c = pd.Series(data = b * 100/ X_valid.shape[0], name = '%missing')\n",
    "d = pd.Series(data = [X_valid[col].nunique() for col in categorical_cols], name = 'uniques')\n",
    "catinfo_valid= pd.concat([a, b, c, d], axis = 1)\n",
    "catinfo_valid"
   ]
  },
  {
   "cell_type": "markdown",
   "id": "3df9c977",
   "metadata": {},
   "source": [
    "- **REPORT**\n",
    "\n",
    "- Features with less than 3% missing values will be imputed using simple imputation\n",
    "\n",
    "- Valve Configuration, Drive Type, Fuel Supply System will be analysed deeply"
   ]
  },
  {
   "cell_type": "markdown",
   "id": "38709955",
   "metadata": {},
   "source": [
    "### 2.1.1 Imputing Features with less than 3% missing  values"
   ]
  },
  {
   "cell_type": "code",
   "execution_count": 20,
   "id": "33385269",
   "metadata": {},
   "outputs": [],
   "source": [
    "def impute_body(row):\n",
    "    if pd.isnull(row['body']):\n",
    "        if row['oem'] == 'maruti':\n",
    "            return 'minivans'#consisted of omnis\n",
    "        else:\n",
    "            return 'convertibles'#was a lamborghini\n",
    "    else:\n",
    "        return row['body']"
   ]
  },
  {
   "cell_type": "code",
   "execution_count": 21,
   "id": "c737b7e1",
   "metadata": {},
   "outputs": [],
   "source": [
    "X_train['body'] = X_train.apply(impute_body, axis = 1)"
   ]
  },
  {
   "cell_type": "code",
   "execution_count": 22,
   "id": "d7cacd09",
   "metadata": {},
   "outputs": [
    {
     "name": "stdout",
     "output_type": "stream",
     "text": [
      "The no. of nans are:  0\n"
     ]
    }
   ],
   "source": [
    "print(\"The no. of nans are: \", len(X_train) - X_train['body'].value_counts().sum())"
   ]
  },
  {
   "cell_type": "code",
   "execution_count": 23,
   "id": "59b45c7e",
   "metadata": {},
   "outputs": [
    {
     "data": {
      "text/plain": [
       "myear                       0\n",
       "body                        0\n",
       "transmission                0\n",
       "fuel                        0\n",
       "km                          0\n",
       "oem                         0\n",
       "model                       0\n",
       "variant                     0\n",
       "top_features                0\n",
       "comfort_features            0\n",
       "interior_features           0\n",
       "exterior_features           0\n",
       "safety_features             0\n",
       "No of Cylinder            131\n",
       "Valves per Cylinder       204\n",
       "Valve Configuration      7175\n",
       "Turbo Charger               0\n",
       "Super Charger               0\n",
       "Length                    320\n",
       "Width                     328\n",
       "Height                    321\n",
       "Wheel Base                490\n",
       "Front Tread             14303\n",
       "Rear Tread              14303\n",
       "Kerb Weight             11825\n",
       "Gear Box                  419\n",
       "Drive Type               4052\n",
       "Seats                      16\n",
       "Steering Type             729\n",
       "Front Brake Type          285\n",
       "Rear Brake Type           284\n",
       "Top Speed               13811\n",
       "Acceleration            12583\n",
       "Tyre Type                 221\n",
       "Doors                      38\n",
       "Cargo Volume             6039\n",
       "exterior_color            113\n",
       "owner_type                  0\n",
       "Fuel Supply System       4956\n",
       "Max Power Delivered       204\n",
       "Max Power At             2006\n",
       "Max Torque Delivered      204\n",
       "Max Torque At            1767\n",
       "dtype: int64"
      ]
     },
     "execution_count": 23,
     "metadata": {},
     "output_type": "execute_result"
    }
   ],
   "source": [
    "X_train.isnull().sum()"
   ]
  },
  {
   "cell_type": "code",
   "execution_count": 24,
   "id": "95387c52",
   "metadata": {},
   "outputs": [
    {
     "name": "stdout",
     "output_type": "stream",
     "text": [
      "['body', 'Gear Box', 'Steering Type', 'Front Brake Type', 'Rear Brake Type', 'Tyre Type', 'exterior_color']\n",
      "ignore body\n"
     ]
    }
   ],
   "source": [
    "#Columns in train with <3% nans\n",
    "cat_missing_train = []\n",
    "for i in range(len(catinfo_train)):\n",
    "    if ((catinfo_train['%missing'][i] < 3) & (catinfo_train['%missing'][i] != 0)):\n",
    "        cat_missing_train.append(catinfo_train['features'][i])\n",
    "print(cat_missing_train)\n",
    "print(\"ignore body\")"
   ]
  },
  {
   "cell_type": "code",
   "execution_count": 25,
   "id": "dad94e1e",
   "metadata": {},
   "outputs": [
    {
     "data": {
      "text/plain": [
       "['body',\n",
       " 'Gear Box',\n",
       " 'Steering Type',\n",
       " 'Front Brake Type',\n",
       " 'Rear Brake Type',\n",
       " 'Tyre Type',\n",
       " 'exterior_color']"
      ]
     },
     "execution_count": 25,
     "metadata": {},
     "output_type": "execute_result"
    }
   ],
   "source": [
    "#Columns in valid with <3% nans\n",
    "cat_missing_valid = []\n",
    "for i in range(len(catinfo_train)):\n",
    "    if ((catinfo_train['%missing'][i] < 3) & (catinfo_train['%missing'][i] != 0)):\n",
    "        cat_missing_valid.append(catinfo_train['features'][i])\n",
    "cat_missing_valid   "
   ]
  },
  {
   "cell_type": "code",
   "execution_count": 26,
   "id": "c627bdd3",
   "metadata": {},
   "outputs": [],
   "source": [
    "from sklearn.impute import SimpleImputer\n",
    "#Getting rid of the nans\n",
    "si = SimpleImputer(strategy = 'most_frequent')\n",
    "iX_train_cat = pd.DataFrame(si.fit_transform(X_train[cat_missing_train]))\n",
    "iX_valid_cat = pd.DataFrame(si.transform(X_valid[cat_missing_valid]))"
   ]
  },
  {
   "cell_type": "code",
   "execution_count": 27,
   "id": "f3e8b83d",
   "metadata": {},
   "outputs": [
    {
     "data": {
      "text/html": [
       "<div>\n",
       "<style scoped>\n",
       "    .dataframe tbody tr th:only-of-type {\n",
       "        vertical-align: middle;\n",
       "    }\n",
       "\n",
       "    .dataframe tbody tr th {\n",
       "        vertical-align: top;\n",
       "    }\n",
       "\n",
       "    .dataframe thead th {\n",
       "        text-align: right;\n",
       "    }\n",
       "</style>\n",
       "<table border=\"1\" class=\"dataframe\">\n",
       "  <thead>\n",
       "    <tr style=\"text-align: right;\">\n",
       "      <th></th>\n",
       "      <th>body</th>\n",
       "      <th>Gear Box</th>\n",
       "      <th>Steering Type</th>\n",
       "      <th>Front Brake Type</th>\n",
       "      <th>Rear Brake Type</th>\n",
       "      <th>Tyre Type</th>\n",
       "      <th>exterior_color</th>\n",
       "    </tr>\n",
       "  </thead>\n",
       "  <tbody>\n",
       "    <tr>\n",
       "      <th>3220</th>\n",
       "      <td>sedan</td>\n",
       "      <td>6 speed</td>\n",
       "      <td>power</td>\n",
       "      <td>ventilated disc</td>\n",
       "      <td>disc</td>\n",
       "      <td>tubeless radial</td>\n",
       "      <td>white</td>\n",
       "    </tr>\n",
       "    <tr>\n",
       "      <th>17208</th>\n",
       "      <td>hatchback</td>\n",
       "      <td>5 speed</td>\n",
       "      <td>power</td>\n",
       "      <td>ventilated disc</td>\n",
       "      <td>drum</td>\n",
       "      <td>tubeless radial</td>\n",
       "      <td>white</td>\n",
       "    </tr>\n",
       "    <tr>\n",
       "      <th>19883</th>\n",
       "      <td>hatchback</td>\n",
       "      <td>5 speed</td>\n",
       "      <td>power</td>\n",
       "      <td>disc</td>\n",
       "      <td>drum</td>\n",
       "      <td>tubeless</td>\n",
       "      <td>silver</td>\n",
       "    </tr>\n",
       "    <tr>\n",
       "      <th>15575</th>\n",
       "      <td>sedan</td>\n",
       "      <td>7 speed</td>\n",
       "      <td>power</td>\n",
       "      <td>disc</td>\n",
       "      <td>disc</td>\n",
       "      <td>tubeless radial</td>\n",
       "      <td>blue</td>\n",
       "    </tr>\n",
       "    <tr>\n",
       "      <th>30362</th>\n",
       "      <td>hatchback</td>\n",
       "      <td>5 speed</td>\n",
       "      <td>power</td>\n",
       "      <td>disc</td>\n",
       "      <td>drum</td>\n",
       "      <td>tubeless radial</td>\n",
       "      <td>blue</td>\n",
       "    </tr>\n",
       "  </tbody>\n",
       "</table>\n",
       "</div>"
      ],
      "text/plain": [
       "            body Gear Box Steering Type Front Brake Type Rear Brake Type  \\\n",
       "3220       sedan  6 speed         power  ventilated disc            disc   \n",
       "17208  hatchback  5 speed         power  ventilated disc            drum   \n",
       "19883  hatchback  5 speed         power             disc            drum   \n",
       "15575      sedan  7 speed         power             disc            disc   \n",
       "30362  hatchback  5 speed         power             disc            drum   \n",
       "\n",
       "             Tyre Type exterior_color  \n",
       "3220   tubeless radial          white  \n",
       "17208  tubeless radial          white  \n",
       "19883         tubeless         silver  \n",
       "15575  tubeless radial           blue  \n",
       "30362  tubeless radial           blue  "
      ]
     },
     "execution_count": 27,
     "metadata": {},
     "output_type": "execute_result"
    }
   ],
   "source": [
    "#Setting the column names and indexes for concatenation\n",
    "iX_train_cat.columns = cat_missing_train\n",
    "iX_valid_cat.columns = cat_missing_valid\n",
    "iX_train_cat.index = X_train.index\n",
    "iX_valid_cat.index = X_valid.index\n",
    "iX_train_cat.head(5)"
   ]
  },
  {
   "cell_type": "code",
   "execution_count": 28,
   "id": "cd459fd4",
   "metadata": {},
   "outputs": [],
   "source": [
    "#Dropping the columns with nans\n",
    "X_train = X_train.drop(cat_missing_train, axis = 1)\n",
    "X_valid = X_valid.drop(cat_missing_valid, axis = 1)"
   ]
  },
  {
   "cell_type": "code",
   "execution_count": 29,
   "id": "779f40d6",
   "metadata": {},
   "outputs": [],
   "source": [
    "#Joining the same columns but with removed nans\n",
    "X_train = pd.concat([X_train, iX_train_cat], axis = 1)\n",
    "X_valid = pd.concat([X_valid, iX_valid_cat], axis = 1)"
   ]
  },
  {
   "cell_type": "code",
   "execution_count": 30,
   "id": "446c4123",
   "metadata": {},
   "outputs": [
    {
     "data": {
      "text/plain": [
       "body                0\n",
       "Gear Box            0\n",
       "Steering Type       0\n",
       "Front Brake Type    0\n",
       "Rear Brake Type     0\n",
       "Tyre Type           0\n",
       "exterior_color      0\n",
       "dtype: int64"
      ]
     },
     "execution_count": 30,
     "metadata": {},
     "output_type": "execute_result"
    }
   ],
   "source": [
    "X_train[cat_missing_train].isnull().sum()#Crosscheck on train"
   ]
  },
  {
   "cell_type": "code",
   "execution_count": 31,
   "id": "0215b7c3",
   "metadata": {},
   "outputs": [
    {
     "data": {
      "text/plain": [
       "body                0\n",
       "Gear Box            0\n",
       "Steering Type       0\n",
       "Front Brake Type    0\n",
       "Rear Brake Type     0\n",
       "Tyre Type           0\n",
       "exterior_color      0\n",
       "dtype: int64"
      ]
     },
     "execution_count": 31,
     "metadata": {},
     "output_type": "execute_result"
    }
   ],
   "source": [
    "X_valid[cat_missing_valid].isnull().sum()#Crosscheck on valid"
   ]
  },
  {
   "cell_type": "markdown",
   "id": "3e3cb9cd",
   "metadata": {},
   "source": [
    "### 2.1.2. Imputing Valve Configuration"
   ]
  },
  {
   "cell_type": "code",
   "execution_count": 32,
   "id": "8f566e62",
   "metadata": {},
   "outputs": [
    {
     "data": {
      "text/plain": [
       "dohc                   21207\n",
       "sohc                    5578\n",
       "idsi                      57\n",
       "16 modules 48 cells       11\n",
       "ohv / pushrod              3\n",
       "Name: Valve Configuration, dtype: int64"
      ]
     },
     "execution_count": 32,
     "metadata": {},
     "output_type": "execute_result"
    }
   ],
   "source": [
    "X_train['Valve Configuration'].value_counts()#Looking at distribution"
   ]
  },
  {
   "cell_type": "code",
   "execution_count": 33,
   "id": "67677620",
   "metadata": {},
   "outputs": [
    {
     "data": {
      "text/plain": [
       "<Axes: xlabel='Valve Configuration', ylabel='myear'>"
      ]
     },
     "execution_count": 33,
     "metadata": {},
     "output_type": "execute_result"
    },
    {
     "data": {
      "image/png": "[encoded data removed]",
      "text/plain": [
       "<Figure size 640x480 with 1 Axes>"
      ]
     },
     "metadata": {},
     "output_type": "display_data"
    }
   ],
   "source": [
    "#Looking at Valve Configuration's reln with other features\n",
    "sns.scatterplot(x = X_train['Valve Configuration'], y = X_train['myear'])"
   ]
  },
  {
   "cell_type": "code",
   "execution_count": 34,
   "id": "96177051",
   "metadata": {},
   "outputs": [],
   "source": [
    "#Checking the distribution over the years\n",
    "sohc_cars = X_train.loc[X_train['Valve Configuration'] == 'sohc']\n",
    "dohc_cars = X_train.loc[X_train['Valve Configuration'] == 'dohc']"
   ]
  },
  {
   "cell_type": "code",
   "execution_count": 35,
   "id": "0e559550",
   "metadata": {},
   "outputs": [
    {
     "data": {
      "text/html": [
       "<div>\n",
       "<style scoped>\n",
       "    .dataframe tbody tr th:only-of-type {\n",
       "        vertical-align: middle;\n",
       "    }\n",
       "\n",
       "    .dataframe tbody tr th {\n",
       "        vertical-align: top;\n",
       "    }\n",
       "\n",
       "    .dataframe thead th {\n",
       "        text-align: right;\n",
       "    }\n",
       "</style>\n",
       "<table border=\"1\" class=\"dataframe\">\n",
       "  <thead>\n",
       "    <tr style=\"text-align: right;\">\n",
       "      <th></th>\n",
       "      <th>sohc</th>\n",
       "      <th>dohc</th>\n",
       "    </tr>\n",
       "    <tr>\n",
       "      <th>myear</th>\n",
       "      <th></th>\n",
       "      <th></th>\n",
       "    </tr>\n",
       "  </thead>\n",
       "  <tbody>\n",
       "    <tr>\n",
       "      <th>1986</th>\n",
       "      <td>1</td>\n",
       "      <td>NaN</td>\n",
       "    </tr>\n",
       "    <tr>\n",
       "      <th>1989</th>\n",
       "      <td>1</td>\n",
       "      <td>NaN</td>\n",
       "    </tr>\n",
       "    <tr>\n",
       "      <th>1997</th>\n",
       "      <td>1</td>\n",
       "      <td>NaN</td>\n",
       "    </tr>\n",
       "    <tr>\n",
       "      <th>1998</th>\n",
       "      <td>1</td>\n",
       "      <td>NaN</td>\n",
       "    </tr>\n",
       "    <tr>\n",
       "      <th>1999</th>\n",
       "      <td>3</td>\n",
       "      <td>NaN</td>\n",
       "    </tr>\n",
       "    <tr>\n",
       "      <th>2000</th>\n",
       "      <td>5</td>\n",
       "      <td>NaN</td>\n",
       "    </tr>\n",
       "    <tr>\n",
       "      <th>2001</th>\n",
       "      <td>4</td>\n",
       "      <td>NaN</td>\n",
       "    </tr>\n",
       "    <tr>\n",
       "      <th>2002</th>\n",
       "      <td>8</td>\n",
       "      <td>1.0</td>\n",
       "    </tr>\n",
       "    <tr>\n",
       "      <th>2003</th>\n",
       "      <td>11</td>\n",
       "      <td>NaN</td>\n",
       "    </tr>\n",
       "    <tr>\n",
       "      <th>2004</th>\n",
       "      <td>12</td>\n",
       "      <td>10.0</td>\n",
       "    </tr>\n",
       "    <tr>\n",
       "      <th>2005</th>\n",
       "      <td>21</td>\n",
       "      <td>14.0</td>\n",
       "    </tr>\n",
       "    <tr>\n",
       "      <th>2006</th>\n",
       "      <td>31</td>\n",
       "      <td>23.0</td>\n",
       "    </tr>\n",
       "    <tr>\n",
       "      <th>2007</th>\n",
       "      <td>57</td>\n",
       "      <td>45.0</td>\n",
       "    </tr>\n",
       "    <tr>\n",
       "      <th>2008</th>\n",
       "      <td>272</td>\n",
       "      <td>153.0</td>\n",
       "    </tr>\n",
       "    <tr>\n",
       "      <th>2009</th>\n",
       "      <td>464</td>\n",
       "      <td>392.0</td>\n",
       "    </tr>\n",
       "    <tr>\n",
       "      <th>2010</th>\n",
       "      <td>468</td>\n",
       "      <td>668.0</td>\n",
       "    </tr>\n",
       "    <tr>\n",
       "      <th>2011</th>\n",
       "      <td>408</td>\n",
       "      <td>852.0</td>\n",
       "    </tr>\n",
       "    <tr>\n",
       "      <th>2012</th>\n",
       "      <td>451</td>\n",
       "      <td>961.0</td>\n",
       "    </tr>\n",
       "    <tr>\n",
       "      <th>2013</th>\n",
       "      <td>407</td>\n",
       "      <td>1544.0</td>\n",
       "    </tr>\n",
       "    <tr>\n",
       "      <th>2014</th>\n",
       "      <td>476</td>\n",
       "      <td>2250.0</td>\n",
       "    </tr>\n",
       "    <tr>\n",
       "      <th>2015</th>\n",
       "      <td>569</td>\n",
       "      <td>2435.0</td>\n",
       "    </tr>\n",
       "    <tr>\n",
       "      <th>2016</th>\n",
       "      <td>452</td>\n",
       "      <td>2538.0</td>\n",
       "    </tr>\n",
       "    <tr>\n",
       "      <th>2017</th>\n",
       "      <td>471</td>\n",
       "      <td>2924.0</td>\n",
       "    </tr>\n",
       "    <tr>\n",
       "      <th>2018</th>\n",
       "      <td>402</td>\n",
       "      <td>2674.0</td>\n",
       "    </tr>\n",
       "    <tr>\n",
       "      <th>2019</th>\n",
       "      <td>241</td>\n",
       "      <td>1987.0</td>\n",
       "    </tr>\n",
       "    <tr>\n",
       "      <th>2020</th>\n",
       "      <td>114</td>\n",
       "      <td>920.0</td>\n",
       "    </tr>\n",
       "    <tr>\n",
       "      <th>2021</th>\n",
       "      <td>158</td>\n",
       "      <td>641.0</td>\n",
       "    </tr>\n",
       "    <tr>\n",
       "      <th>2022</th>\n",
       "      <td>68</td>\n",
       "      <td>172.0</td>\n",
       "    </tr>\n",
       "    <tr>\n",
       "      <th>2023</th>\n",
       "      <td>1</td>\n",
       "      <td>3.0</td>\n",
       "    </tr>\n",
       "  </tbody>\n",
       "</table>\n",
       "</div>"
      ],
      "text/plain": [
       "       sohc    dohc\n",
       "myear              \n",
       "1986      1     NaN\n",
       "1989      1     NaN\n",
       "1997      1     NaN\n",
       "1998      1     NaN\n",
       "1999      3     NaN\n",
       "2000      5     NaN\n",
       "2001      4     NaN\n",
       "2002      8     1.0\n",
       "2003     11     NaN\n",
       "2004     12    10.0\n",
       "2005     21    14.0\n",
       "2006     31    23.0\n",
       "2007     57    45.0\n",
       "2008    272   153.0\n",
       "2009    464   392.0\n",
       "2010    468   668.0\n",
       "2011    408   852.0\n",
       "2012    451   961.0\n",
       "2013    407  1544.0\n",
       "2014    476  2250.0\n",
       "2015    569  2435.0\n",
       "2016    452  2538.0\n",
       "2017    471  2924.0\n",
       "2018    402  2674.0\n",
       "2019    241  1987.0\n",
       "2020    114   920.0\n",
       "2021    158   641.0\n",
       "2022     68   172.0\n",
       "2023      1     3.0"
      ]
     },
     "execution_count": 35,
     "metadata": {},
     "output_type": "execute_result"
    }
   ],
   "source": [
    "boo = pd.Series(sohc_cars.groupby('myear').size(), name= 'sohc')\n",
    "poo = pd.Series(dohc_cars.groupby('myear').size(), name = 'dohc')\n",
    "vcan = pd.concat([boo, poo], axis = 1)\n",
    "vcan"
   ]
  },
  {
   "cell_type": "code",
   "execution_count": 36,
   "id": "98d28fc2",
   "metadata": {},
   "outputs": [
    {
     "data": {
      "text/plain": [
       "<matplotlib.legend.Legend at 0x20eded2fd00>"
      ]
     },
     "execution_count": 36,
     "metadata": {},
     "output_type": "execute_result"
    },
    {
     "data": {
      "image/png": "[encoded data removed]",
      "text/plain": [
       "<Figure size 640x480 with 1 Axes>"
      ]
     },
     "metadata": {},
     "output_type": "display_data"
    }
   ],
   "source": [
    "sns.lineplot(x = vcan.index, y = vcan['sohc'], color = 'r', label = 'sohc')\n",
    "sns.lineplot(x = vcan.index, y = vcan['dohc'], color = 'b', label = 'dohc')\n",
    "plt.legend()"
   ]
  },
  {
   "cell_type": "markdown",
   "id": "1e32a1a6",
   "metadata": {},
   "source": [
    "Report: **Imputation Strategy**\n",
    "- Cars before 2010 : sohc\n",
    "- Cars after 2010(including 2010) : dohc"
   ]
  },
  {
   "cell_type": "code",
   "execution_count": 37,
   "id": "85a1f984",
   "metadata": {},
   "outputs": [],
   "source": [
    "#Sorting out the missing values in Valve Configuration\n",
    "def impute_valveconfig(row):\n",
    "    if pd.isnull(row['Valve Configuration']):\n",
    "        if row['myear'] >= 2010:\n",
    "            return 'dohc'\n",
    "        else:\n",
    "            return 'sohc'\n",
    "    else:\n",
    "        return row['Valve Configuration']"
   ]
  },
  {
   "cell_type": "code",
   "execution_count": 38,
   "id": "a353d845",
   "metadata": {},
   "outputs": [],
   "source": [
    "X_train['Valve Configuration'] = X_train.apply(impute_valveconfig, axis = 1)\n",
    "X_valid['Valve Configuration'] = X_valid.apply(impute_valveconfig, axis = 1)"
   ]
  },
  {
   "cell_type": "code",
   "execution_count": 39,
   "id": "0e06ef14",
   "metadata": {},
   "outputs": [
    {
     "data": {
      "text/plain": [
       "dohc                   27772\n",
       "sohc                    6188\n",
       "idsi                      57\n",
       "16 modules 48 cells       11\n",
       "ohv / pushrod              3\n",
       "Name: Valve Configuration, dtype: int64"
      ]
     },
     "execution_count": 39,
     "metadata": {},
     "output_type": "execute_result"
    }
   ],
   "source": [
    "X_train['Valve Configuration'].value_counts()"
   ]
  },
  {
   "cell_type": "code",
   "execution_count": 40,
   "id": "07513e47",
   "metadata": {},
   "outputs": [
    {
     "data": {
      "text/plain": [
       "dohc    3070\n",
       "sohc     703\n",
       "idsi       9\n",
       "Name: Valve Configuration, dtype: int64"
      ]
     },
     "execution_count": 40,
     "metadata": {},
     "output_type": "execute_result"
    }
   ],
   "source": [
    "X_valid['Valve Configuration'].value_counts()"
   ]
  },
  {
   "cell_type": "code",
   "execution_count": 41,
   "id": "b4efb0f9",
   "metadata": {},
   "outputs": [
    {
     "name": "stdout",
     "output_type": "stream",
     "text": [
      "Valve Config NaNs in train:  0\n",
      "Valve Config NaNs in valid:  0\n"
     ]
    }
   ],
   "source": [
    "print(\"Valve Config NaNs in train: \", X_train['Valve Configuration'].isna().sum())\n",
    "print(\"Valve Config NaNs in valid: \", X_valid['Valve Configuration'].isna().sum())"
   ]
  },
  {
   "cell_type": "markdown",
   "id": "ca4fb164",
   "metadata": {},
   "source": [
    "### 2.1.3. Imputing Drive Type"
   ]
  },
  {
   "cell_type": "code",
   "execution_count": 42,
   "id": "21a5c673",
   "metadata": {},
   "outputs": [
    {
     "data": {
      "text/plain": [
       "fwd    24891\n",
       "rwd     2082\n",
       "2wd     1016\n",
       "awd     1008\n",
       "4wd      718\n",
       "4x2      264\n",
       "Name: Drive Type, dtype: int64"
      ]
     },
     "execution_count": 42,
     "metadata": {},
     "output_type": "execute_result"
    }
   ],
   "source": [
    "a1 = X_train['Drive Type'].value_counts()\n",
    "a1"
   ]
  },
  {
   "cell_type": "markdown",
   "id": "7827e6a7",
   "metadata": {},
   "source": [
    "- **REPORT:**\n",
    "- 4x2 and 2wd are literally the same\n",
    "- 4wd and awd are also the same\n",
    "- fwd and rwd are distinct\n",
    "- Altogether categories can be reduced to [fwd, rwd, awd and 2wd]"
   ]
  },
  {
   "cell_type": "code",
   "execution_count": 43,
   "id": "7c9810dd",
   "metadata": {},
   "outputs": [],
   "source": [
    "def reduceDriveType(row):\n",
    "    if row['Drive Type'] == '4wd':\n",
    "        return 'awd'\n",
    "    elif row['Drive Type'] == '4x2':\n",
    "        return '2wd'\n",
    "    else:\n",
    "        return row['Drive Type']"
   ]
  },
  {
   "cell_type": "code",
   "execution_count": 44,
   "id": "aed43e27",
   "metadata": {},
   "outputs": [],
   "source": [
    "X_train['Drive Type'] = X_train.apply(reduceDriveType, axis = 1)#applying the function to each row\n",
    "X_valid['Drive Type'] = X_valid.apply(reduceDriveType, axis = 1)"
   ]
  },
  {
   "cell_type": "code",
   "execution_count": 45,
   "id": "6cbd86d9",
   "metadata": {},
   "outputs": [
    {
     "data": {
      "text/plain": [
       "fwd    24891\n",
       "rwd     2082\n",
       "awd     1726\n",
       "2wd     1280\n",
       "Name: Drive Type, dtype: int64"
      ]
     },
     "execution_count": 45,
     "metadata": {},
     "output_type": "execute_result"
    }
   ],
   "source": [
    "X_train['Drive Type'].value_counts()#The new column"
   ]
  },
  {
   "cell_type": "code",
   "execution_count": 46,
   "id": "a54e35e1",
   "metadata": {},
   "outputs": [
    {
     "data": {
      "text/plain": [
       "body             Drive Type\n",
       "convertibles     fwd               5\n",
       "                 rwd              14\n",
       "coupe            awd               8\n",
       "                 rwd               8\n",
       "hatchback        2wd             327\n",
       "                 awd               7\n",
       "                 fwd           11429\n",
       "                 rwd              87\n",
       "hybrids          awd               2\n",
       "                 fwd               2\n",
       "luxury vehicles  awd              19\n",
       "                 fwd              17\n",
       "minivans         2wd               1\n",
       "                 fwd               6\n",
       "                 rwd             262\n",
       "muv              2wd             166\n",
       "                 awd              77\n",
       "                 fwd             774\n",
       "                 rwd             346\n",
       "pickup trucks    2wd               4\n",
       "                 awd              18\n",
       "                 fwd               5\n",
       "                 rwd               8\n",
       "sedan            2wd             275\n",
       "                 awd              67\n",
       "                 fwd            7509\n",
       "                 rwd             770\n",
       "suv              2wd             507\n",
       "                 awd            1527\n",
       "                 fwd            5140\n",
       "                 rwd             585\n",
       "wagon            awd               1\n",
       "                 fwd               4\n",
       "                 rwd               2\n",
       "dtype: int64"
      ]
     },
     "execution_count": 46,
     "metadata": {},
     "output_type": "execute_result"
    }
   ],
   "source": [
    "X_train.groupby(['body', 'Drive Type']).size()"
   ]
  },
  {
   "cell_type": "markdown",
   "id": "c3e44226",
   "metadata": {},
   "source": [
    "- **Report:**\n",
    "- fwd: hatchback, muv, sedan, suv, wagon\n",
    "- rwd: convertible, coupes, minivans\n",
    "- awd: pickup trucks, luxury, hybrid"
   ]
  },
  {
   "cell_type": "code",
   "execution_count": 47,
   "id": "7a9f3ff8",
   "metadata": {},
   "outputs": [
    {
     "data": {
      "text/plain": [
       "array(['sedan', 'hatchback', 'suv', 'muv', 'minivans', 'convertibles',\n",
       "       'luxury vehicles', 'pickup trucks', 'coupe', 'wagon', 'hybrids'],\n",
       "      dtype=object)"
      ]
     },
     "execution_count": 47,
     "metadata": {},
     "output_type": "execute_result"
    }
   ],
   "source": [
    "X_train['body'].unique()"
   ]
  },
  {
   "cell_type": "code",
   "execution_count": 48,
   "id": "b007135a",
   "metadata": {},
   "outputs": [],
   "source": [
    "def imputeDriveType(row):\n",
    "    if pd.isnull(row['Drive Type']):\n",
    "        if row['body'] in ['hatchback', 'muv', 'sedan', 'suv', 'wagon']:\n",
    "            return 'fwd'\n",
    "        elif row['body'] in ['convertibles', 'coupe', 'minivans']:\n",
    "            return 'rwd'\n",
    "        else:\n",
    "            return 'awd'\n",
    "    else:\n",
    "        return row['Drive Type']"
   ]
  },
  {
   "cell_type": "code",
   "execution_count": 49,
   "id": "5971b701",
   "metadata": {},
   "outputs": [],
   "source": [
    "X_train['Drive Type'] = X_train.apply(imputeDriveType, axis = 1)\n",
    "X_valid['Drive Type'] = X_valid.apply(imputeDriveType, axis = 1)"
   ]
  },
  {
   "cell_type": "markdown",
   "id": "c3cb4c55",
   "metadata": {},
   "source": [
    "### 2.1.4 Imputing Fuel Supply System"
   ]
  },
  {
   "cell_type": "code",
   "execution_count": 50,
   "id": "260e9961",
   "metadata": {},
   "outputs": [
    {
     "data": {
      "text/plain": [
       "Index(['myear', 'transmission', 'fuel', 'km', 'oem', 'model', 'variant',\n",
       "       'top_features', 'comfort_features', 'interior_features',\n",
       "       'exterior_features', 'safety_features', 'No of Cylinder',\n",
       "       'Valves per Cylinder', 'Valve Configuration', 'Turbo Charger',\n",
       "       'Super Charger', 'Length', 'Width', 'Height', 'Wheel Base',\n",
       "       'Front Tread', 'Rear Tread', 'Kerb Weight', 'Drive Type', 'Seats',\n",
       "       'Top Speed', 'Acceleration', 'Doors', 'Cargo Volume', 'owner_type',\n",
       "       'Fuel Supply System', 'Max Power Delivered', 'Max Power At',\n",
       "       'Max Torque Delivered', 'Max Torque At', 'body', 'Gear Box',\n",
       "       'Steering Type', 'Front Brake Type', 'Rear Brake Type', 'Tyre Type',\n",
       "       'exterior_color'],\n",
       "      dtype='object')"
      ]
     },
     "execution_count": 50,
     "metadata": {},
     "output_type": "execute_result"
    }
   ],
   "source": [
    "X_train.columns"
   ]
  },
  {
   "cell_type": "code",
   "execution_count": 51,
   "id": "b1576c75",
   "metadata": {},
   "outputs": [
    {
     "data": {
      "text/plain": [
       "array(['Electronic Fuel Injection', 'Multi-Point Fuel Injection',\n",
       "       'Direct Injection', nan, 'Common Rail Injection',\n",
       "       'Diesel Direct Injection', 'Gasoline Port Injection',\n",
       "       'Gasoline Direct Injection', 'Indirect Injection',\n",
       "       'Turbo Intercooled Diesel', 'Electric',\n",
       "       'Variable Valve Timing Injection',\n",
       "       'Distributor-Type Fuel Injection',\n",
       "       'Three-Phase AC Induction Motors', 'Intake Port Injection'],\n",
       "      dtype=object)"
      ]
     },
     "execution_count": 51,
     "metadata": {},
     "output_type": "execute_result"
    }
   ],
   "source": [
    "X_train['Fuel Supply System'].unique()"
   ]
  },
  {
   "cell_type": "code",
   "execution_count": 52,
   "id": "3d0577f3",
   "metadata": {},
   "outputs": [
    {
     "data": {
      "text/plain": [
       "Multi-Point Fuel Injection         12637\n",
       "Common Rail Injection              10637\n",
       "Direct Injection                    3471\n",
       "Electronic Fuel Injection           1418\n",
       "Gasoline Direct Injection            598\n",
       "Diesel Direct Injection               88\n",
       "Gasoline Port Injection               88\n",
       "Turbo Intercooled Diesel              80\n",
       "Indirect Injection                    19\n",
       "Variable Valve Timing Injection       14\n",
       "Three-Phase AC Induction Motors       11\n",
       "Distributor-Type Fuel Injection        7\n",
       "Electric                               6\n",
       "Intake Port Injection                  1\n",
       "Name: Fuel Supply System, dtype: int64"
      ]
     },
     "execution_count": 52,
     "metadata": {},
     "output_type": "execute_result"
    }
   ],
   "source": [
    "X_train['Fuel Supply System'].value_counts()"
   ]
  },
  {
   "cell_type": "code",
   "execution_count": 53,
   "id": "3c18b6f2",
   "metadata": {},
   "outputs": [
    {
     "data": {
      "text/plain": [
       "petrol      19563\n",
       "diesel      13202\n",
       "cng           967\n",
       "lpg           182\n",
       "electric      117\n",
       "Name: fuel, dtype: int64"
      ]
     },
     "execution_count": 53,
     "metadata": {},
     "output_type": "execute_result"
    }
   ],
   "source": [
    "X_train['fuel'].value_counts()"
   ]
  },
  {
   "cell_type": "code",
   "execution_count": 54,
   "id": "310f2e35",
   "metadata": {},
   "outputs": [],
   "source": [
    "def reduceFuelSupplySystem(row):\n",
    "    if row['Fuel Supply System'] in ['Gasoline Direct Injection', 'Diesel Direct Injection']:\n",
    "        return 'Direct Injection'\n",
    "    elif row['Fuel Supply System'] == 'Electric':\n",
    "        if row['fuel'] == 'petrol':\n",
    "            return 'Electronic Fuel Injection'\n",
    "        if row['fuel'] == 'electric':\n",
    "            return 'Three-Phase AC Induction Motors'\n",
    "    elif row['Fuel Supply System'] in ['Intake Port Injection','Gasoline Port Injection']:\n",
    "        return 'Port Injection'\n",
    "    else:\n",
    "        return row['Fuel Supply System']"
   ]
  },
  {
   "cell_type": "code",
   "execution_count": 55,
   "id": "e8e445a5",
   "metadata": {},
   "outputs": [],
   "source": [
    "X_train['Fuel Supply System'] = X_train.apply(reduceFuelSupplySystem, axis = 1)\n",
    "X_valid['Fuel Supply System'] = X_valid.apply(reduceFuelSupplySystem, axis = 1)"
   ]
  },
  {
   "cell_type": "code",
   "execution_count": 56,
   "id": "d918443d",
   "metadata": {},
   "outputs": [
    {
     "data": {
      "text/plain": [
       "Multi-Point Fuel Injection         12637\n",
       "Common Rail Injection              10637\n",
       "Direct Injection                    4157\n",
       "Electronic Fuel Injection           1419\n",
       "Port Injection                        89\n",
       "Turbo Intercooled Diesel              80\n",
       "Indirect Injection                    19\n",
       "Three-Phase AC Induction Motors       16\n",
       "Variable Valve Timing Injection       14\n",
       "Distributor-Type Fuel Injection        7\n",
       "Name: Fuel Supply System, dtype: int64"
      ]
     },
     "execution_count": 56,
     "metadata": {},
     "output_type": "execute_result"
    }
   ],
   "source": [
    "X_train['Fuel Supply System'].value_counts()"
   ]
  },
  {
   "cell_type": "code",
   "execution_count": 57,
   "id": "d5e440b8",
   "metadata": {},
   "outputs": [
    {
     "data": {
      "text/plain": [
       "fuel      Fuel Supply System             \n",
       "cng       Distributor-Type Fuel Injection        3\n",
       "          Electronic Fuel Injection              7\n",
       "          Multi-Point Fuel Injection           403\n",
       "          Port Injection                        82\n",
       "diesel    Common Rail Injection               9066\n",
       "          Direct Injection                    2667\n",
       "          Distributor-Type Fuel Injection        3\n",
       "          Electronic Fuel Injection             16\n",
       "          Indirect Injection                    19\n",
       "          Multi-Point Fuel Injection           194\n",
       "          Turbo Intercooled Diesel              80\n",
       "electric  Electronic Fuel Injection              8\n",
       "          Three-Phase AC Induction Motors       16\n",
       "lpg       Electronic Fuel Injection              8\n",
       "          Multi-Point Fuel Injection           163\n",
       "petrol    Common Rail Injection               1571\n",
       "          Direct Injection                    1490\n",
       "          Distributor-Type Fuel Injection        1\n",
       "          Electronic Fuel Injection           1380\n",
       "          Multi-Point Fuel Injection         11877\n",
       "          Port Injection                         7\n",
       "          Variable Valve Timing Injection       14\n",
       "dtype: int64"
      ]
     },
     "execution_count": 57,
     "metadata": {},
     "output_type": "execute_result"
    }
   ],
   "source": [
    "X_train.groupby(['fuel', 'Fuel Supply System']).size()"
   ]
  },
  {
   "cell_type": "code",
   "execution_count": 58,
   "id": "426ed1a6",
   "metadata": {},
   "outputs": [
    {
     "data": {
      "text/html": [
       "<div>\n",
       "<style scoped>\n",
       "    .dataframe tbody tr th:only-of-type {\n",
       "        vertical-align: middle;\n",
       "    }\n",
       "\n",
       "    .dataframe tbody tr th {\n",
       "        vertical-align: top;\n",
       "    }\n",
       "\n",
       "    .dataframe thead th {\n",
       "        text-align: right;\n",
       "    }\n",
       "</style>\n",
       "<table border=\"1\" class=\"dataframe\">\n",
       "  <thead>\n",
       "    <tr style=\"text-align: right;\">\n",
       "      <th></th>\n",
       "      <th>min</th>\n",
       "      <th>max</th>\n",
       "    </tr>\n",
       "    <tr>\n",
       "      <th>Fuel Supply System</th>\n",
       "      <th></th>\n",
       "      <th></th>\n",
       "    </tr>\n",
       "  </thead>\n",
       "  <tbody>\n",
       "    <tr>\n",
       "      <th>Common Rail Injection</th>\n",
       "      <td>2002</td>\n",
       "      <td>2023</td>\n",
       "    </tr>\n",
       "    <tr>\n",
       "      <th>Direct Injection</th>\n",
       "      <td>2000</td>\n",
       "      <td>2023</td>\n",
       "    </tr>\n",
       "    <tr>\n",
       "      <th>Distributor-Type Fuel Injection</th>\n",
       "      <td>2001</td>\n",
       "      <td>2017</td>\n",
       "    </tr>\n",
       "    <tr>\n",
       "      <th>Electronic Fuel Injection</th>\n",
       "      <td>2003</td>\n",
       "      <td>2023</td>\n",
       "    </tr>\n",
       "    <tr>\n",
       "      <th>Indirect Injection</th>\n",
       "      <td>2003</td>\n",
       "      <td>2012</td>\n",
       "    </tr>\n",
       "    <tr>\n",
       "      <th>Multi-Point Fuel Injection</th>\n",
       "      <td>1986</td>\n",
       "      <td>2023</td>\n",
       "    </tr>\n",
       "    <tr>\n",
       "      <th>Port Injection</th>\n",
       "      <td>2004</td>\n",
       "      <td>2021</td>\n",
       "    </tr>\n",
       "    <tr>\n",
       "      <th>Three-Phase AC Induction Motors</th>\n",
       "      <td>2017</td>\n",
       "      <td>2019</td>\n",
       "    </tr>\n",
       "    <tr>\n",
       "      <th>Turbo Intercooled Diesel</th>\n",
       "      <td>2007</td>\n",
       "      <td>2020</td>\n",
       "    </tr>\n",
       "    <tr>\n",
       "      <th>Variable Valve Timing Injection</th>\n",
       "      <td>2011</td>\n",
       "      <td>2020</td>\n",
       "    </tr>\n",
       "  </tbody>\n",
       "</table>\n",
       "</div>"
      ],
      "text/plain": [
       "                                  min   max\n",
       "Fuel Supply System                         \n",
       "Common Rail Injection            2002  2023\n",
       "Direct Injection                 2000  2023\n",
       "Distributor-Type Fuel Injection  2001  2017\n",
       "Electronic Fuel Injection        2003  2023\n",
       "Indirect Injection               2003  2012\n",
       "Multi-Point Fuel Injection       1986  2023\n",
       "Port Injection                   2004  2021\n",
       "Three-Phase AC Induction Motors  2017  2019\n",
       "Turbo Intercooled Diesel         2007  2020\n",
       "Variable Valve Timing Injection  2011  2020"
      ]
     },
     "execution_count": 58,
     "metadata": {},
     "output_type": "execute_result"
    }
   ],
   "source": [
    "X_train.groupby(['Fuel Supply System'])['myear'].agg([min, max])"
   ]
  },
  {
   "cell_type": "code",
   "execution_count": 59,
   "id": "632ccf01",
   "metadata": {
    "scrolled": true
   },
   "outputs": [
    {
     "data": {
      "text/plain": [
       "tata nexon ev prime    59\n",
       "mg zs ev               13\n",
       "mahindra e2o plus      11\n",
       "toyota camry            8\n",
       "tata tigor ev           7\n",
       "mahindra e verito       5\n",
       "mahindra e2o            5\n",
       "hyundai kona            4\n",
       "tata nexon ev max       2\n",
       "mercedes-benz eqc       2\n",
       "mini cooper se          1\n",
       "Name: model, dtype: int64"
      ]
     },
     "execution_count": 59,
     "metadata": {},
     "output_type": "execute_result"
    }
   ],
   "source": [
    "X_train.loc[X_train.fuel == 'electric']['model'].value_counts()"
   ]
  },
  {
   "cell_type": "markdown",
   "id": "3118c42b",
   "metadata": {},
   "source": [
    "- **REPORT**\n",
    "- myear has no effect on fss\n",
    "- petrol, lpg, cng most use multipoint fuel injection\n",
    "- diesel uses rail injection\n",
    "- electric uses threephase AC(Only camry is not purely electric which uses electric injection)"
   ]
  },
  {
   "cell_type": "code",
   "execution_count": 60,
   "id": "56a0adda",
   "metadata": {},
   "outputs": [],
   "source": [
    "#Function for imputing Fuel Supply System\n",
    "def imputeFSS(row):\n",
    "    if pd.isnull(row['Fuel Supply System']):\n",
    "        if row['fuel'] in ['petrol', 'lpg', 'cng']:\n",
    "            return 'Multi-Point Fuel Injection'\n",
    "        elif row['fuel'] == 'diesel':\n",
    "            return 'Common Rail Injection'\n",
    "        elif row['fuel'] == 'electric':\n",
    "            return 'Three-Phase AC Induction Motors'\n",
    "    else:\n",
    "        return row['Fuel Supply System']"
   ]
  },
  {
   "cell_type": "code",
   "execution_count": 61,
   "id": "995f3a73",
   "metadata": {},
   "outputs": [],
   "source": [
    "#Applying function across train and valid\n",
    "X_train['Fuel Supply System'] = X_train.apply(imputeFSS, axis = 1)\n",
    "X_valid['Fuel Supply System'] = X_valid.apply(imputeFSS, axis = 1)"
   ]
  },
  {
   "cell_type": "code",
   "execution_count": 62,
   "id": "98b237ae",
   "metadata": {},
   "outputs": [
    {
     "data": {
      "text/plain": [
       "Multi-Point Fuel Injection         16343\n",
       "Common Rail Injection              11794\n",
       "Direct Injection                    4157\n",
       "Electronic Fuel Injection           1419\n",
       "Three-Phase AC Induction Motors      109\n",
       "Port Injection                        89\n",
       "Turbo Intercooled Diesel              80\n",
       "Indirect Injection                    19\n",
       "Variable Valve Timing Injection       14\n",
       "Distributor-Type Fuel Injection        7\n",
       "Name: Fuel Supply System, dtype: int64"
      ]
     },
     "execution_count": 62,
     "metadata": {},
     "output_type": "execute_result"
    }
   ],
   "source": [
    "X_train['Fuel Supply System'].value_counts()"
   ]
  },
  {
   "cell_type": "code",
   "execution_count": 63,
   "id": "cb146299",
   "metadata": {},
   "outputs": [
    {
     "data": {
      "text/plain": [
       "body                   0\n",
       "transmission           0\n",
       "fuel                   0\n",
       "oem                    0\n",
       "model                  0\n",
       "variant                0\n",
       "top_features           0\n",
       "comfort_features       0\n",
       "interior_features      0\n",
       "exterior_features      0\n",
       "safety_features        0\n",
       "Valve Configuration    0\n",
       "Gear Box               0\n",
       "Drive Type             0\n",
       "Steering Type          0\n",
       "Front Brake Type       0\n",
       "Rear Brake Type        0\n",
       "Tyre Type              0\n",
       "exterior_color         0\n",
       "owner_type             0\n",
       "Fuel Supply System     0\n",
       "dtype: int64"
      ]
     },
     "execution_count": 63,
     "metadata": {},
     "output_type": "execute_result"
    }
   ],
   "source": [
    "X_train[categorical_cols].isnull().sum()"
   ]
  },
  {
   "cell_type": "code",
   "execution_count": 64,
   "id": "b2c44a9e",
   "metadata": {},
   "outputs": [
    {
     "data": {
      "text/plain": [
       "body                   0\n",
       "transmission           0\n",
       "fuel                   0\n",
       "oem                    0\n",
       "model                  0\n",
       "variant                0\n",
       "top_features           0\n",
       "comfort_features       0\n",
       "interior_features      0\n",
       "exterior_features      0\n",
       "safety_features        0\n",
       "Valve Configuration    0\n",
       "Gear Box               0\n",
       "Drive Type             0\n",
       "Steering Type          0\n",
       "Front Brake Type       0\n",
       "Rear Brake Type        0\n",
       "Tyre Type              0\n",
       "exterior_color         0\n",
       "owner_type             0\n",
       "Fuel Supply System     0\n",
       "dtype: int64"
      ]
     },
     "execution_count": 64,
     "metadata": {},
     "output_type": "execute_result"
    }
   ],
   "source": [
    "X_valid[categorical_cols].isnull().sum()"
   ]
  },
  {
   "cell_type": "markdown",
   "id": "8dc6348e",
   "metadata": {},
   "source": [
    "#### The Categorical Columns are now free of missing values"
   ]
  },
  {
   "cell_type": "markdown",
   "id": "7e9701c2",
   "metadata": {
    "papermill": {
     "duration": 0.010292,
     "end_time": "2023-08-11T16:41:31.788823",
     "exception": false,
     "start_time": "2023-08-11T16:41:31.778531",
     "status": "completed"
    },
    "tags": []
   },
   "source": [
    "## 3. Analysing Numerical Columns"
   ]
  },
  {
   "cell_type": "code",
   "execution_count": 65,
   "id": "e936c8e8",
   "metadata": {},
   "outputs": [],
   "source": [
    "#Features with type int64, float64, and bool\n",
    "numerical_cols = [col for col in X.columns \n",
    "                 if X[col].dtype != 'object']\n",
    "#Features wiht True and False\n",
    "bool_cols = [col for col in X.columns\n",
    "            if X[col].dtype == 'bool']\n",
    "#Separating the bool cols from numerical columns\n",
    "numerical_cols = [col for col in numerical_cols \n",
    "                 if col not in bool_cols]"
   ]
  },
  {
   "cell_type": "code",
   "execution_count": 66,
   "id": "2e0b6448",
   "metadata": {
    "execution": {
     "iopub.execute_input": "2023-08-11T16:41:31.893584Z",
     "iopub.status.busy": "2023-08-11T16:41:31.893167Z",
     "iopub.status.idle": "2023-08-11T16:41:31.905327Z",
     "shell.execute_reply": "2023-08-11T16:41:31.904087Z"
    },
    "papermill": {
     "duration": 0.026535,
     "end_time": "2023-08-11T16:41:31.907811",
     "exception": false,
     "start_time": "2023-08-11T16:41:31.881276",
     "status": "completed"
    },
    "tags": []
   },
   "outputs": [],
   "source": [
    "for col in bool_cols:\n",
    "    X[col] = X[col].astype(int)#Converting bool cols to numerical\n",
    "numerical_cols.extend(bool_cols)   #Adding back the numerical bool cols to main numerical cols"
   ]
  },
  {
   "cell_type": "code",
   "execution_count": 67,
   "id": "7290692b",
   "metadata": {
    "execution": {
     "iopub.execute_input": "2023-08-11T16:41:31.933301Z",
     "iopub.status.busy": "2023-08-11T16:41:31.932581Z",
     "iopub.status.idle": "2023-08-11T16:41:31.939998Z",
     "shell.execute_reply": "2023-08-11T16:41:31.938723Z"
    },
    "papermill": {
     "duration": 0.023984,
     "end_time": "2023-08-11T16:41:31.942911",
     "exception": false,
     "start_time": "2023-08-11T16:41:31.918927",
     "status": "completed"
    },
    "tags": []
   },
   "outputs": [
    {
     "data": {
      "text/plain": [
       "['myear',\n",
       " 'km',\n",
       " 'No of Cylinder',\n",
       " 'Valves per Cylinder',\n",
       " 'Length',\n",
       " 'Width',\n",
       " 'Height',\n",
       " 'Wheel Base',\n",
       " 'Front Tread',\n",
       " 'Rear Tread',\n",
       " 'Kerb Weight',\n",
       " 'Seats',\n",
       " 'Top Speed',\n",
       " 'Acceleration',\n",
       " 'Doors',\n",
       " 'Cargo Volume',\n",
       " 'Max Power Delivered',\n",
       " 'Max Power At',\n",
       " 'Max Torque Delivered',\n",
       " 'Max Torque At',\n",
       " 'Turbo Charger',\n",
       " 'Super Charger']"
      ]
     },
     "execution_count": 67,
     "metadata": {},
     "output_type": "execute_result"
    }
   ],
   "source": [
    "numerical_cols"
   ]
  },
  {
   "cell_type": "markdown",
   "id": "70bef323",
   "metadata": {},
   "source": [
    "### 3.1. Checking Missing Values"
   ]
  },
  {
   "cell_type": "code",
   "execution_count": 68,
   "id": "0a24b5a8",
   "metadata": {
    "execution": {
     "iopub.execute_input": "2023-08-11T16:41:31.969003Z",
     "iopub.status.busy": "2023-08-11T16:41:31.967979Z",
     "iopub.status.idle": "2023-08-11T16:41:32.020364Z",
     "shell.execute_reply": "2023-08-11T16:41:32.018291Z"
    },
    "papermill": {
     "duration": 0.069378,
     "end_time": "2023-08-11T16:41:32.023792",
     "exception": false,
     "start_time": "2023-08-11T16:41:31.954414",
     "status": "completed"
    },
    "tags": []
   },
   "outputs": [
    {
     "data": {
      "text/html": [
       "<div>\n",
       "<style scoped>\n",
       "    .dataframe tbody tr th:only-of-type {\n",
       "        vertical-align: middle;\n",
       "    }\n",
       "\n",
       "    .dataframe tbody tr th {\n",
       "        vertical-align: top;\n",
       "    }\n",
       "\n",
       "    .dataframe thead th {\n",
       "        text-align: right;\n",
       "    }\n",
       "</style>\n",
       "<table border=\"1\" class=\"dataframe\">\n",
       "  <thead>\n",
       "    <tr style=\"text-align: right;\">\n",
       "      <th></th>\n",
       "      <th>features</th>\n",
       "      <th>missing counts</th>\n",
       "      <th>%missing</th>\n",
       "      <th>uniques</th>\n",
       "    </tr>\n",
       "  </thead>\n",
       "  <tbody>\n",
       "    <tr>\n",
       "      <th>0</th>\n",
       "      <td>myear</td>\n",
       "      <td>0</td>\n",
       "      <td>0.000000</td>\n",
       "      <td>34</td>\n",
       "    </tr>\n",
       "    <tr>\n",
       "      <th>1</th>\n",
       "      <td>km</td>\n",
       "      <td>0</td>\n",
       "      <td>0.000000</td>\n",
       "      <td>21741</td>\n",
       "    </tr>\n",
       "    <tr>\n",
       "      <th>2</th>\n",
       "      <td>No of Cylinder</td>\n",
       "      <td>131</td>\n",
       "      <td>0.384943</td>\n",
       "      <td>11</td>\n",
       "    </tr>\n",
       "    <tr>\n",
       "      <th>3</th>\n",
       "      <td>Valves per Cylinder</td>\n",
       "      <td>204</td>\n",
       "      <td>0.599453</td>\n",
       "      <td>7</td>\n",
       "    </tr>\n",
       "    <tr>\n",
       "      <th>4</th>\n",
       "      <td>Length</td>\n",
       "      <td>320</td>\n",
       "      <td>0.940319</td>\n",
       "      <td>405</td>\n",
       "    </tr>\n",
       "    <tr>\n",
       "      <th>5</th>\n",
       "      <td>Width</td>\n",
       "      <td>328</td>\n",
       "      <td>0.963827</td>\n",
       "      <td>272</td>\n",
       "    </tr>\n",
       "    <tr>\n",
       "      <th>6</th>\n",
       "      <td>Height</td>\n",
       "      <td>321</td>\n",
       "      <td>0.943258</td>\n",
       "      <td>292</td>\n",
       "    </tr>\n",
       "    <tr>\n",
       "      <th>7</th>\n",
       "      <td>Wheel Base</td>\n",
       "      <td>490</td>\n",
       "      <td>1.439864</td>\n",
       "      <td>217</td>\n",
       "    </tr>\n",
       "    <tr>\n",
       "      <th>8</th>\n",
       "      <td>Front Tread</td>\n",
       "      <td>14303</td>\n",
       "      <td>42.029326</td>\n",
       "      <td>155</td>\n",
       "    </tr>\n",
       "    <tr>\n",
       "      <th>9</th>\n",
       "      <td>Rear Tread</td>\n",
       "      <td>14303</td>\n",
       "      <td>42.029326</td>\n",
       "      <td>171</td>\n",
       "    </tr>\n",
       "    <tr>\n",
       "      <th>10</th>\n",
       "      <td>Kerb Weight</td>\n",
       "      <td>11825</td>\n",
       "      <td>34.747730</td>\n",
       "      <td>534</td>\n",
       "    </tr>\n",
       "    <tr>\n",
       "      <th>11</th>\n",
       "      <td>Seats</td>\n",
       "      <td>16</td>\n",
       "      <td>0.047016</td>\n",
       "      <td>10</td>\n",
       "    </tr>\n",
       "    <tr>\n",
       "      <th>12</th>\n",
       "      <td>Top Speed</td>\n",
       "      <td>13811</td>\n",
       "      <td>40.583586</td>\n",
       "      <td>187</td>\n",
       "    </tr>\n",
       "    <tr>\n",
       "      <th>13</th>\n",
       "      <td>Acceleration</td>\n",
       "      <td>12583</td>\n",
       "      <td>36.975111</td>\n",
       "      <td>241</td>\n",
       "    </tr>\n",
       "    <tr>\n",
       "      <th>14</th>\n",
       "      <td>Doors</td>\n",
       "      <td>38</td>\n",
       "      <td>0.111663</td>\n",
       "      <td>5</td>\n",
       "    </tr>\n",
       "    <tr>\n",
       "      <th>15</th>\n",
       "      <td>Cargo Volume</td>\n",
       "      <td>6039</td>\n",
       "      <td>17.745585</td>\n",
       "      <td>201</td>\n",
       "    </tr>\n",
       "    <tr>\n",
       "      <th>16</th>\n",
       "      <td>Max Power Delivered</td>\n",
       "      <td>204</td>\n",
       "      <td>0.599453</td>\n",
       "      <td>561</td>\n",
       "    </tr>\n",
       "    <tr>\n",
       "      <th>17</th>\n",
       "      <td>Max Power At</td>\n",
       "      <td>2006</td>\n",
       "      <td>5.894625</td>\n",
       "      <td>50</td>\n",
       "    </tr>\n",
       "    <tr>\n",
       "      <th>18</th>\n",
       "      <td>Max Torque Delivered</td>\n",
       "      <td>204</td>\n",
       "      <td>0.599453</td>\n",
       "      <td>328</td>\n",
       "    </tr>\n",
       "    <tr>\n",
       "      <th>19</th>\n",
       "      <td>Max Torque At</td>\n",
       "      <td>1767</td>\n",
       "      <td>5.192325</td>\n",
       "      <td>111</td>\n",
       "    </tr>\n",
       "    <tr>\n",
       "      <th>20</th>\n",
       "      <td>Turbo Charger</td>\n",
       "      <td>0</td>\n",
       "      <td>0.000000</td>\n",
       "      <td>2</td>\n",
       "    </tr>\n",
       "    <tr>\n",
       "      <th>21</th>\n",
       "      <td>Super Charger</td>\n",
       "      <td>0</td>\n",
       "      <td>0.000000</td>\n",
       "      <td>2</td>\n",
       "    </tr>\n",
       "  </tbody>\n",
       "</table>\n",
       "</div>"
      ],
      "text/plain": [
       "                features  missing counts   %missing  uniques\n",
       "0                  myear               0   0.000000       34\n",
       "1                     km               0   0.000000    21741\n",
       "2         No of Cylinder             131   0.384943       11\n",
       "3    Valves per Cylinder             204   0.599453        7\n",
       "4                 Length             320   0.940319      405\n",
       "5                  Width             328   0.963827      272\n",
       "6                 Height             321   0.943258      292\n",
       "7             Wheel Base             490   1.439864      217\n",
       "8            Front Tread           14303  42.029326      155\n",
       "9             Rear Tread           14303  42.029326      171\n",
       "10           Kerb Weight           11825  34.747730      534\n",
       "11                 Seats              16   0.047016       10\n",
       "12             Top Speed           13811  40.583586      187\n",
       "13          Acceleration           12583  36.975111      241\n",
       "14                 Doors              38   0.111663        5\n",
       "15          Cargo Volume            6039  17.745585      201\n",
       "16   Max Power Delivered             204   0.599453      561\n",
       "17          Max Power At            2006   5.894625       50\n",
       "18  Max Torque Delivered             204   0.599453      328\n",
       "19         Max Torque At            1767   5.192325      111\n",
       "20         Turbo Charger               0   0.000000        2\n",
       "21         Super Charger               0   0.000000        2"
      ]
     },
     "execution_count": 68,
     "metadata": {},
     "output_type": "execute_result"
    }
   ],
   "source": [
    "a1 = pd.Series(data = [col for col in numerical_cols], name = 'features')\n",
    "b1 = pd.Series(data = [X_train[col].isna().sum() for col in numerical_cols], name = 'missing counts')\n",
    "c1 = pd.Series(data = b1 * 100/ X_train.shape[0], name = '%missing')\n",
    "d1 = pd.Series(data = [X_train[col].nunique() for col in numerical_cols], name = 'uniques')\n",
    "numinfo_train= pd.concat([a1, b1, c1, d1], axis = 1)\n",
    "numinfo_train"
   ]
  },
  {
   "cell_type": "code",
   "execution_count": 69,
   "id": "095026ed",
   "metadata": {
    "execution": {
     "iopub.execute_input": "2023-08-11T16:41:32.049746Z",
     "iopub.status.busy": "2023-08-11T16:41:32.049279Z",
     "iopub.status.idle": "2023-08-11T16:41:32.191974Z",
     "shell.execute_reply": "2023-08-11T16:41:32.190540Z"
    },
    "papermill": {
     "duration": 0.158895,
     "end_time": "2023-08-11T16:41:32.194628",
     "exception": false,
     "start_time": "2023-08-11T16:41:32.035733",
     "status": "completed"
    },
    "tags": []
   },
   "outputs": [
    {
     "data": {
      "text/html": [
       "<div>\n",
       "<style scoped>\n",
       "    .dataframe tbody tr th:only-of-type {\n",
       "        vertical-align: middle;\n",
       "    }\n",
       "\n",
       "    .dataframe tbody tr th {\n",
       "        vertical-align: top;\n",
       "    }\n",
       "\n",
       "    .dataframe thead th {\n",
       "        text-align: right;\n",
       "    }\n",
       "</style>\n",
       "<table border=\"1\" class=\"dataframe\">\n",
       "  <thead>\n",
       "    <tr style=\"text-align: right;\">\n",
       "      <th></th>\n",
       "      <th>features</th>\n",
       "      <th>missing counts</th>\n",
       "      <th>%missing</th>\n",
       "      <th>uniques</th>\n",
       "    </tr>\n",
       "  </thead>\n",
       "  <tbody>\n",
       "    <tr>\n",
       "      <th>0</th>\n",
       "      <td>myear</td>\n",
       "      <td>0</td>\n",
       "      <td>0.000000</td>\n",
       "      <td>23</td>\n",
       "    </tr>\n",
       "    <tr>\n",
       "      <th>1</th>\n",
       "      <td>km</td>\n",
       "      <td>0</td>\n",
       "      <td>0.000000</td>\n",
       "      <td>2747</td>\n",
       "    </tr>\n",
       "    <tr>\n",
       "      <th>2</th>\n",
       "      <td>No of Cylinder</td>\n",
       "      <td>12</td>\n",
       "      <td>0.317292</td>\n",
       "      <td>7</td>\n",
       "    </tr>\n",
       "    <tr>\n",
       "      <th>3</th>\n",
       "      <td>Valves per Cylinder</td>\n",
       "      <td>24</td>\n",
       "      <td>0.634585</td>\n",
       "      <td>4</td>\n",
       "    </tr>\n",
       "    <tr>\n",
       "      <th>4</th>\n",
       "      <td>Length</td>\n",
       "      <td>42</td>\n",
       "      <td>1.110524</td>\n",
       "      <td>278</td>\n",
       "    </tr>\n",
       "    <tr>\n",
       "      <th>5</th>\n",
       "      <td>Width</td>\n",
       "      <td>43</td>\n",
       "      <td>1.136965</td>\n",
       "      <td>199</td>\n",
       "    </tr>\n",
       "    <tr>\n",
       "      <th>6</th>\n",
       "      <td>Height</td>\n",
       "      <td>42</td>\n",
       "      <td>1.110524</td>\n",
       "      <td>219</td>\n",
       "    </tr>\n",
       "    <tr>\n",
       "      <th>7</th>\n",
       "      <td>Wheel Base</td>\n",
       "      <td>66</td>\n",
       "      <td>1.745108</td>\n",
       "      <td>156</td>\n",
       "    </tr>\n",
       "    <tr>\n",
       "      <th>8</th>\n",
       "      <td>Front Tread</td>\n",
       "      <td>1571</td>\n",
       "      <td>41.538868</td>\n",
       "      <td>118</td>\n",
       "    </tr>\n",
       "    <tr>\n",
       "      <th>9</th>\n",
       "      <td>Rear Tread</td>\n",
       "      <td>1572</td>\n",
       "      <td>41.565309</td>\n",
       "      <td>130</td>\n",
       "    </tr>\n",
       "    <tr>\n",
       "      <th>10</th>\n",
       "      <td>Kerb Weight</td>\n",
       "      <td>1314</td>\n",
       "      <td>34.743522</td>\n",
       "      <td>361</td>\n",
       "    </tr>\n",
       "    <tr>\n",
       "      <th>11</th>\n",
       "      <td>Seats</td>\n",
       "      <td>2</td>\n",
       "      <td>0.052882</td>\n",
       "      <td>10</td>\n",
       "    </tr>\n",
       "    <tr>\n",
       "      <th>12</th>\n",
       "      <td>Top Speed</td>\n",
       "      <td>1541</td>\n",
       "      <td>40.745637</td>\n",
       "      <td>139</td>\n",
       "    </tr>\n",
       "    <tr>\n",
       "      <th>13</th>\n",
       "      <td>Acceleration</td>\n",
       "      <td>1405</td>\n",
       "      <td>37.149656</td>\n",
       "      <td>188</td>\n",
       "    </tr>\n",
       "    <tr>\n",
       "      <th>14</th>\n",
       "      <td>Doors</td>\n",
       "      <td>6</td>\n",
       "      <td>0.158646</td>\n",
       "      <td>5</td>\n",
       "    </tr>\n",
       "    <tr>\n",
       "      <th>15</th>\n",
       "      <td>Cargo Volume</td>\n",
       "      <td>693</td>\n",
       "      <td>18.323638</td>\n",
       "      <td>156</td>\n",
       "    </tr>\n",
       "    <tr>\n",
       "      <th>16</th>\n",
       "      <td>Max Power Delivered</td>\n",
       "      <td>27</td>\n",
       "      <td>0.713908</td>\n",
       "      <td>369</td>\n",
       "    </tr>\n",
       "    <tr>\n",
       "      <th>17</th>\n",
       "      <td>Max Power At</td>\n",
       "      <td>241</td>\n",
       "      <td>6.372290</td>\n",
       "      <td>41</td>\n",
       "    </tr>\n",
       "    <tr>\n",
       "      <th>18</th>\n",
       "      <td>Max Torque Delivered</td>\n",
       "      <td>27</td>\n",
       "      <td>0.713908</td>\n",
       "      <td>231</td>\n",
       "    </tr>\n",
       "    <tr>\n",
       "      <th>19</th>\n",
       "      <td>Max Torque At</td>\n",
       "      <td>209</td>\n",
       "      <td>5.526177</td>\n",
       "      <td>76</td>\n",
       "    </tr>\n",
       "    <tr>\n",
       "      <th>20</th>\n",
       "      <td>Turbo Charger</td>\n",
       "      <td>0</td>\n",
       "      <td>0.000000</td>\n",
       "      <td>2</td>\n",
       "    </tr>\n",
       "    <tr>\n",
       "      <th>21</th>\n",
       "      <td>Super Charger</td>\n",
       "      <td>0</td>\n",
       "      <td>0.000000</td>\n",
       "      <td>2</td>\n",
       "    </tr>\n",
       "  </tbody>\n",
       "</table>\n",
       "</div>"
      ],
      "text/plain": [
       "                features  missing counts   %missing  uniques\n",
       "0                  myear               0   0.000000       23\n",
       "1                     km               0   0.000000     2747\n",
       "2         No of Cylinder              12   0.317292        7\n",
       "3    Valves per Cylinder              24   0.634585        4\n",
       "4                 Length              42   1.110524      278\n",
       "5                  Width              43   1.136965      199\n",
       "6                 Height              42   1.110524      219\n",
       "7             Wheel Base              66   1.745108      156\n",
       "8            Front Tread            1571  41.538868      118\n",
       "9             Rear Tread            1572  41.565309      130\n",
       "10           Kerb Weight            1314  34.743522      361\n",
       "11                 Seats               2   0.052882       10\n",
       "12             Top Speed            1541  40.745637      139\n",
       "13          Acceleration            1405  37.149656      188\n",
       "14                 Doors               6   0.158646        5\n",
       "15          Cargo Volume             693  18.323638      156\n",
       "16   Max Power Delivered              27   0.713908      369\n",
       "17          Max Power At             241   6.372290       41\n",
       "18  Max Torque Delivered              27   0.713908      231\n",
       "19         Max Torque At             209   5.526177       76\n",
       "20         Turbo Charger               0   0.000000        2\n",
       "21         Super Charger               0   0.000000        2"
      ]
     },
     "execution_count": 69,
     "metadata": {},
     "output_type": "execute_result"
    }
   ],
   "source": [
    "a2 = pd.Series(data = [col for col in numerical_cols], name = 'features')\n",
    "b2 = pd.Series(data = [X_valid[col].isna().sum() for col in numerical_cols], name = 'missing counts')\n",
    "c2 = pd.Series(data = b2 * 100/ X_valid.shape[0], name = '%missing')\n",
    "d2 = pd.Series(data = [X_valid[col].nunique() for col in numerical_cols], name = 'uniques')\n",
    "numinfo_valid= pd.concat([a2, b2, c2, d2], axis = 1)\n",
    "numinfo_valid"
   ]
  },
  {
   "cell_type": "markdown",
   "id": "4b04e05f",
   "metadata": {
    "execution": {
     "iopub.execute_input": "2023-08-11T16:41:32.219734Z",
     "iopub.status.busy": "2023-08-11T16:41:32.219292Z",
     "iopub.status.idle": "2023-08-11T16:41:32.232115Z",
     "shell.execute_reply": "2023-08-11T16:41:32.230976Z"
    },
    "papermill": {
     "duration": 0.028379,
     "end_time": "2023-08-11T16:41:32.234677",
     "exception": false,
     "start_time": "2023-08-11T16:41:32.206298",
     "status": "completed"
    },
    "tags": []
   },
   "source": [
    "- **REPORT**\n",
    "- Numerical features might contain categorical features with discrete values\n",
    "- Have to treat features with < 2% missing values together\n",
    "- Heavy duty columns(higher % of missing values) include:\n",
    "    - Front Tread \n",
    "    - Rear Tread\n",
    "    - Kerb Weight\n",
    "    - Top Speed\n",
    "    - Acceleration\n",
    "    - Cargo Volume\n",
    "    - Alloy Wheel Size\n",
    "    - Max Power At\n",
    "    - Max Torque At"
   ]
  },
  {
   "cell_type": "markdown",
   "id": "a060d56c",
   "metadata": {},
   "source": [
    "### 3.1.1 Features with < 2% Missing Values"
   ]
  },
  {
   "cell_type": "code",
   "execution_count": 70,
   "id": "7c156f10",
   "metadata": {
    "execution": {
     "iopub.execute_input": "2023-08-11T16:30:38.769177Z",
     "iopub.status.busy": "2023-08-11T16:30:38.768700Z",
     "iopub.status.idle": "2023-08-11T16:30:38.849719Z",
     "shell.execute_reply": "2023-08-11T16:30:38.848311Z",
     "shell.execute_reply.started": "2023-08-11T16:30:38.769143Z"
    },
    "papermill": {
     "duration": 0.012296,
     "end_time": "2023-08-11T16:41:32.283778",
     "exception": false,
     "start_time": "2023-08-11T16:41:32.271482",
     "status": "completed"
    },
    "tags": []
   },
   "outputs": [
    {
     "data": {
      "text/plain": [
       "['No of Cylinder',\n",
       " 'Valves per Cylinder',\n",
       " 'Length',\n",
       " 'Width',\n",
       " 'Height',\n",
       " 'Wheel Base',\n",
       " 'Seats',\n",
       " 'Doors',\n",
       " 'Max Power Delivered',\n",
       " 'Max Torque Delivered']"
      ]
     },
     "execution_count": 70,
     "metadata": {},
     "output_type": "execute_result"
    }
   ],
   "source": [
    "num_missing_train = []\n",
    "for i in range(len(numinfo_train)):\n",
    "    if ((c1[i] < 2) & (c1[i] > 0)):\n",
    "        num_missing_train.append(a1[i])\n",
    "num_missing_train"
   ]
  },
  {
   "cell_type": "code",
   "execution_count": 71,
   "id": "338902fb",
   "metadata": {
    "execution": {
     "iopub.execute_input": "2023-08-11T16:31:06.859589Z",
     "iopub.status.busy": "2023-08-11T16:31:06.859115Z",
     "iopub.status.idle": "2023-08-11T16:31:06.869437Z",
     "shell.execute_reply": "2023-08-11T16:31:06.868233Z",
     "shell.execute_reply.started": "2023-08-11T16:31:06.859530Z"
    },
    "papermill": {
     "duration": 0.011632,
     "end_time": "2023-08-11T16:41:32.307713",
     "exception": false,
     "start_time": "2023-08-11T16:41:32.296081",
     "status": "completed"
    },
    "tags": []
   },
   "outputs": [
    {
     "data": {
      "text/plain": [
       "['No of Cylinder',\n",
       " 'Valves per Cylinder',\n",
       " 'Length',\n",
       " 'Width',\n",
       " 'Height',\n",
       " 'Wheel Base',\n",
       " 'Seats',\n",
       " 'Doors',\n",
       " 'Max Power Delivered',\n",
       " 'Max Torque Delivered']"
      ]
     },
     "execution_count": 71,
     "metadata": {},
     "output_type": "execute_result"
    }
   ],
   "source": [
    "num_missing_valid = []\n",
    "for i in range(len(numinfo_valid)):\n",
    "    if ((c2[i] < 2) & (c2[i] > 0)):\n",
    "        num_missing_valid.append(a2[i])\n",
    "num_missing_valid"
   ]
  },
  {
   "cell_type": "code",
   "execution_count": 72,
   "id": "388ba40b",
   "metadata": {
    "papermill": {
     "duration": 0.012162,
     "end_time": "2023-08-11T16:41:32.332235",
     "exception": false,
     "start_time": "2023-08-11T16:41:32.320073",
     "status": "completed"
    },
    "tags": []
   },
   "outputs": [
    {
     "name": "stdout",
     "output_type": "stream",
     "text": [
      "11\n",
      "=======================\n",
      "7\n",
      "=======================\n",
      "405\n",
      "=======================\n",
      "272\n",
      "=======================\n",
      "292\n",
      "=======================\n",
      "217\n",
      "=======================\n",
      "10\n",
      "=======================\n",
      "5\n",
      "=======================\n",
      "561\n",
      "=======================\n",
      "328\n",
      "=======================\n"
     ]
    }
   ],
   "source": [
    "for i in num_missing_train:\n",
    "    print(X_train[i].nunique())\n",
    "    print(\"=======================\")"
   ]
  },
  {
   "cell_type": "code",
   "execution_count": 73,
   "id": "6a0d6d4d",
   "metadata": {},
   "outputs": [],
   "source": [
    "#cols with lesser than 12 unique values\n",
    "sneakycat = ['No of Cylinder', 'Valves per Cylinder',  'Seats', 'Doors']"
   ]
  },
  {
   "cell_type": "code",
   "execution_count": 74,
   "id": "76a54fdc",
   "metadata": {},
   "outputs": [
    {
     "name": "stderr",
     "output_type": "stream",
     "text": [
      "C:\\Users\\rajni\\anaconda3\\lib\\site-packages\\sklearn\\impute\\_base.py:49: FutureWarning: Unlike other reduction functions (e.g. `skew`, `kurtosis`), the default behavior of `mode` typically preserves the axis it acts along. In SciPy 1.11.0, this behavior will change: the default value of `keepdims` will become False, the `axis` over which the statistic is taken will be eliminated, and the value None will no longer be accepted. Set `keepdims` to True or False to avoid this warning.\n",
      "  mode = stats.mode(array)\n"
     ]
    },
    {
     "data": {
      "text/html": [
       "<div>\n",
       "<style scoped>\n",
       "    .dataframe tbody tr th:only-of-type {\n",
       "        vertical-align: middle;\n",
       "    }\n",
       "\n",
       "    .dataframe tbody tr th {\n",
       "        vertical-align: top;\n",
       "    }\n",
       "\n",
       "    .dataframe thead th {\n",
       "        text-align: right;\n",
       "    }\n",
       "</style>\n",
       "<table border=\"1\" class=\"dataframe\">\n",
       "  <thead>\n",
       "    <tr style=\"text-align: right;\">\n",
       "      <th></th>\n",
       "      <th>0</th>\n",
       "      <th>1</th>\n",
       "      <th>2</th>\n",
       "      <th>3</th>\n",
       "    </tr>\n",
       "  </thead>\n",
       "  <tbody>\n",
       "    <tr>\n",
       "      <th>0</th>\n",
       "      <td>4.0</td>\n",
       "      <td>4.0</td>\n",
       "      <td>5.0</td>\n",
       "      <td>4.0</td>\n",
       "    </tr>\n",
       "    <tr>\n",
       "      <th>1</th>\n",
       "      <td>4.0</td>\n",
       "      <td>4.0</td>\n",
       "      <td>5.0</td>\n",
       "      <td>4.0</td>\n",
       "    </tr>\n",
       "    <tr>\n",
       "      <th>2</th>\n",
       "      <td>4.0</td>\n",
       "      <td>4.0</td>\n",
       "      <td>5.0</td>\n",
       "      <td>5.0</td>\n",
       "    </tr>\n",
       "    <tr>\n",
       "      <th>3</th>\n",
       "      <td>8.0</td>\n",
       "      <td>4.0</td>\n",
       "      <td>5.0</td>\n",
       "      <td>4.0</td>\n",
       "    </tr>\n",
       "    <tr>\n",
       "      <th>4</th>\n",
       "      <td>4.0</td>\n",
       "      <td>4.0</td>\n",
       "      <td>5.0</td>\n",
       "      <td>5.0</td>\n",
       "    </tr>\n",
       "    <tr>\n",
       "      <th>...</th>\n",
       "      <td>...</td>\n",
       "      <td>...</td>\n",
       "      <td>...</td>\n",
       "      <td>...</td>\n",
       "    </tr>\n",
       "    <tr>\n",
       "      <th>34026</th>\n",
       "      <td>3.0</td>\n",
       "      <td>4.0</td>\n",
       "      <td>5.0</td>\n",
       "      <td>5.0</td>\n",
       "    </tr>\n",
       "    <tr>\n",
       "      <th>34027</th>\n",
       "      <td>4.0</td>\n",
       "      <td>4.0</td>\n",
       "      <td>5.0</td>\n",
       "      <td>5.0</td>\n",
       "    </tr>\n",
       "    <tr>\n",
       "      <th>34028</th>\n",
       "      <td>3.0</td>\n",
       "      <td>4.0</td>\n",
       "      <td>5.0</td>\n",
       "      <td>5.0</td>\n",
       "    </tr>\n",
       "    <tr>\n",
       "      <th>34029</th>\n",
       "      <td>3.0</td>\n",
       "      <td>4.0</td>\n",
       "      <td>5.0</td>\n",
       "      <td>5.0</td>\n",
       "    </tr>\n",
       "    <tr>\n",
       "      <th>34030</th>\n",
       "      <td>4.0</td>\n",
       "      <td>4.0</td>\n",
       "      <td>5.0</td>\n",
       "      <td>5.0</td>\n",
       "    </tr>\n",
       "  </tbody>\n",
       "</table>\n",
       "<p>34031 rows × 4 columns</p>\n",
       "</div>"
      ],
      "text/plain": [
       "         0    1    2    3\n",
       "0      4.0  4.0  5.0  4.0\n",
       "1      4.0  4.0  5.0  4.0\n",
       "2      4.0  4.0  5.0  5.0\n",
       "3      8.0  4.0  5.0  4.0\n",
       "4      4.0  4.0  5.0  5.0\n",
       "...    ...  ...  ...  ...\n",
       "34026  3.0  4.0  5.0  5.0\n",
       "34027  4.0  4.0  5.0  5.0\n",
       "34028  3.0  4.0  5.0  5.0\n",
       "34029  3.0  4.0  5.0  5.0\n",
       "34030  4.0  4.0  5.0  5.0\n",
       "\n",
       "[34031 rows x 4 columns]"
      ]
     },
     "execution_count": 74,
     "metadata": {},
     "output_type": "execute_result"
    }
   ],
   "source": [
    "#We have 4 hidden cat cols here that we would first be working with\n",
    "si1 = SimpleImputer(strategy = 'most_frequent')\n",
    "iX_train_numcat = pd.DataFrame(si1.fit_transform(X_train[sneakycat]))\n",
    "iX_valid_numcat = pd.DataFrame(si1.transform(X_valid[sneakycat]))\n",
    "iX_train_numcat"
   ]
  },
  {
   "cell_type": "code",
   "execution_count": 75,
   "id": "bca310a9",
   "metadata": {},
   "outputs": [],
   "source": [
    "iX_train_numcat.columns = sneakycat\n",
    "iX_valid_numcat.columns = sneakycat"
   ]
  },
  {
   "cell_type": "code",
   "execution_count": 76,
   "id": "62ce9530",
   "metadata": {},
   "outputs": [],
   "source": [
    "smolnum = [col for col in num_missing_train if col not in sneakycat]#the other cols"
   ]
  },
  {
   "cell_type": "code",
   "execution_count": 77,
   "id": "bccfeb9d",
   "metadata": {},
   "outputs": [],
   "source": [
    "si2 = SimpleImputer(strategy = 'mean')\n",
    "iX_train_num = pd.DataFrame(si2.fit_transform(X_train[smolnum]))\n",
    "iX_valid_num = pd.DataFrame(si2.transform(X_valid[smolnum]))"
   ]
  },
  {
   "cell_type": "code",
   "execution_count": 78,
   "id": "7d47b741",
   "metadata": {},
   "outputs": [],
   "source": [
    "iX_train_num.columns = smolnum\n",
    "iX_valid_num.columns = smolnum"
   ]
  },
  {
   "cell_type": "code",
   "execution_count": 79,
   "id": "4714fdbd",
   "metadata": {},
   "outputs": [
    {
     "data": {
      "text/html": [
       "<div>\n",
       "<style scoped>\n",
       "    .dataframe tbody tr th:only-of-type {\n",
       "        vertical-align: middle;\n",
       "    }\n",
       "\n",
       "    .dataframe tbody tr th {\n",
       "        vertical-align: top;\n",
       "    }\n",
       "\n",
       "    .dataframe thead th {\n",
       "        text-align: right;\n",
       "    }\n",
       "</style>\n",
       "<table border=\"1\" class=\"dataframe\">\n",
       "  <thead>\n",
       "    <tr style=\"text-align: right;\">\n",
       "      <th></th>\n",
       "      <th>Length</th>\n",
       "      <th>Width</th>\n",
       "      <th>Height</th>\n",
       "      <th>Wheel Base</th>\n",
       "      <th>Max Power Delivered</th>\n",
       "      <th>Max Torque Delivered</th>\n",
       "      <th>No of Cylinder</th>\n",
       "      <th>Valves per Cylinder</th>\n",
       "      <th>Seats</th>\n",
       "      <th>Doors</th>\n",
       "    </tr>\n",
       "  </thead>\n",
       "  <tbody>\n",
       "    <tr>\n",
       "      <th>0</th>\n",
       "      <td>4540.0</td>\n",
       "      <td>1760.0</td>\n",
       "      <td>1480.0</td>\n",
       "      <td>2600.0</td>\n",
       "      <td>138.00</td>\n",
       "      <td>173.0</td>\n",
       "      <td>4.0</td>\n",
       "      <td>4.0</td>\n",
       "      <td>5.0</td>\n",
       "      <td>4.0</td>\n",
       "    </tr>\n",
       "    <tr>\n",
       "      <th>1</th>\n",
       "      <td>3585.0</td>\n",
       "      <td>1595.0</td>\n",
       "      <td>1550.0</td>\n",
       "      <td>2380.0</td>\n",
       "      <td>78.90</td>\n",
       "      <td>111.8</td>\n",
       "      <td>4.0</td>\n",
       "      <td>4.0</td>\n",
       "      <td>5.0</td>\n",
       "      <td>4.0</td>\n",
       "    </tr>\n",
       "    <tr>\n",
       "      <th>2</th>\n",
       "      <td>3985.0</td>\n",
       "      <td>1734.0</td>\n",
       "      <td>1505.0</td>\n",
       "      <td>2570.0</td>\n",
       "      <td>81.83</td>\n",
       "      <td>114.7</td>\n",
       "      <td>4.0</td>\n",
       "      <td>4.0</td>\n",
       "      <td>5.0</td>\n",
       "      <td>5.0</td>\n",
       "    </tr>\n",
       "    <tr>\n",
       "      <th>3</th>\n",
       "      <td>5246.0</td>\n",
       "      <td>2130.0</td>\n",
       "      <td>1494.0</td>\n",
       "      <td>3165.0</td>\n",
       "      <td>453.26</td>\n",
       "      <td>700.0</td>\n",
       "      <td>8.0</td>\n",
       "      <td>4.0</td>\n",
       "      <td>5.0</td>\n",
       "      <td>4.0</td>\n",
       "    </tr>\n",
       "    <tr>\n",
       "      <th>4</th>\n",
       "      <td>3995.0</td>\n",
       "      <td>1745.0</td>\n",
       "      <td>1510.0</td>\n",
       "      <td>2520.0</td>\n",
       "      <td>81.80</td>\n",
       "      <td>113.0</td>\n",
       "      <td>4.0</td>\n",
       "      <td>4.0</td>\n",
       "      <td>5.0</td>\n",
       "      <td>5.0</td>\n",
       "    </tr>\n",
       "    <tr>\n",
       "      <th>...</th>\n",
       "      <td>...</td>\n",
       "      <td>...</td>\n",
       "      <td>...</td>\n",
       "      <td>...</td>\n",
       "      <td>...</td>\n",
       "      <td>...</td>\n",
       "      <td>...</td>\n",
       "      <td>...</td>\n",
       "      <td>...</td>\n",
       "      <td>...</td>\n",
       "    </tr>\n",
       "    <tr>\n",
       "      <th>34026</th>\n",
       "      <td>3599.0</td>\n",
       "      <td>1495.0</td>\n",
       "      <td>1700.0</td>\n",
       "      <td>2400.0</td>\n",
       "      <td>67.04</td>\n",
       "      <td>90.0</td>\n",
       "      <td>3.0</td>\n",
       "      <td>4.0</td>\n",
       "      <td>5.0</td>\n",
       "      <td>5.0</td>\n",
       "    </tr>\n",
       "    <tr>\n",
       "      <th>34027</th>\n",
       "      <td>3970.0</td>\n",
       "      <td>1682.0</td>\n",
       "      <td>1453.0</td>\n",
       "      <td>2456.0</td>\n",
       "      <td>103.60</td>\n",
       "      <td>175.0</td>\n",
       "      <td>4.0</td>\n",
       "      <td>4.0</td>\n",
       "      <td>5.0</td>\n",
       "      <td>5.0</td>\n",
       "    </tr>\n",
       "    <tr>\n",
       "      <th>34028</th>\n",
       "      <td>3994.0</td>\n",
       "      <td>1758.0</td>\n",
       "      <td>1572.0</td>\n",
       "      <td>2500.0</td>\n",
       "      <td>98.63</td>\n",
       "      <td>152.0</td>\n",
       "      <td>3.0</td>\n",
       "      <td>4.0</td>\n",
       "      <td>5.0</td>\n",
       "      <td>5.0</td>\n",
       "    </tr>\n",
       "    <tr>\n",
       "      <th>34029</th>\n",
       "      <td>3655.0</td>\n",
       "      <td>1620.0</td>\n",
       "      <td>1675.0</td>\n",
       "      <td>2435.0</td>\n",
       "      <td>58.33</td>\n",
       "      <td>78.0</td>\n",
       "      <td>3.0</td>\n",
       "      <td>4.0</td>\n",
       "      <td>5.0</td>\n",
       "      <td>5.0</td>\n",
       "    </tr>\n",
       "    <tr>\n",
       "      <th>34030</th>\n",
       "      <td>3994.0</td>\n",
       "      <td>1811.0</td>\n",
       "      <td>1607.0</td>\n",
       "      <td>2498.0</td>\n",
       "      <td>108.50</td>\n",
       "      <td>260.0</td>\n",
       "      <td>4.0</td>\n",
       "      <td>4.0</td>\n",
       "      <td>5.0</td>\n",
       "      <td>5.0</td>\n",
       "    </tr>\n",
       "  </tbody>\n",
       "</table>\n",
       "<p>34031 rows × 10 columns</p>\n",
       "</div>"
      ],
      "text/plain": [
       "       Length   Width  Height  Wheel Base  Max Power Delivered  \\\n",
       "0      4540.0  1760.0  1480.0      2600.0               138.00   \n",
       "1      3585.0  1595.0  1550.0      2380.0                78.90   \n",
       "2      3985.0  1734.0  1505.0      2570.0                81.83   \n",
       "3      5246.0  2130.0  1494.0      3165.0               453.26   \n",
       "4      3995.0  1745.0  1510.0      2520.0                81.80   \n",
       "...       ...     ...     ...         ...                  ...   \n",
       "34026  3599.0  1495.0  1700.0      2400.0                67.04   \n",
       "34027  3970.0  1682.0  1453.0      2456.0               103.60   \n",
       "34028  3994.0  1758.0  1572.0      2500.0                98.63   \n",
       "34029  3655.0  1620.0  1675.0      2435.0                58.33   \n",
       "34030  3994.0  1811.0  1607.0      2498.0               108.50   \n",
       "\n",
       "       Max Torque Delivered  No of Cylinder  Valves per Cylinder  Seats  Doors  \n",
       "0                     173.0             4.0                  4.0    5.0    4.0  \n",
       "1                     111.8             4.0                  4.0    5.0    4.0  \n",
       "2                     114.7             4.0                  4.0    5.0    5.0  \n",
       "3                     700.0             8.0                  4.0    5.0    4.0  \n",
       "4                     113.0             4.0                  4.0    5.0    5.0  \n",
       "...                     ...             ...                  ...    ...    ...  \n",
       "34026                  90.0             3.0                  4.0    5.0    5.0  \n",
       "34027                 175.0             4.0                  4.0    5.0    5.0  \n",
       "34028                 152.0             3.0                  4.0    5.0    5.0  \n",
       "34029                  78.0             3.0                  4.0    5.0    5.0  \n",
       "34030                 260.0             4.0                  4.0    5.0    5.0  \n",
       "\n",
       "[34031 rows x 10 columns]"
      ]
     },
     "execution_count": 79,
     "metadata": {},
     "output_type": "execute_result"
    }
   ],
   "source": [
    "iX_train_num = pd.concat([iX_train_num, iX_train_numcat], axis = 1)\n",
    "iX_valid_num = pd.concat([iX_valid_num, iX_valid_numcat], axis = 1)\n",
    "iX_train_num"
   ]
  },
  {
   "cell_type": "code",
   "execution_count": 80,
   "id": "77ce7390",
   "metadata": {},
   "outputs": [
    {
     "data": {
      "text/html": [
       "<div>\n",
       "<style scoped>\n",
       "    .dataframe tbody tr th:only-of-type {\n",
       "        vertical-align: middle;\n",
       "    }\n",
       "\n",
       "    .dataframe tbody tr th {\n",
       "        vertical-align: top;\n",
       "    }\n",
       "\n",
       "    .dataframe thead th {\n",
       "        text-align: right;\n",
       "    }\n",
       "</style>\n",
       "<table border=\"1\" class=\"dataframe\">\n",
       "  <thead>\n",
       "    <tr style=\"text-align: right;\">\n",
       "      <th></th>\n",
       "      <th>Length</th>\n",
       "      <th>Width</th>\n",
       "      <th>Height</th>\n",
       "      <th>Wheel Base</th>\n",
       "      <th>Max Power Delivered</th>\n",
       "      <th>Max Torque Delivered</th>\n",
       "      <th>No of Cylinder</th>\n",
       "      <th>Valves per Cylinder</th>\n",
       "      <th>Seats</th>\n",
       "      <th>Doors</th>\n",
       "    </tr>\n",
       "  </thead>\n",
       "  <tbody>\n",
       "    <tr>\n",
       "      <th>3220</th>\n",
       "      <td>4540.0</td>\n",
       "      <td>1760.0</td>\n",
       "      <td>1480.0</td>\n",
       "      <td>2600.0</td>\n",
       "      <td>138.00</td>\n",
       "      <td>173.0</td>\n",
       "      <td>4.0</td>\n",
       "      <td>4.0</td>\n",
       "      <td>5.0</td>\n",
       "      <td>4.0</td>\n",
       "    </tr>\n",
       "    <tr>\n",
       "      <th>17208</th>\n",
       "      <td>3585.0</td>\n",
       "      <td>1595.0</td>\n",
       "      <td>1550.0</td>\n",
       "      <td>2380.0</td>\n",
       "      <td>78.90</td>\n",
       "      <td>111.8</td>\n",
       "      <td>4.0</td>\n",
       "      <td>4.0</td>\n",
       "      <td>5.0</td>\n",
       "      <td>4.0</td>\n",
       "    </tr>\n",
       "    <tr>\n",
       "      <th>19883</th>\n",
       "      <td>3985.0</td>\n",
       "      <td>1734.0</td>\n",
       "      <td>1505.0</td>\n",
       "      <td>2570.0</td>\n",
       "      <td>81.83</td>\n",
       "      <td>114.7</td>\n",
       "      <td>4.0</td>\n",
       "      <td>4.0</td>\n",
       "      <td>5.0</td>\n",
       "      <td>5.0</td>\n",
       "    </tr>\n",
       "    <tr>\n",
       "      <th>15575</th>\n",
       "      <td>5246.0</td>\n",
       "      <td>2130.0</td>\n",
       "      <td>1494.0</td>\n",
       "      <td>3165.0</td>\n",
       "      <td>453.26</td>\n",
       "      <td>700.0</td>\n",
       "      <td>8.0</td>\n",
       "      <td>4.0</td>\n",
       "      <td>5.0</td>\n",
       "      <td>4.0</td>\n",
       "    </tr>\n",
       "    <tr>\n",
       "      <th>30362</th>\n",
       "      <td>3995.0</td>\n",
       "      <td>1745.0</td>\n",
       "      <td>1510.0</td>\n",
       "      <td>2520.0</td>\n",
       "      <td>81.80</td>\n",
       "      <td>113.0</td>\n",
       "      <td>4.0</td>\n",
       "      <td>4.0</td>\n",
       "      <td>5.0</td>\n",
       "      <td>5.0</td>\n",
       "    </tr>\n",
       "    <tr>\n",
       "      <th>...</th>\n",
       "      <td>...</td>\n",
       "      <td>...</td>\n",
       "      <td>...</td>\n",
       "      <td>...</td>\n",
       "      <td>...</td>\n",
       "      <td>...</td>\n",
       "      <td>...</td>\n",
       "      <td>...</td>\n",
       "      <td>...</td>\n",
       "      <td>...</td>\n",
       "    </tr>\n",
       "    <tr>\n",
       "      <th>16850</th>\n",
       "      <td>3599.0</td>\n",
       "      <td>1495.0</td>\n",
       "      <td>1700.0</td>\n",
       "      <td>2400.0</td>\n",
       "      <td>67.04</td>\n",
       "      <td>90.0</td>\n",
       "      <td>3.0</td>\n",
       "      <td>4.0</td>\n",
       "      <td>5.0</td>\n",
       "      <td>5.0</td>\n",
       "    </tr>\n",
       "    <tr>\n",
       "      <th>6265</th>\n",
       "      <td>3970.0</td>\n",
       "      <td>1682.0</td>\n",
       "      <td>1453.0</td>\n",
       "      <td>2456.0</td>\n",
       "      <td>103.60</td>\n",
       "      <td>175.0</td>\n",
       "      <td>4.0</td>\n",
       "      <td>4.0</td>\n",
       "      <td>5.0</td>\n",
       "      <td>5.0</td>\n",
       "    </tr>\n",
       "    <tr>\n",
       "      <th>11284</th>\n",
       "      <td>3994.0</td>\n",
       "      <td>1758.0</td>\n",
       "      <td>1572.0</td>\n",
       "      <td>2500.0</td>\n",
       "      <td>98.63</td>\n",
       "      <td>152.0</td>\n",
       "      <td>3.0</td>\n",
       "      <td>4.0</td>\n",
       "      <td>5.0</td>\n",
       "      <td>5.0</td>\n",
       "    </tr>\n",
       "    <tr>\n",
       "      <th>860</th>\n",
       "      <td>3655.0</td>\n",
       "      <td>1620.0</td>\n",
       "      <td>1675.0</td>\n",
       "      <td>2435.0</td>\n",
       "      <td>58.33</td>\n",
       "      <td>78.0</td>\n",
       "      <td>3.0</td>\n",
       "      <td>4.0</td>\n",
       "      <td>5.0</td>\n",
       "      <td>5.0</td>\n",
       "    </tr>\n",
       "    <tr>\n",
       "      <th>15795</th>\n",
       "      <td>3994.0</td>\n",
       "      <td>1811.0</td>\n",
       "      <td>1607.0</td>\n",
       "      <td>2498.0</td>\n",
       "      <td>108.50</td>\n",
       "      <td>260.0</td>\n",
       "      <td>4.0</td>\n",
       "      <td>4.0</td>\n",
       "      <td>5.0</td>\n",
       "      <td>5.0</td>\n",
       "    </tr>\n",
       "  </tbody>\n",
       "</table>\n",
       "<p>34031 rows × 10 columns</p>\n",
       "</div>"
      ],
      "text/plain": [
       "       Length   Width  Height  Wheel Base  Max Power Delivered  \\\n",
       "3220   4540.0  1760.0  1480.0      2600.0               138.00   \n",
       "17208  3585.0  1595.0  1550.0      2380.0                78.90   \n",
       "19883  3985.0  1734.0  1505.0      2570.0                81.83   \n",
       "15575  5246.0  2130.0  1494.0      3165.0               453.26   \n",
       "30362  3995.0  1745.0  1510.0      2520.0                81.80   \n",
       "...       ...     ...     ...         ...                  ...   \n",
       "16850  3599.0  1495.0  1700.0      2400.0                67.04   \n",
       "6265   3970.0  1682.0  1453.0      2456.0               103.60   \n",
       "11284  3994.0  1758.0  1572.0      2500.0                98.63   \n",
       "860    3655.0  1620.0  1675.0      2435.0                58.33   \n",
       "15795  3994.0  1811.0  1607.0      2498.0               108.50   \n",
       "\n",
       "       Max Torque Delivered  No of Cylinder  Valves per Cylinder  Seats  Doors  \n",
       "3220                  173.0             4.0                  4.0    5.0    4.0  \n",
       "17208                 111.8             4.0                  4.0    5.0    4.0  \n",
       "19883                 114.7             4.0                  4.0    5.0    5.0  \n",
       "15575                 700.0             8.0                  4.0    5.0    4.0  \n",
       "30362                 113.0             4.0                  4.0    5.0    5.0  \n",
       "...                     ...             ...                  ...    ...    ...  \n",
       "16850                  90.0             3.0                  4.0    5.0    5.0  \n",
       "6265                  175.0             4.0                  4.0    5.0    5.0  \n",
       "11284                 152.0             3.0                  4.0    5.0    5.0  \n",
       "860                    78.0             3.0                  4.0    5.0    5.0  \n",
       "15795                 260.0             4.0                  4.0    5.0    5.0  \n",
       "\n",
       "[34031 rows x 10 columns]"
      ]
     },
     "execution_count": 80,
     "metadata": {},
     "output_type": "execute_result"
    }
   ],
   "source": [
    "iX_train_num.index = X_train.index\n",
    "iX_valid_num.index = X_valid.index\n",
    "iX_train_num"
   ]
  },
  {
   "cell_type": "code",
   "execution_count": 81,
   "id": "1665f43e",
   "metadata": {},
   "outputs": [],
   "source": [
    "X_train[num_missing_train] = iX_train_num\n",
    "X_valid[num_missing_valid] = iX_valid_num"
   ]
  },
  {
   "cell_type": "markdown",
   "id": "71a910ee",
   "metadata": {},
   "source": [
    "### 3.1.2. Front & Rear Tread Imputation"
   ]
  },
  {
   "cell_type": "code",
   "execution_count": 82,
   "id": "df74642f",
   "metadata": {},
   "outputs": [],
   "source": [
    "num_main_cols = ['Front Tread' ,'Rear Tread' ,'Kerb Weight' ,'Turning Radius' ,'Top Speed' , 'Cargo Volume'\n",
    ", 'Alloy Wheel Size', 'Max Power At', 'Max Torque At']\n",
    "#cols to be imputed"
   ]
  },
  {
   "cell_type": "code",
   "execution_count": 83,
   "id": "e8173fd4",
   "metadata": {},
   "outputs": [
    {
     "name": "stderr",
     "output_type": "stream",
     "text": [
      "C:\\Users\\rajni\\AppData\\Local\\Temp\\ipykernel_6248\\3235242869.py:1: FutureWarning: Indexing with multiple keys (implicitly converted to a tuple of keys) will be deprecated, use a list instead.\n",
      "  sui = X_train.groupby('oem')['Front Tread', 'Rear Tread'].agg([np.mean])\n"
     ]
    },
    {
     "data": {
      "text/html": [
       "<div>\n",
       "<style scoped>\n",
       "    .dataframe tbody tr th:only-of-type {\n",
       "        vertical-align: middle;\n",
       "    }\n",
       "\n",
       "    .dataframe tbody tr th {\n",
       "        vertical-align: top;\n",
       "    }\n",
       "\n",
       "    .dataframe thead tr th {\n",
       "        text-align: left;\n",
       "    }\n",
       "\n",
       "    .dataframe thead tr:last-of-type th {\n",
       "        text-align: right;\n",
       "    }\n",
       "</style>\n",
       "<table border=\"1\" class=\"dataframe\">\n",
       "  <thead>\n",
       "    <tr>\n",
       "      <th></th>\n",
       "      <th>Front Tread</th>\n",
       "      <th>Rear Tread</th>\n",
       "    </tr>\n",
       "    <tr>\n",
       "      <th></th>\n",
       "      <th>mean</th>\n",
       "      <th>mean</th>\n",
       "    </tr>\n",
       "    <tr>\n",
       "      <th>oem</th>\n",
       "      <th></th>\n",
       "      <th></th>\n",
       "    </tr>\n",
       "  </thead>\n",
       "  <tbody>\n",
       "    <tr>\n",
       "      <th>ashok leyland</th>\n",
       "      <td>NaN</td>\n",
       "      <td>NaN</td>\n",
       "    </tr>\n",
       "    <tr>\n",
       "      <th>aston martin</th>\n",
       "      <td>1570.000000</td>\n",
       "      <td>1560.000000</td>\n",
       "    </tr>\n",
       "    <tr>\n",
       "      <th>audi</th>\n",
       "      <td>1593.481611</td>\n",
       "      <td>1589.112628</td>\n",
       "    </tr>\n",
       "    <tr>\n",
       "      <th>bajaj</th>\n",
       "      <td>1143.000000</td>\n",
       "      <td>NaN</td>\n",
       "    </tr>\n",
       "    <tr>\n",
       "      <th>bentley</th>\n",
       "      <td>1623.000000</td>\n",
       "      <td>1607.000000</td>\n",
       "    </tr>\n",
       "    <tr>\n",
       "      <th>bmw</th>\n",
       "      <td>1560.469080</td>\n",
       "      <td>1580.966717</td>\n",
       "    </tr>\n",
       "    <tr>\n",
       "      <th>chevrolet</th>\n",
       "      <td>1399.881944</td>\n",
       "      <td>1333.052083</td>\n",
       "    </tr>\n",
       "    <tr>\n",
       "      <th>citroen</th>\n",
       "      <td>1580.000000</td>\n",
       "      <td>1610.000000</td>\n",
       "    </tr>\n",
       "    <tr>\n",
       "      <th>datsun</th>\n",
       "      <td>1440.000000</td>\n",
       "      <td>1445.000000</td>\n",
       "    </tr>\n",
       "    <tr>\n",
       "      <th>dc</th>\n",
       "      <td>1670.000000</td>\n",
       "      <td>1650.000000</td>\n",
       "    </tr>\n",
       "    <tr>\n",
       "      <th>ferrari</th>\n",
       "      <td>1679.000000</td>\n",
       "      <td>1647.000000</td>\n",
       "    </tr>\n",
       "    <tr>\n",
       "      <th>fiat</th>\n",
       "      <td>1415.000000</td>\n",
       "      <td>1378.000000</td>\n",
       "    </tr>\n",
       "    <tr>\n",
       "      <th>force</th>\n",
       "      <td>1484.000000</td>\n",
       "      <td>1483.000000</td>\n",
       "    </tr>\n",
       "    <tr>\n",
       "      <th>ford</th>\n",
       "      <td>1500.973357</td>\n",
       "      <td>1496.962700</td>\n",
       "    </tr>\n",
       "    <tr>\n",
       "      <th>hindustan motors</th>\n",
       "      <td>1408.000000</td>\n",
       "      <td>1356.000000</td>\n",
       "    </tr>\n",
       "    <tr>\n",
       "      <th>honda</th>\n",
       "      <td>1487.679443</td>\n",
       "      <td>1474.916376</td>\n",
       "    </tr>\n",
       "    <tr>\n",
       "      <th>hummer</th>\n",
       "      <td>NaN</td>\n",
       "      <td>NaN</td>\n",
       "    </tr>\n",
       "    <tr>\n",
       "      <th>hyundai</th>\n",
       "      <td>1455.367356</td>\n",
       "      <td>1454.232504</td>\n",
       "    </tr>\n",
       "    <tr>\n",
       "      <th>icml</th>\n",
       "      <td>NaN</td>\n",
       "      <td>NaN</td>\n",
       "    </tr>\n",
       "    <tr>\n",
       "      <th>isuzu</th>\n",
       "      <td>1554.375000</td>\n",
       "      <td>1555.937500</td>\n",
       "    </tr>\n",
       "    <tr>\n",
       "      <th>jaguar</th>\n",
       "      <td>1591.420225</td>\n",
       "      <td>1610.386517</td>\n",
       "    </tr>\n",
       "    <tr>\n",
       "      <th>jeep</th>\n",
       "      <td>NaN</td>\n",
       "      <td>NaN</td>\n",
       "    </tr>\n",
       "    <tr>\n",
       "      <th>kia</th>\n",
       "      <td>NaN</td>\n",
       "      <td>NaN</td>\n",
       "    </tr>\n",
       "    <tr>\n",
       "      <th>lamborghini</th>\n",
       "      <td>1668.000000</td>\n",
       "      <td>1620.000000</td>\n",
       "    </tr>\n",
       "    <tr>\n",
       "      <th>land rover</th>\n",
       "      <td>1629.041667</td>\n",
       "      <td>1635.937500</td>\n",
       "    </tr>\n",
       "    <tr>\n",
       "      <th>lexus</th>\n",
       "      <td>1603.333333</td>\n",
       "      <td>1601.666667</td>\n",
       "    </tr>\n",
       "    <tr>\n",
       "      <th>mahindra</th>\n",
       "      <td>1507.558099</td>\n",
       "      <td>1498.454225</td>\n",
       "    </tr>\n",
       "    <tr>\n",
       "      <th>mahindra renault</th>\n",
       "      <td>1480.000000</td>\n",
       "      <td>1470.000000</td>\n",
       "    </tr>\n",
       "    <tr>\n",
       "      <th>mahindra ssangyong</th>\n",
       "      <td>NaN</td>\n",
       "      <td>NaN</td>\n",
       "    </tr>\n",
       "    <tr>\n",
       "      <th>maruti</th>\n",
       "      <td>1420.214665</td>\n",
       "      <td>1422.078203</td>\n",
       "    </tr>\n",
       "    <tr>\n",
       "      <th>maserati</th>\n",
       "      <td>1635.000000</td>\n",
       "      <td>1653.000000</td>\n",
       "    </tr>\n",
       "    <tr>\n",
       "      <th>mercedes-benz</th>\n",
       "      <td>1590.387838</td>\n",
       "      <td>1593.530780</td>\n",
       "    </tr>\n",
       "    <tr>\n",
       "      <th>mg</th>\n",
       "      <td>NaN</td>\n",
       "      <td>NaN</td>\n",
       "    </tr>\n",
       "    <tr>\n",
       "      <th>mini</th>\n",
       "      <td>1524.333333</td>\n",
       "      <td>1542.444444</td>\n",
       "    </tr>\n",
       "    <tr>\n",
       "      <th>mitsubishi</th>\n",
       "      <td>1510.178571</td>\n",
       "      <td>1508.035714</td>\n",
       "    </tr>\n",
       "    <tr>\n",
       "      <th>nissan</th>\n",
       "      <td>1521.087613</td>\n",
       "      <td>1527.187311</td>\n",
       "    </tr>\n",
       "    <tr>\n",
       "      <th>opel</th>\n",
       "      <td>1387.000000</td>\n",
       "      <td>1388.000000</td>\n",
       "    </tr>\n",
       "    <tr>\n",
       "      <th>porsche</th>\n",
       "      <td>NaN</td>\n",
       "      <td>NaN</td>\n",
       "    </tr>\n",
       "    <tr>\n",
       "      <th>premier</th>\n",
       "      <td>1305.000000</td>\n",
       "      <td>1310.000000</td>\n",
       "    </tr>\n",
       "    <tr>\n",
       "      <th>renault</th>\n",
       "      <td>1546.206897</td>\n",
       "      <td>1549.068966</td>\n",
       "    </tr>\n",
       "    <tr>\n",
       "      <th>rolls-royce</th>\n",
       "      <td>1686.000000</td>\n",
       "      <td>1676.000000</td>\n",
       "    </tr>\n",
       "    <tr>\n",
       "      <th>skoda</th>\n",
       "      <td>1484.868545</td>\n",
       "      <td>1473.117371</td>\n",
       "    </tr>\n",
       "    <tr>\n",
       "      <th>tata</th>\n",
       "      <td>1456.055380</td>\n",
       "      <td>1459.866771</td>\n",
       "    </tr>\n",
       "    <tr>\n",
       "      <th>toyota</th>\n",
       "      <td>1527.913449</td>\n",
       "      <td>1528.093209</td>\n",
       "    </tr>\n",
       "    <tr>\n",
       "      <th>volkswagen</th>\n",
       "      <td>1468.569686</td>\n",
       "      <td>1479.924162</td>\n",
       "    </tr>\n",
       "    <tr>\n",
       "      <th>volvo</th>\n",
       "      <td>1613.268293</td>\n",
       "      <td>1601.674797</td>\n",
       "    </tr>\n",
       "  </tbody>\n",
       "</table>\n",
       "</div>"
      ],
      "text/plain": [
       "                    Front Tread   Rear Tread\n",
       "                           mean         mean\n",
       "oem                                         \n",
       "ashok leyland               NaN          NaN\n",
       "aston martin        1570.000000  1560.000000\n",
       "audi                1593.481611  1589.112628\n",
       "bajaj               1143.000000          NaN\n",
       "bentley             1623.000000  1607.000000\n",
       "bmw                 1560.469080  1580.966717\n",
       "chevrolet           1399.881944  1333.052083\n",
       "citroen             1580.000000  1610.000000\n",
       "datsun              1440.000000  1445.000000\n",
       "dc                  1670.000000  1650.000000\n",
       "ferrari             1679.000000  1647.000000\n",
       "fiat                1415.000000  1378.000000\n",
       "force               1484.000000  1483.000000\n",
       "ford                1500.973357  1496.962700\n",
       "hindustan motors    1408.000000  1356.000000\n",
       "honda               1487.679443  1474.916376\n",
       "hummer                      NaN          NaN\n",
       "hyundai             1455.367356  1454.232504\n",
       "icml                        NaN          NaN\n",
       "isuzu               1554.375000  1555.937500\n",
       "jaguar              1591.420225  1610.386517\n",
       "jeep                        NaN          NaN\n",
       "kia                         NaN          NaN\n",
       "lamborghini         1668.000000  1620.000000\n",
       "land rover          1629.041667  1635.937500\n",
       "lexus               1603.333333  1601.666667\n",
       "mahindra            1507.558099  1498.454225\n",
       "mahindra renault    1480.000000  1470.000000\n",
       "mahindra ssangyong          NaN          NaN\n",
       "maruti              1420.214665  1422.078203\n",
       "maserati            1635.000000  1653.000000\n",
       "mercedes-benz       1590.387838  1593.530780\n",
       "mg                          NaN          NaN\n",
       "mini                1524.333333  1542.444444\n",
       "mitsubishi          1510.178571  1508.035714\n",
       "nissan              1521.087613  1527.187311\n",
       "opel                1387.000000  1388.000000\n",
       "porsche                     NaN          NaN\n",
       "premier             1305.000000  1310.000000\n",
       "renault             1546.206897  1549.068966\n",
       "rolls-royce         1686.000000  1676.000000\n",
       "skoda               1484.868545  1473.117371\n",
       "tata                1456.055380  1459.866771\n",
       "toyota              1527.913449  1528.093209\n",
       "volkswagen          1468.569686  1479.924162\n",
       "volvo               1613.268293  1601.674797"
      ]
     },
     "execution_count": 83,
     "metadata": {},
     "output_type": "execute_result"
    }
   ],
   "source": [
    "sui = X_train.groupby('oem')['Front Tread', 'Rear Tread'].agg([np.mean])\n",
    "sui"
   ]
  },
  {
   "cell_type": "markdown",
   "id": "0a1bfffc",
   "metadata": {},
   "source": [
    "- **REPORT:**\n",
    "    - Luxury and expensive brands have better treads\n",
    "    - Average Consumer brands lie at the bottom end of the spectrum"
   ]
  },
  {
   "cell_type": "code",
   "execution_count": 84,
   "id": "6fecf303",
   "metadata": {},
   "outputs": [],
   "source": [
    "def imputeFT(row):\n",
    "    if pd.isnull(row['Front Tread']):\n",
    "        if row['oem'] not in ['hummer', 'jeep', 'kia', 'mg', 'porsche', 'icml', 'mahindra ssangyong', 'ashok leyland']:\n",
    "            return sui.loc[row['oem']][0]\n",
    "        elif row['oem'] in ['hummer']:\n",
    "            return sui.loc['land rover'][0]#think theyll be similar\n",
    "        elif row['oem'] in ['kia', 'mg', 'jeep', 'mahindra ssangyong']:\n",
    "            return sui.loc['toyota'][0]#think theyll be similar\n",
    "        elif row['oem'] in ['ashok leyland', 'icml']:\n",
    "            return 1300\n",
    "        elif row['oem'] in ['porsche']:\n",
    "            return 1600\n",
    "            \n",
    "    else:\n",
    "        return row['Front Tread']"
   ]
  },
  {
   "cell_type": "code",
   "execution_count": 85,
   "id": "c9338b43",
   "metadata": {},
   "outputs": [],
   "source": [
    "def imputeRT(row):\n",
    "    if pd.isnull(row['Rear Tread']):\n",
    "        if row['oem'] not in ['hummer', 'jeep', 'kia', 'mg', 'porsche', 'icml', 'mahindra ssangyong','bajaj','ashok leyland']:\n",
    "            return sui.loc[row['oem']][1]\n",
    "        elif row['oem'] == 'hummer':\n",
    "            return sui.loc['land rover'][1]#think theyll be similar\n",
    "        elif row['oem'] in ['kia', 'mg', 'jeep', 'mahindra ssangyong']:\n",
    "            return sui.loc['toyota'][1]#think theyll be similar\n",
    "        elif row['oem'] in ['ashok leyland', 'icml']:\n",
    "            return 1300\n",
    "        elif row['oem'] == 'porsche':\n",
    "            return 1600\n",
    "        elif row['oem'] == 'bajaj':\n",
    "            return 1120\n",
    "            \n",
    "    else:\n",
    "        return row['Rear Tread']"
   ]
  },
  {
   "cell_type": "code",
   "execution_count": 86,
   "id": "ebabb512",
   "metadata": {},
   "outputs": [],
   "source": [
    "#Applying imputations on Front Tread\n",
    "X_train['Front Tread'] = X_train.apply(imputeFT, axis = 1)\n",
    "X_valid['Front Tread'] = X_valid.apply(imputeFT, axis = 1)\n",
    "\n",
    "#Applying imputations on Rear Tread\n",
    "X_train['Rear Tread'] = X_train.apply(imputeRT, axis = 1)\n",
    "X_valid['Rear Tread'] = X_valid.apply(imputeRT, axis = 1)"
   ]
  },
  {
   "cell_type": "markdown",
   "id": "06cf18f4",
   "metadata": {},
   "source": [
    "### 3.2.3 Kerb Weight and Cargo Volume imputation"
   ]
  },
  {
   "cell_type": "code",
   "execution_count": 87,
   "id": "23990a4b",
   "metadata": {},
   "outputs": [
    {
     "name": "stderr",
     "output_type": "stream",
     "text": [
      "C:\\Users\\rajni\\AppData\\Local\\Temp\\ipykernel_6248\\1400645892.py:1: FutureWarning: Indexing with multiple keys (implicitly converted to a tuple of keys) will be deprecated, use a list instead.\n",
      "  wui = X_train.groupby('body')['Kerb Weight', 'Cargo Volume','Top Speed', 'Acceleration',\n"
     ]
    },
    {
     "data": {
      "text/html": [
       "<div>\n",
       "<style scoped>\n",
       "    .dataframe tbody tr th:only-of-type {\n",
       "        vertical-align: middle;\n",
       "    }\n",
       "\n",
       "    .dataframe tbody tr th {\n",
       "        vertical-align: top;\n",
       "    }\n",
       "\n",
       "    .dataframe thead tr th {\n",
       "        text-align: left;\n",
       "    }\n",
       "\n",
       "    .dataframe thead tr:last-of-type th {\n",
       "        text-align: right;\n",
       "    }\n",
       "</style>\n",
       "<table border=\"1\" class=\"dataframe\">\n",
       "  <thead>\n",
       "    <tr>\n",
       "      <th></th>\n",
       "      <th>Kerb Weight</th>\n",
       "      <th>Cargo Volume</th>\n",
       "      <th>Top Speed</th>\n",
       "      <th>Acceleration</th>\n",
       "      <th>Max Power At</th>\n",
       "      <th>Max Torque At</th>\n",
       "    </tr>\n",
       "    <tr>\n",
       "      <th></th>\n",
       "      <th>mean</th>\n",
       "      <th>mean</th>\n",
       "      <th>mean</th>\n",
       "      <th>mean</th>\n",
       "      <th>mean</th>\n",
       "      <th>mean</th>\n",
       "    </tr>\n",
       "    <tr>\n",
       "      <th>body</th>\n",
       "      <th></th>\n",
       "      <th></th>\n",
       "      <th></th>\n",
       "      <th></th>\n",
       "      <th></th>\n",
       "      <th></th>\n",
       "    </tr>\n",
       "  </thead>\n",
       "  <tbody>\n",
       "    <tr>\n",
       "      <th>convertibles</th>\n",
       "      <td>1637.882353</td>\n",
       "      <td>290.000000</td>\n",
       "      <td>255.000000</td>\n",
       "      <td>5.775000</td>\n",
       "      <td>5928.125000</td>\n",
       "      <td>3423.750000</td>\n",
       "    </tr>\n",
       "    <tr>\n",
       "      <th>coupe</th>\n",
       "      <td>1642.363636</td>\n",
       "      <td>375.166667</td>\n",
       "      <td>261.488889</td>\n",
       "      <td>4.934706</td>\n",
       "      <td>5971.052632</td>\n",
       "      <td>3643.421053</td>\n",
       "    </tr>\n",
       "    <tr>\n",
       "      <th>hatchback</th>\n",
       "      <td>942.867696</td>\n",
       "      <td>255.150511</td>\n",
       "      <td>157.471212</td>\n",
       "      <td>14.604886</td>\n",
       "      <td>5592.344806</td>\n",
       "      <td>3582.259004</td>\n",
       "    </tr>\n",
       "    <tr>\n",
       "      <th>hybrids</th>\n",
       "      <td>1505.000000</td>\n",
       "      <td>404.000000</td>\n",
       "      <td>190.666667</td>\n",
       "      <td>9.666667</td>\n",
       "      <td>5216.666667</td>\n",
       "      <td>2870.000000</td>\n",
       "    </tr>\n",
       "    <tr>\n",
       "      <th>luxury vehicles</th>\n",
       "      <td>1562.940000</td>\n",
       "      <td>462.508475</td>\n",
       "      <td>224.641791</td>\n",
       "      <td>8.708955</td>\n",
       "      <td>4039.189189</td>\n",
       "      <td>2469.531250</td>\n",
       "    </tr>\n",
       "    <tr>\n",
       "      <th>minivans</th>\n",
       "      <td>929.900000</td>\n",
       "      <td>389.648438</td>\n",
       "      <td>135.643678</td>\n",
       "      <td>16.776419</td>\n",
       "      <td>5796.323529</td>\n",
       "      <td>2902.647059</td>\n",
       "    </tr>\n",
       "    <tr>\n",
       "      <th>muv</th>\n",
       "      <td>1450.154844</td>\n",
       "      <td>203.701940</td>\n",
       "      <td>156.586783</td>\n",
       "      <td>14.970640</td>\n",
       "      <td>4517.187500</td>\n",
       "      <td>2780.295647</td>\n",
       "    </tr>\n",
       "    <tr>\n",
       "      <th>pickup trucks</th>\n",
       "      <td>1844.342105</td>\n",
       "      <td>260.000000</td>\n",
       "      <td>133.076923</td>\n",
       "      <td>15.500000</td>\n",
       "      <td>3514.285714</td>\n",
       "      <td>2065.476190</td>\n",
       "    </tr>\n",
       "    <tr>\n",
       "      <th>sedan</th>\n",
       "      <td>1186.753574</td>\n",
       "      <td>463.164101</td>\n",
       "      <td>190.963231</td>\n",
       "      <td>11.546351</td>\n",
       "      <td>5078.252304</td>\n",
       "      <td>3185.406917</td>\n",
       "    </tr>\n",
       "    <tr>\n",
       "      <th>suv</th>\n",
       "      <td>1491.285879</td>\n",
       "      <td>418.921334</td>\n",
       "      <td>178.341898</td>\n",
       "      <td>12.133174</td>\n",
       "      <td>4484.169374</td>\n",
       "      <td>2593.763367</td>\n",
       "    </tr>\n",
       "    <tr>\n",
       "      <th>wagon</th>\n",
       "      <td>840.000000</td>\n",
       "      <td>457.714286</td>\n",
       "      <td>230.666667</td>\n",
       "      <td>15.066667</td>\n",
       "      <td>5266.666667</td>\n",
       "      <td>3533.333333</td>\n",
       "    </tr>\n",
       "  </tbody>\n",
       "</table>\n",
       "</div>"
      ],
      "text/plain": [
       "                 Kerb Weight Cargo Volume   Top Speed Acceleration  \\\n",
       "                        mean         mean        mean         mean   \n",
       "body                                                                 \n",
       "convertibles     1637.882353   290.000000  255.000000     5.775000   \n",
       "coupe            1642.363636   375.166667  261.488889     4.934706   \n",
       "hatchback         942.867696   255.150511  157.471212    14.604886   \n",
       "hybrids          1505.000000   404.000000  190.666667     9.666667   \n",
       "luxury vehicles  1562.940000   462.508475  224.641791     8.708955   \n",
       "minivans          929.900000   389.648438  135.643678    16.776419   \n",
       "muv              1450.154844   203.701940  156.586783    14.970640   \n",
       "pickup trucks    1844.342105   260.000000  133.076923    15.500000   \n",
       "sedan            1186.753574   463.164101  190.963231    11.546351   \n",
       "suv              1491.285879   418.921334  178.341898    12.133174   \n",
       "wagon             840.000000   457.714286  230.666667    15.066667   \n",
       "\n",
       "                Max Power At Max Torque At  \n",
       "                        mean          mean  \n",
       "body                                        \n",
       "convertibles     5928.125000   3423.750000  \n",
       "coupe            5971.052632   3643.421053  \n",
       "hatchback        5592.344806   3582.259004  \n",
       "hybrids          5216.666667   2870.000000  \n",
       "luxury vehicles  4039.189189   2469.531250  \n",
       "minivans         5796.323529   2902.647059  \n",
       "muv              4517.187500   2780.295647  \n",
       "pickup trucks    3514.285714   2065.476190  \n",
       "sedan            5078.252304   3185.406917  \n",
       "suv              4484.169374   2593.763367  \n",
       "wagon            5266.666667   3533.333333  "
      ]
     },
     "execution_count": 87,
     "metadata": {},
     "output_type": "execute_result"
    }
   ],
   "source": [
    "wui = X_train.groupby('body')['Kerb Weight', 'Cargo Volume','Top Speed', 'Acceleration', \n",
    "                             'Max Power At', 'Max Torque At'].agg([np.mean])#Clearly dependent on body\n",
    "wui"
   ]
  },
  {
   "cell_type": "code",
   "execution_count": 88,
   "id": "a71f8b34",
   "metadata": {},
   "outputs": [],
   "source": [
    "#Creating the imputation function\n",
    "def imputeKW(row):\n",
    "    if pd.isnull(row['Kerb Weight']):\n",
    "        return wui.loc[row['body']][0]\n",
    "    else:\n",
    "        return row['Kerb Weight']"
   ]
  },
  {
   "cell_type": "code",
   "execution_count": 89,
   "id": "4f10b840",
   "metadata": {},
   "outputs": [],
   "source": [
    "#Creating the imputation function\n",
    "def imputeCV(row):\n",
    "    if pd.isnull(row['Cargo Volume']):\n",
    "        return wui.loc[row['body']][1]\n",
    "    else:\n",
    "        return row['Cargo Volume']"
   ]
  },
  {
   "cell_type": "code",
   "execution_count": 90,
   "id": "bd54d845",
   "metadata": {},
   "outputs": [],
   "source": [
    "#Applying the imputation function\n",
    "X_train['Kerb Weight'] = X_train.apply(imputeKW, axis = 1)\n",
    "X_valid['Kerb Weight'] = X_valid.apply(imputeKW, axis = 1)\n",
    "\n",
    "X_train['Cargo Volume'] = X_train.apply(imputeCV, axis = 1)\n",
    "X_valid['Cargo Volume'] = X_valid.apply(imputeCV, axis = 1)"
   ]
  },
  {
   "cell_type": "markdown",
   "id": "37867f2c",
   "metadata": {},
   "source": [
    "### 3.1.3 Acceleration and Top Speed Imputation"
   ]
  },
  {
   "cell_type": "code",
   "execution_count": 91,
   "id": "18b8ccd6",
   "metadata": {},
   "outputs": [],
   "source": [
    "#Creating the imputation function\n",
    "def imputeTS(row):\n",
    "    if pd.isnull(row['Top Speed']):\n",
    "        return wui.loc[row['body']][2]\n",
    "    else:\n",
    "        return row['Top Speed']"
   ]
  },
  {
   "cell_type": "code",
   "execution_count": 92,
   "id": "d9af73f1",
   "metadata": {},
   "outputs": [],
   "source": [
    "#Creating the imputation function for Acceleration\n",
    "def imputeAccln(row):\n",
    "    if pd.isnull(row['Acceleration']):\n",
    "        return wui.loc[row['body']][3]\n",
    "    else:\n",
    "        return row['Acceleration']"
   ]
  },
  {
   "cell_type": "code",
   "execution_count": 93,
   "id": "b72d7d51",
   "metadata": {},
   "outputs": [],
   "source": [
    "#Applying functions to the columns\n",
    "X_train['Top Speed'] = X_train.apply(imputeTS, axis = 1)\n",
    "X_valid['Top Speed'] = X_valid.apply(imputeTS, axis = 1)\n",
    "\n",
    "X_train['Acceleration'] = X_train.apply(imputeAccln, axis = 1)\n",
    "X_valid['Acceleration'] = X_valid.apply(imputeAccln, axis = 1)"
   ]
  },
  {
   "cell_type": "markdown",
   "id": "8bf2e711",
   "metadata": {},
   "source": [
    "### Max Power At & Max Torque At Imputation"
   ]
  },
  {
   "cell_type": "code",
   "execution_count": 94,
   "id": "f87d0790",
   "metadata": {},
   "outputs": [],
   "source": [
    "#Creating a function to perform the imputation for Max Power At\n",
    "def imputeMP(row):\n",
    "    if pd.isnull(row['Max Power At']):\n",
    "        return wui.loc[row['body']][4]\n",
    "    else:\n",
    "        return row['Max Power At']"
   ]
  },
  {
   "cell_type": "code",
   "execution_count": 95,
   "id": "310a3031",
   "metadata": {},
   "outputs": [],
   "source": [
    "#Creating a function to perform the imputation for Max Torque At\n",
    "def imputeMT(row):\n",
    "    if pd.isnull(row['Max Torque At']):\n",
    "        return wui.loc[row['body']][5]\n",
    "    else:\n",
    "        return row['Max Torque At']"
   ]
  },
  {
   "cell_type": "code",
   "execution_count": 96,
   "id": "d7482a9e",
   "metadata": {},
   "outputs": [],
   "source": [
    "#Applying the imputation functions to the features\n",
    "X_train['Max Power At'] = X_train.apply(imputeMP, axis = 1)\n",
    "X_valid['Max Power At'] = X_valid.apply(imputeMP, axis = 1)\n",
    "\n",
    "X_train['Max Torque At'] = X_train.apply(imputeMT, axis = 1)\n",
    "X_valid['Max Torque At'] = X_valid.apply(imputeMT, axis = 1)"
   ]
  },
  {
   "cell_type": "code",
   "execution_count": 97,
   "id": "38a7ff89",
   "metadata": {},
   "outputs": [],
   "source": [
    "#Creating the train data\n",
    "train = pd.concat([X_train, y_train], axis = 1)\n",
    "#train.to_csv('train.csv', index = False)"
   ]
  },
  {
   "cell_type": "code",
   "execution_count": 98,
   "id": "85a76919",
   "metadata": {},
   "outputs": [],
   "source": [
    "#Creating the test data\n",
    "test = pd.concat([X_valid, y_valid], axis = 1)\n",
    "#test.to_csv('test.csv', index = False)"
   ]
  },
  {
   "cell_type": "markdown",
   "id": "385560b9",
   "metadata": {},
   "source": [
    "## 4. Cleaning the data"
   ]
  },
  {
   "cell_type": "markdown",
   "id": "d0f3ee0e",
   "metadata": {},
   "source": [
    "### 4.1. Cleaning exterior_color"
   ]
  },
  {
   "cell_type": "code",
   "execution_count": 99,
   "id": "ba9c37f4",
   "metadata": {},
   "outputs": [
    {
     "data": {
      "text/plain": [
       "['silky', 'silver']"
      ]
     },
     "execution_count": 99,
     "metadata": {},
     "output_type": "execute_result"
    }
   ],
   "source": [
    "train['exterior_color'][101].split()"
   ]
  },
  {
   "cell_type": "code",
   "execution_count": 100,
   "id": "cd464300",
   "metadata": {},
   "outputs": [
    {
     "data": {
      "text/plain": [
       "white                       9152\n",
       "silver                      4012\n",
       "grey                        2962\n",
       "red                         2549\n",
       "blue                        1827\n",
       "black                       1790\n",
       "brown                        930\n",
       "other                        553\n",
       "golden                       446\n",
       "gray                         435\n",
       "maroon                       428\n",
       "silky silver                 344\n",
       "polar white                  341\n",
       "orange                       262\n",
       "pearl arctic white           260\n",
       "sleek silver                 257\n",
       "pure white                   224\n",
       "superior white               208\n",
       "candy white                  179\n",
       "glistening grey              172\n",
       "granite grey                 168\n",
       "golden brown metallic        142\n",
       "diamond white                122\n",
       "carnelian red pearl          120\n",
       "green                        119\n",
       "pearl white                  108\n",
       "urban titanium metallic      100\n",
       "metallic silky silver         99\n",
       "tafeta white                  95\n",
       "star dust                     94\n",
       "glacier white pearl           87\n",
       "white orchid pearl            82\n",
       "stardust                      78\n",
       "taffeta white                 78\n",
       "tefeta white                  77\n",
       "purple                        73\n",
       "blazing red                   69\n",
       "magma grey                    68\n",
       "passion red                   66\n",
       "metallic glistening grey      66\n",
       "Name: exterior_color, dtype: int64"
      ]
     },
     "execution_count": 100,
     "metadata": {},
     "output_type": "execute_result"
    }
   ],
   "source": [
    "train['exterior_color'].value_counts()[0:40]"
   ]
  },
  {
   "cell_type": "code",
   "execution_count": 101,
   "id": "9b3d6c9e",
   "metadata": {},
   "outputs": [],
   "source": [
    "colors = ['white', 'silver', 'grey', 'red', 'blue', 'black', 'brown', 'maroon', 'orange', 'green',\n",
    "          'metallic']"
   ]
  },
  {
   "cell_type": "code",
   "execution_count": 102,
   "id": "f70917ef",
   "metadata": {},
   "outputs": [],
   "source": [
    "#Reducing the cardinality of color and some data entry errors\n",
    "def reduceColor(row):\n",
    "    if 'gray' in row['exterior_color'].split():\n",
    "        return 'grey'\n",
    "    if row['exterior_color'] not in colors:\n",
    "        for color in colors:\n",
    "            if color in row['exterior_color'].split():\n",
    "                return color\n",
    "        else:\n",
    "            return 'other'\n",
    "    else:\n",
    "        return row['exterior_color']"
   ]
  },
  {
   "cell_type": "code",
   "execution_count": 103,
   "id": "4156ca33",
   "metadata": {},
   "outputs": [],
   "source": [
    "train['exterior_color'] = train.apply(reduceColor, axis = 1)\n",
    "test['exterior_color'] = test.apply(reduceColor, axis = 1)"
   ]
  },
  {
   "cell_type": "code",
   "execution_count": 104,
   "id": "2b51c9ff",
   "metadata": {},
   "outputs": [
    {
     "data": {
      "text/plain": [
       "white       11830\n",
       "silver       5465\n",
       "grey         4356\n",
       "red          3485\n",
       "blue         2280\n",
       "black        2223\n",
       "other        1949\n",
       "brown        1251\n",
       "maroon        428\n",
       "orange        324\n",
       "metallic      288\n",
       "green         152\n",
       "Name: exterior_color, dtype: int64"
      ]
     },
     "execution_count": 104,
     "metadata": {},
     "output_type": "execute_result"
    }
   ],
   "source": [
    "train['exterior_color'].value_counts()"
   ]
  },
  {
   "cell_type": "code",
   "execution_count": 105,
   "id": "2898f60a",
   "metadata": {},
   "outputs": [
    {
     "data": {
      "text/plain": [
       "12"
      ]
     },
     "execution_count": 105,
     "metadata": {},
     "output_type": "execute_result"
    }
   ],
   "source": [
    "train['exterior_color'].nunique()"
   ]
  },
  {
   "cell_type": "markdown",
   "id": "f2308a9b",
   "metadata": {},
   "source": [
    "### 4.2. Cleaning 'top features'"
   ]
  },
  {
   "cell_type": "code",
   "execution_count": 106,
   "id": "9636cbed",
   "metadata": {},
   "outputs": [
    {
     "data": {
      "text/plain": [
       "\"['power steering', 'power windows front', 'air conditioner', 'heater', 'adjustable head lights', 'manually adjustable exterior rear view mirror', 'centeral locking', 'child safety locks', 'number of speaker']\""
      ]
     },
     "execution_count": 106,
     "metadata": {},
     "output_type": "execute_result"
    }
   ],
   "source": [
    "train['top_features'][0]"
   ]
  },
  {
   "cell_type": "code",
   "execution_count": 113,
   "id": "e180a9b5",
   "metadata": {},
   "outputs": [
    {
     "data": {
      "text/plain": [
       "39"
      ]
     },
     "execution_count": 113,
     "metadata": {},
     "output_type": "execute_result"
    }
   ],
   "source": [
    "feat = 'comfort_features'\n",
    "idx = 2651\n",
    "len(train[feat][idx].split(', '))"
   ]
  },
  {
   "cell_type": "code",
   "execution_count": 114,
   "id": "e6137caa",
   "metadata": {},
   "outputs": [
    {
     "name": "stdout",
     "output_type": "stream",
     "text": [
      "['power steering', 'power windows front', 'power windows rear', 'air quality control', 'remote trunk opener', 'low fuel warning light', 'accessory power outlet', 'trunk light', 'vanity mirror', 'rear reading lamp', 'rear seat headrest', 'rear seat centre arm rest', 'height adjustable front seat belts', 'cup holders front', 'cup holders rear', 'seat lumbar support', 'multifunction steering wheel', 'cruise control', 'rear acvents', 'navigation system', 'smart access card entry', 'engine start stop button', 'glove box cooling', 'voice control', 'steering wheel gearshift paddles', 'steering mounted tripmeter', 'tailgate ajar', 'gear shift indicator', 'luggage hook and net', 'lane change indicator', 'drive modes', 'remote engine start stop', 'find my car location', 'remote horn light control', 'real time vehicle tracking', 'active noise cancellation', 'adjustable headrest', 'power boot', 'hands free tailgate']\n"
     ]
    }
   ],
   "source": [
    "print(train[feat][idx])"
   ]
  },
  {
   "cell_type": "code",
   "execution_count": 123,
   "id": "5dfa8382",
   "metadata": {},
   "outputs": [],
   "source": [
    "#Converting the entries to categorical columns\n",
    "def reduceTF(row):\n",
    "    if row['top_features'] == '[]':\n",
    "        return np.nan\n",
    "    else:\n",
    "        return len(row['top_features'][1:-1].split(', '))"
   ]
  },
  {
   "cell_type": "code",
   "execution_count": 124,
   "id": "b338129c",
   "metadata": {},
   "outputs": [
    {
     "name": "stdout",
     "output_type": "stream",
     "text": [
      "In train, Nans in top_features:  228\n",
      "In test, Nans in top_features:  34\n"
     ]
    }
   ],
   "source": [
    "#Applying function to the dataset\n",
    "train['top_features'] = train.apply(reduceTF, axis = 1)\n",
    "test['top_features'] = test.apply(reduceTF, axis = 1)\n",
    "\n",
    "print(\"In train, Nans in top_features: \", train['top_features'].isnull().sum())\n",
    "print(\"In test, Nans in top_features: \", test['top_features'].isnull().sum())"
   ]
  },
  {
   "cell_type": "code",
   "execution_count": 137,
   "id": "b1f802c9",
   "metadata": {},
   "outputs": [
    {
     "name": "stdout",
     "output_type": "stream",
     "text": [
      "For top_features\n",
      "3220\n",
      "36026\n",
      "For comfort_features\n",
      "2651\n",
      "8225\n",
      "For interior_features\n",
      "7348\n",
      "8225\n",
      "For exterior_features\n",
      "13298\n",
      "7725\n",
      "For safety_features\n",
      "7348\n",
      "8225\n"
     ]
    }
   ],
   "source": [
    "#Extracting featurs for inspection page in app\n",
    "for feat_type in ['top_features', 'comfort_features', 'interior_features',\n",
    "                  'exterior_features', 'safety_features']:\n",
    "    print(f\"For {feat_type}\")\n",
    "    print(train[feat_type].idxmax())\n",
    "    print(test[feat_type].idxmax())"
   ]
  },
  {
   "cell_type": "markdown",
   "id": "766f2ab8",
   "metadata": {},
   "source": [
    "### 4.3. Cleaning comfort_features"
   ]
  },
  {
   "cell_type": "code",
   "execution_count": 128,
   "id": "2b6b5201",
   "metadata": {},
   "outputs": [],
   "source": [
    "#Creating encodings out of the feature\n",
    "def reduceCF(row):\n",
    "    if row['comfort_features'] == '[]':\n",
    "        return np.nan\n",
    "    else:\n",
    "        return len(row['comfort_features'][1:-1].split(', '))"
   ]
  },
  {
   "cell_type": "code",
   "execution_count": 129,
   "id": "5e001961",
   "metadata": {},
   "outputs": [
    {
     "name": "stdout",
     "output_type": "stream",
     "text": [
      "In train, Nans in comfort_features:  232\n",
      "In test, Nans in comfort_features:  36\n"
     ]
    }
   ],
   "source": [
    "#Applying the function to the dataset\n",
    "train['comfort_features'] = train.apply(reduceCF, axis = 1)\n",
    "test['comfort_features'] = test.apply(reduceCF, axis = 1)\n",
    "\n",
    "print(\"In train, Nans in comfort_features: \", train['comfort_features'].isnull().sum())\n",
    "print(\"In test, Nans in comfort_features: \", test['comfort_features'].isnull().sum())"
   ]
  },
  {
   "cell_type": "markdown",
   "id": "33ccb52f",
   "metadata": {},
   "source": [
    "### 4.4. Cleaning interior_features"
   ]
  },
  {
   "cell_type": "code",
   "execution_count": 130,
   "id": "d0744986",
   "metadata": {},
   "outputs": [],
   "source": [
    "#Creating encodings out of the feature\n",
    "def reduceIF(row):\n",
    "    if row['interior_features'] == '[]':\n",
    "        return np.nan\n",
    "    else:\n",
    "        return len(row['interior_features'][1:-1].split(', '))"
   ]
  },
  {
   "cell_type": "code",
   "execution_count": 131,
   "id": "dae67127",
   "metadata": {},
   "outputs": [
    {
     "name": "stdout",
     "output_type": "stream",
     "text": [
      "In train, Nans in interior_features:  273\n",
      "In test, Nans in interior_features:  38\n"
     ]
    }
   ],
   "source": [
    "#Applying the function to the dataset\n",
    "train['interior_features'] = train.apply(reduceIF, axis = 1)\n",
    "test['interior_features'] = test.apply(reduceIF, axis = 1)\n",
    "\n",
    "print(\"In train, Nans in interior_features: \", train['interior_features'].isnull().sum())\n",
    "print(\"In test, Nans in interior_features: \", test['interior_features'].isnull().sum())"
   ]
  },
  {
   "cell_type": "markdown",
   "id": "353caac8",
   "metadata": {},
   "source": [
    "### 4.5. Cleaning exterior_features"
   ]
  },
  {
   "cell_type": "code",
   "execution_count": 132,
   "id": "776026ec",
   "metadata": {},
   "outputs": [],
   "source": [
    "#Creating encodings out of the feature\n",
    "def reduceEF(row):\n",
    "    if row['exterior_features'] == '[]':\n",
    "        return np.nan\n",
    "    else:\n",
    "        return len(row['exterior_features'][1:-1].split(', '))"
   ]
  },
  {
   "cell_type": "code",
   "execution_count": 133,
   "id": "34c91ece",
   "metadata": {},
   "outputs": [
    {
     "name": "stdout",
     "output_type": "stream",
     "text": [
      "In train, Nans in exterior_features:  304\n",
      "In test, Nans in exterior_features:  40\n"
     ]
    }
   ],
   "source": [
    "#Applying the function to the dataset\n",
    "train['exterior_features'] = train.apply(reduceEF, axis = 1)\n",
    "test['exterior_features'] = test.apply(reduceEF, axis = 1)\n",
    "\n",
    "print(\"In train, Nans in exterior_features: \", train['exterior_features'].isnull().sum())\n",
    "print(\"In test, Nans in exterior_features: \", test['exterior_features'].isnull().sum())"
   ]
  },
  {
   "cell_type": "markdown",
   "id": "d581e30e",
   "metadata": {},
   "source": [
    "### 4.6. Cleaning safety_features"
   ]
  },
  {
   "cell_type": "code",
   "execution_count": 134,
   "id": "664cf85c",
   "metadata": {},
   "outputs": [],
   "source": [
    "#Creating encodings out of the feature\n",
    "def reduceSF(row):\n",
    "    if row['safety_features'] == '[]':\n",
    "        return np.nan\n",
    "    else:\n",
    "        return len(row['safety_features'][1:-1].split(', '))"
   ]
  },
  {
   "cell_type": "code",
   "execution_count": 135,
   "id": "f8b18f84",
   "metadata": {},
   "outputs": [
    {
     "name": "stdout",
     "output_type": "stream",
     "text": [
      "In train, Nans in safety_features:  345\n",
      "In test, Nans in safety_features:  46\n"
     ]
    }
   ],
   "source": [
    "#Applying the function to the dataset\n",
    "train['safety_features'] = train.apply(reduceSF, axis = 1)\n",
    "test['safety_features'] = test.apply(reduceSF, axis = 1)\n",
    "\n",
    "print(\"In train, Nans in safety_features: \", train['safety_features'].isnull().sum())\n",
    "print(\"In test, Nans in safety_features: \", test['safety_features'].isnull().sum())   "
   ]
  },
  {
   "cell_type": "markdown",
   "id": "1c393d9f",
   "metadata": {},
   "source": [
    "### 4.7 Cleaning Doors"
   ]
  },
  {
   "cell_type": "code",
   "execution_count": 454,
   "id": "a9b823c4",
   "metadata": {},
   "outputs": [],
   "source": [
    "def reduceDoors(row):\n",
    "    if row['Doors'] not in [4, 2]:\n",
    "        return 4\n",
    "    else:\n",
    "        return row['Doors']"
   ]
  },
  {
   "cell_type": "code",
   "execution_count": 455,
   "id": "685f2597",
   "metadata": {},
   "outputs": [],
   "source": [
    "train['Doors'] = train.apply(reduceDoors, axis = 1)\n",
    "test['Doors'] = test.apply(reduceDoors, axis = 1)"
   ]
  },
  {
   "cell_type": "markdown",
   "id": "147bce71",
   "metadata": {},
   "source": [
    "## 5. Imputing the newly created NaNs"
   ]
  },
  {
   "cell_type": "code",
   "execution_count": 456,
   "id": "743b64d1",
   "metadata": {},
   "outputs": [
    {
     "data": {
      "text/plain": [
       "['top_features',\n",
       " 'comfort_features',\n",
       " 'interior_features',\n",
       " 'exterior_features',\n",
       " 'safety_features']"
      ]
     },
     "execution_count": 456,
     "metadata": {},
     "output_type": "execute_result"
    }
   ],
   "source": [
    "#Gathering the columns with Nans\n",
    "nan_cols = [col for col in train.columns\n",
    "           if train[col].isnull().sum() != 0]\n",
    "nan_cols"
   ]
  },
  {
   "cell_type": "code",
   "execution_count": 457,
   "id": "1006282d",
   "metadata": {},
   "outputs": [],
   "source": [
    "#Creating the simple imputer object\n",
    "from sklearn.impute import SimpleImputer\n",
    "si = SimpleImputer(strategy = 'mean')"
   ]
  },
  {
   "cell_type": "code",
   "execution_count": 458,
   "id": "62a77e4e",
   "metadata": {},
   "outputs": [],
   "source": [
    "#Imputing the features\n",
    "imp_train = pd.DataFrame(si.fit_transform(train[nan_cols]))\n",
    "imp_test = pd.DataFrame(si.transform(test[nan_cols]))"
   ]
  },
  {
   "cell_type": "code",
   "execution_count": 459,
   "id": "c93a4040",
   "metadata": {},
   "outputs": [],
   "source": [
    "#Adding column names\n",
    "imp_train.columns = nan_cols\n",
    "imp_test.columns = nan_cols\n",
    "imp_train.index = train[nan_cols].index\n",
    "imp_test.index = test[nan_cols].index\n",
    "#Index is already the same since both indexes start from 0"
   ]
  },
  {
   "cell_type": "code",
   "execution_count": 460,
   "id": "456195f6",
   "metadata": {},
   "outputs": [],
   "source": [
    "#Replacing the columns with the new columns in the original dataset\n",
    "train[nan_cols] = imp_train\n",
    "test[nan_cols] = imp_test"
   ]
  },
  {
   "cell_type": "markdown",
   "id": "29b94496",
   "metadata": {},
   "source": [
    "## 6. Removing Certain Observations"
   ]
  },
  {
   "cell_type": "code",
   "execution_count": 461,
   "id": "732f586c",
   "metadata": {},
   "outputs": [],
   "source": [
    "#Creating a list of unpopular carmakers in our dataset\n",
    "ditch = []\n",
    "goo = pd.Series(train['oem'].value_counts())\n",
    "boo = list(goo.index)\n",
    "for i in range(len(goo)):\n",
    "    if goo[i] < 7:\n",
    "        ditch.append(boo[i])"
   ]
  },
  {
   "cell_type": "code",
   "execution_count": 462,
   "id": "8a93ba4b",
   "metadata": {},
   "outputs": [],
   "source": [
    "train = train[~train['oem'].isin(ditch)]\n",
    "test = test[~test['oem'].isin(ditch)]"
   ]
  },
  {
   "cell_type": "code",
   "execution_count": 463,
   "id": "021724bf",
   "metadata": {},
   "outputs": [
    {
     "data": {
      "text/plain": [
       "array(['toyota', 'hyundai', 'mercedes-benz', 'maruti', 'mahindra',\n",
       "       'renault', 'chevrolet', 'jeep', 'datsun', 'audi', 'tata', 'bmw',\n",
       "       'honda', 'ford', 'mg', 'nissan', 'lexus', 'jaguar', 'land rover',\n",
       "       'volvo', 'kia', 'volkswagen', 'skoda', 'fiat', 'mitsubishi',\n",
       "       'mahindra ssangyong', 'isuzu', 'porsche', 'mini',\n",
       "       'mahindra renault', 'force'], dtype=object)"
      ]
     },
     "execution_count": 463,
     "metadata": {},
     "output_type": "execute_result"
    }
   ],
   "source": [
    "train.oem.unique()"
   ]
  },
  {
   "cell_type": "code",
   "execution_count": 464,
   "id": "3523e295",
   "metadata": {},
   "outputs": [
    {
     "data": {
      "text/html": [
       "<div>\n",
       "<style scoped>\n",
       "    .dataframe tbody tr th:only-of-type {\n",
       "        vertical-align: middle;\n",
       "    }\n",
       "\n",
       "    .dataframe tbody tr th {\n",
       "        vertical-align: top;\n",
       "    }\n",
       "\n",
       "    .dataframe thead th {\n",
       "        text-align: right;\n",
       "    }\n",
       "</style>\n",
       "<table border=\"1\" class=\"dataframe\">\n",
       "  <thead>\n",
       "    <tr style=\"text-align: right;\">\n",
       "      <th></th>\n",
       "      <th>myear</th>\n",
       "      <th>transmission</th>\n",
       "      <th>fuel</th>\n",
       "      <th>km</th>\n",
       "      <th>oem</th>\n",
       "      <th>model</th>\n",
       "      <th>variant</th>\n",
       "      <th>top_features</th>\n",
       "      <th>comfort_features</th>\n",
       "      <th>interior_features</th>\n",
       "      <th>...</th>\n",
       "      <th>Max Torque Delivered</th>\n",
       "      <th>Max Torque At</th>\n",
       "      <th>body</th>\n",
       "      <th>Gear Box</th>\n",
       "      <th>Steering Type</th>\n",
       "      <th>Front Brake Type</th>\n",
       "      <th>Rear Brake Type</th>\n",
       "      <th>Tyre Type</th>\n",
       "      <th>exterior_color</th>\n",
       "      <th>listed_price</th>\n",
       "    </tr>\n",
       "  </thead>\n",
       "  <tbody>\n",
       "  </tbody>\n",
       "</table>\n",
       "<p>0 rows × 44 columns</p>\n",
       "</div>"
      ],
      "text/plain": [
       "Empty DataFrame\n",
       "Columns: [myear, transmission, fuel, km, oem, model, variant, top_features, comfort_features, interior_features, exterior_features, safety_features, No of Cylinder, Valves per Cylinder, Valve Configuration, Turbo Charger, Super Charger, Length, Width, Height, Wheel Base, Front Tread, Rear Tread, Kerb Weight, Drive Type, Seats, Top Speed, Acceleration, Doors, Cargo Volume, owner_type, Fuel Supply System, Max Power Delivered, Max Power At, Max Torque Delivered, Max Torque At, body, Gear Box, Steering Type, Front Brake Type, Rear Brake Type, Tyre Type, exterior_color, listed_price]\n",
       "Index: []\n",
       "\n",
       "[0 rows x 44 columns]"
      ]
     },
     "execution_count": 464,
     "metadata": {},
     "output_type": "execute_result"
    }
   ],
   "source": [
    "train.loc[pd.isnull(train.oem)]"
   ]
  },
  {
   "cell_type": "code",
   "execution_count": 470,
   "id": "019564bd",
   "metadata": {},
   "outputs": [
    {
     "data": {
      "text/plain": [
       "3288      950000.0\n",
       "36026     500000.0\n",
       "36285     738000.0\n",
       "21250     660000.0\n",
       "1453      899999.0\n",
       "           ...    \n",
       "28842     295000.0\n",
       "14421     735859.0\n",
       "24008     245000.0\n",
       "12162    1249999.0\n",
       "31927     200000.0\n",
       "Name: listed_price, Length: 3779, dtype: float64"
      ]
     },
     "execution_count": 470,
     "metadata": {},
     "output_type": "execute_result"
    }
   ],
   "source": [
    "#Creating X_train and y_train\n",
    "X_train = train.drop('listed_price', axis = 1)\n",
    "y_train = train['listed_price']\n",
    "X_test = test.drop('listed_price', axis = 1)\n",
    "y_test = test['listed_price']\n",
    "y_test"
   ]
  },
  {
   "cell_type": "code",
   "execution_count": 471,
   "id": "6e4f68a1",
   "metadata": {},
   "outputs": [],
   "source": [
    "#Dropping duplicates\n",
    "X_train = X_train.drop_duplicates()\n",
    "X_test = X_test.drop_duplicates()\n",
    "y_train = y_train.loc[X_train.index]\n",
    "y_test  = y_test.loc[X_test.index]"
   ]
  },
  {
   "cell_type": "code",
   "execution_count": 472,
   "id": "d6b8c4ae",
   "metadata": {},
   "outputs": [],
   "source": [
    "#Resetting the index\n",
    "X_train = X_train.reset_index(drop = True)\n",
    "X_test = X_test.reset_index(drop = True)\n",
    "y_train.index = X_train.index\n",
    "y_test.index = X_test.index"
   ]
  },
  {
   "cell_type": "code",
   "execution_count": 473,
   "id": "ef9959de",
   "metadata": {},
   "outputs": [],
   "source": [
    "#Getting train and test back\n",
    "train = pd.concat([X_train, y_train], axis = 1)\n",
    "test = pd.concat([X_test, y_test], axis = 1)"
   ]
  },
  {
   "cell_type": "markdown",
   "id": "06b9857e",
   "metadata": {},
   "source": [
    "## 7. Final Dataset"
   ]
  },
  {
   "cell_type": "code",
   "execution_count": 474,
   "id": "ea18539d",
   "metadata": {},
   "outputs": [],
   "source": [
    "train.to_csv('final_train.csv', index = False)\n",
    "test.to_csv('final_test.csv', index = False)"
   ]
  },
  {
   "cell_type": "code",
   "execution_count": null,
   "id": "f5691fac",
   "metadata": {},
   "outputs": [],
   "source": []
  },
  {
   "cell_type": "code",
   "execution_count": null,
   "id": "c77a4de9",
   "metadata": {},
   "outputs": [],
   "source": []
  },
  {
   "cell_type": "code",
   "execution_count": null,
   "id": "2d25cc59",
   "metadata": {},
   "outputs": [],
   "source": []
  },
  {
   "cell_type": "code",
   "execution_count": null,
   "id": "4dd0cee0",
   "metadata": {},
   "outputs": [],
   "source": []
  },
  {
   "cell_type": "code",
   "execution_count": null,
   "id": "fbb78aac",
   "metadata": {},
   "outputs": [],
   "source": []
  },
  {
   "cell_type": "code",
   "execution_count": null,
   "id": "a296fed3",
   "metadata": {},
   "outputs": [],
   "source": []
  },
  {
   "cell_type": "code",
   "execution_count": null,
   "id": "fdb30d9f",
   "metadata": {},
   "outputs": [],
   "source": []
  },
  {
   "cell_type": "code",
   "execution_count": null,
   "id": "ab3be2eb",
   "metadata": {},
   "outputs": [],
   "source": []
  },
  {
   "cell_type": "code",
   "execution_count": null,
   "id": "81578b68",
   "metadata": {},
   "outputs": [],
   "source": []
  },
  {
   "cell_type": "code",
   "execution_count": null,
   "id": "3fce6a7f",
   "metadata": {},
   "outputs": [],
   "source": []
  },
  {
   "cell_type": "code",
   "execution_count": null,
   "id": "f33e0c79",
   "metadata": {},
   "outputs": [],
   "source": []
  },
  {
   "cell_type": "code",
   "execution_count": null,
   "id": "5be31f1b",
   "metadata": {},
   "outputs": [],
   "source": []
  },
  {
   "cell_type": "code",
   "execution_count": null,
   "id": "33384893",
   "metadata": {},
   "outputs": [],
   "source": []
  },
  {
   "cell_type": "code",
   "execution_count": null,
   "id": "f9c0bf6a",
   "metadata": {},
   "outputs": [],
   "source": []
  }
 ],
 "metadata": {
  "kernelspec": {
   "display_name": "Python 3 (ipykernel)",
   "language": "python",
   "name": "python3"
  },
  "language_info": {
   "codemirror_mode": {
    "name": "ipython",
    "version": 3
   },
   "file_extension": ".py",
   "mimetype": "text/x-python",
   "name": "python",
   "nbconvert_exporter": "python",
   "pygments_lexer": "ipython3",
   "version": "3.9.13"
  },
  "papermill": {
   "default_parameters": {},
   "duration": 20.459944,
   "end_time": "2023-08-11T16:41:33.367806",
   "environment_variables": {},
   "exception": null,
   "input_path": "__notebook__.ipynb",
   "output_path": "__notebook__.ipynb",
   "parameters": {},
   "start_time": "2023-08-11T16:41:12.907862",
   "version": "2.4.0"
  }
 },
 "nbformat": 4,
 "nbformat_minor": 5
}
