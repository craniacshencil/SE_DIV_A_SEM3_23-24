{
 "cells": [
  {
   "cell_type": "code",
   "execution_count": 1,
   "id": "f5067a3d",
   "metadata": {},
   "outputs": [],
   "source": [
    "import pandas as pd\n",
    "import numpy as np"
   ]
  },
  {
   "cell_type": "code",
   "execution_count": 2,
   "id": "fd338505",
   "metadata": {},
   "outputs": [],
   "source": [
    "train = pd.read_csv(\"train.csv\")\n",
    "test = pd.read_csv('test.csv')"
   ]
  },
  {
   "cell_type": "code",
   "execution_count": 3,
   "id": "02f186e9",
   "metadata": {},
   "outputs": [],
   "source": [
    "df = pd.concat([train, test], axis = 0)"
   ]
  },
  {
   "cell_type": "code",
   "execution_count": 4,
   "id": "5719fcc4",
   "metadata": {},
   "outputs": [
    {
     "data": {
      "text/html": [
       "<div>\n",
       "<style scoped>\n",
       "    .dataframe tbody tr th:only-of-type {\n",
       "        vertical-align: middle;\n",
       "    }\n",
       "\n",
       "    .dataframe tbody tr th {\n",
       "        vertical-align: top;\n",
       "    }\n",
       "\n",
       "    .dataframe thead th {\n",
       "        text-align: right;\n",
       "    }\n",
       "</style>\n",
       "<table border=\"1\" class=\"dataframe\">\n",
       "  <thead>\n",
       "    <tr style=\"text-align: right;\">\n",
       "      <th></th>\n",
       "      <th>myear</th>\n",
       "      <th>transmission</th>\n",
       "      <th>fuel</th>\n",
       "      <th>km</th>\n",
       "      <th>ip</th>\n",
       "      <th>oem</th>\n",
       "      <th>model</th>\n",
       "      <th>variant</th>\n",
       "      <th>City</th>\n",
       "      <th>top_features</th>\n",
       "      <th>...</th>\n",
       "      <th>Max Torque At</th>\n",
       "      <th>body</th>\n",
       "      <th>Engine Type</th>\n",
       "      <th>Gear Box</th>\n",
       "      <th>Steering Type</th>\n",
       "      <th>Front Brake Type</th>\n",
       "      <th>Rear Brake Type</th>\n",
       "      <th>Tyre Type</th>\n",
       "      <th>exterior_color</th>\n",
       "      <th>listed_price</th>\n",
       "    </tr>\n",
       "  </thead>\n",
       "  <tbody>\n",
       "    <tr>\n",
       "      <th>0</th>\n",
       "      <td>2013</td>\n",
       "      <td>manual</td>\n",
       "      <td>petrol</td>\n",
       "      <td>74211.0</td>\n",
       "      <td>0</td>\n",
       "      <td>toyota</td>\n",
       "      <td>toyota corolla altis</td>\n",
       "      <td>1.8 j</td>\n",
       "      <td>mumbai</td>\n",
       "      <td>['power steering', 'power windows front', 'air...</td>\n",
       "      <td>...</td>\n",
       "      <td>4000.0</td>\n",
       "      <td>sedan</td>\n",
       "      <td>2zr-fe gasoline 4cylinder</td>\n",
       "      <td>6 speed</td>\n",
       "      <td>power</td>\n",
       "      <td>ventilated disc</td>\n",
       "      <td>disc</td>\n",
       "      <td>tubeless radial</td>\n",
       "      <td>white</td>\n",
       "      <td>440000.0</td>\n",
       "    </tr>\n",
       "    <tr>\n",
       "      <th>1</th>\n",
       "      <td>2014</td>\n",
       "      <td>manual</td>\n",
       "      <td>petrol</td>\n",
       "      <td>73259.0</td>\n",
       "      <td>0</td>\n",
       "      <td>hyundai</td>\n",
       "      <td>hyundai i10</td>\n",
       "      <td>sportz</td>\n",
       "      <td>new delhi</td>\n",
       "      <td>['power steering', 'power windows front', 'air...</td>\n",
       "      <td>...</td>\n",
       "      <td>4000.0</td>\n",
       "      <td>hatchback</td>\n",
       "      <td>dohc kappa2 engine</td>\n",
       "      <td>5 speed</td>\n",
       "      <td>power</td>\n",
       "      <td>ventilated disc</td>\n",
       "      <td>drum</td>\n",
       "      <td>tubeless radial</td>\n",
       "      <td>white</td>\n",
       "      <td>252915.0</td>\n",
       "    </tr>\n",
       "    <tr>\n",
       "      <th>2</th>\n",
       "      <td>2018</td>\n",
       "      <td>manual</td>\n",
       "      <td>petrol</td>\n",
       "      <td>74275.0</td>\n",
       "      <td>0</td>\n",
       "      <td>hyundai</td>\n",
       "      <td>hyundai i20</td>\n",
       "      <td>1.2 spotz</td>\n",
       "      <td>lucknow</td>\n",
       "      <td>['power steering', 'power windows front', 'air...</td>\n",
       "      <td>...</td>\n",
       "      <td>4000.0</td>\n",
       "      <td>hatchback</td>\n",
       "      <td>kappa vtvt petrol engine</td>\n",
       "      <td>5 speed</td>\n",
       "      <td>power</td>\n",
       "      <td>disc</td>\n",
       "      <td>drum</td>\n",
       "      <td>tubeless</td>\n",
       "      <td>silver</td>\n",
       "      <td>475000.0</td>\n",
       "    </tr>\n",
       "    <tr>\n",
       "      <th>3</th>\n",
       "      <td>2015</td>\n",
       "      <td>automatic</td>\n",
       "      <td>petrol</td>\n",
       "      <td>58212.0</td>\n",
       "      <td>1</td>\n",
       "      <td>mercedes-benz</td>\n",
       "      <td>mercedes-benz s-class</td>\n",
       "      <td>s 500 l</td>\n",
       "      <td>mumbai</td>\n",
       "      <td>['power steering', 'power windows front', 'air...</td>\n",
       "      <td>...</td>\n",
       "      <td>2650.0</td>\n",
       "      <td>sedan</td>\n",
       "      <td>v-type petrol engine</td>\n",
       "      <td>7 speed</td>\n",
       "      <td>power</td>\n",
       "      <td>disc</td>\n",
       "      <td>disc</td>\n",
       "      <td>tubeless radial</td>\n",
       "      <td>blue</td>\n",
       "      <td>5399999.0</td>\n",
       "    </tr>\n",
       "    <tr>\n",
       "      <th>4</th>\n",
       "      <td>2019</td>\n",
       "      <td>manual</td>\n",
       "      <td>petrol</td>\n",
       "      <td>16093.0</td>\n",
       "      <td>0</td>\n",
       "      <td>maruti</td>\n",
       "      <td>maruti baleno</td>\n",
       "      <td>delta</td>\n",
       "      <td>gurgaon</td>\n",
       "      <td>['power steering', 'power windows front', 'air...</td>\n",
       "      <td>...</td>\n",
       "      <td>4200.0</td>\n",
       "      <td>hatchback</td>\n",
       "      <td>1.2l vvt engine</td>\n",
       "      <td>5 speed</td>\n",
       "      <td>power</td>\n",
       "      <td>disc</td>\n",
       "      <td>drum</td>\n",
       "      <td>tubeless radial</td>\n",
       "      <td>blue</td>\n",
       "      <td>583412.0</td>\n",
       "    </tr>\n",
       "  </tbody>\n",
       "</table>\n",
       "<p>5 rows × 48 columns</p>\n",
       "</div>"
      ],
      "text/plain": [
       "   myear transmission    fuel       km  ip            oem  \\\n",
       "0   2013       manual  petrol  74211.0   0         toyota   \n",
       "1   2014       manual  petrol  73259.0   0        hyundai   \n",
       "2   2018       manual  petrol  74275.0   0        hyundai   \n",
       "3   2015    automatic  petrol  58212.0   1  mercedes-benz   \n",
       "4   2019       manual  petrol  16093.0   0         maruti   \n",
       "\n",
       "                   model    variant       City  \\\n",
       "0   toyota corolla altis      1.8 j     mumbai   \n",
       "1            hyundai i10     sportz  new delhi   \n",
       "2            hyundai i20  1.2 spotz    lucknow   \n",
       "3  mercedes-benz s-class    s 500 l     mumbai   \n",
       "4          maruti baleno      delta    gurgaon   \n",
       "\n",
       "                                        top_features  ... Max Torque At  \\\n",
       "0  ['power steering', 'power windows front', 'air...  ...        4000.0   \n",
       "1  ['power steering', 'power windows front', 'air...  ...        4000.0   \n",
       "2  ['power steering', 'power windows front', 'air...  ...        4000.0   \n",
       "3  ['power steering', 'power windows front', 'air...  ...        2650.0   \n",
       "4  ['power steering', 'power windows front', 'air...  ...        4200.0   \n",
       "\n",
       "        body                Engine Type Gear Box  Steering Type  \\\n",
       "0      sedan  2zr-fe gasoline 4cylinder  6 speed          power   \n",
       "1  hatchback         dohc kappa2 engine  5 speed          power   \n",
       "2  hatchback   kappa vtvt petrol engine  5 speed          power   \n",
       "3      sedan       v-type petrol engine  7 speed          power   \n",
       "4  hatchback            1.2l vvt engine  5 speed          power   \n",
       "\n",
       "   Front Brake Type Rear Brake Type        Tyre Type  exterior_color  \\\n",
       "0   ventilated disc            disc  tubeless radial           white   \n",
       "1   ventilated disc            drum  tubeless radial           white   \n",
       "2              disc            drum         tubeless          silver   \n",
       "3              disc            disc  tubeless radial            blue   \n",
       "4              disc            drum  tubeless radial            blue   \n",
       "\n",
       "   listed_price  \n",
       "0      440000.0  \n",
       "1      252915.0  \n",
       "2      475000.0  \n",
       "3     5399999.0  \n",
       "4      583412.0  \n",
       "\n",
       "[5 rows x 48 columns]"
      ]
     },
     "execution_count": 4,
     "metadata": {},
     "output_type": "execute_result"
    }
   ],
   "source": [
    "df.head(5)"
   ]
  },
  {
   "cell_type": "code",
   "execution_count": 5,
   "id": "6591badc",
   "metadata": {},
   "outputs": [
    {
     "data": {
      "text/plain": [
       "Index(['myear', 'transmission', 'fuel', 'km', 'ip', 'oem', 'model', 'variant',\n",
       "       'City', 'top_features', 'comfort_features', 'interior_features',\n",
       "       'exterior_features', 'safety_features', 'No of Cylinder',\n",
       "       'Valves per Cylinder', 'Valve Configuration', 'Turbo Charger',\n",
       "       'Super Charger', 'Length', 'Width', 'Height', 'Wheel Base',\n",
       "       'Front Tread', 'Rear Tread', 'Kerb Weight', 'Drive Type', 'Seats',\n",
       "       'Top Speed', 'Acceleration', 'Doors', 'Cargo Volume', 'state',\n",
       "       'owner_type', 'Fuel Supply System', 'Max Power Delivered',\n",
       "       'Max Power At', 'Max Torque Delivered', 'Max Torque At', 'body',\n",
       "       'Engine Type', 'Gear Box', 'Steering Type', 'Front Brake Type',\n",
       "       'Rear Brake Type', 'Tyre Type', 'exterior_color', 'listed_price'],\n",
       "      dtype='object')"
      ]
     },
     "execution_count": 5,
     "metadata": {},
     "output_type": "execute_result"
    }
   ],
   "source": [
    "df.columns"
   ]
  },
  {
   "cell_type": "markdown",
   "id": "749aeee3",
   "metadata": {},
   "source": [
    "## 1. Cleaning the data"
   ]
  },
  {
   "cell_type": "markdown",
   "id": "1756e078",
   "metadata": {},
   "source": [
    "### 1.1. Cleaning exterior_color"
   ]
  },
  {
   "cell_type": "code",
   "execution_count": 6,
   "id": "51ab327e",
   "metadata": {},
   "outputs": [
    {
     "data": {
      "text/plain": [
       "['metallic', 'woodland', 'brown']"
      ]
     },
     "execution_count": 6,
     "metadata": {},
     "output_type": "execute_result"
    }
   ],
   "source": [
    "train['exterior_color'][101].split()"
   ]
  },
  {
   "cell_type": "code",
   "execution_count": 7,
   "id": "b1815388",
   "metadata": {},
   "outputs": [
    {
     "data": {
      "text/plain": [
       "white                       9152\n",
       "silver                      4012\n",
       "grey                        2962\n",
       "red                         2549\n",
       "blue                        1827\n",
       "black                       1790\n",
       "brown                        930\n",
       "other                        553\n",
       "golden                       446\n",
       "gray                         435\n",
       "maroon                       428\n",
       "silky silver                 344\n",
       "polar white                  341\n",
       "orange                       262\n",
       "pearl arctic white           260\n",
       "sleek silver                 257\n",
       "pure white                   224\n",
       "superior white               208\n",
       "candy white                  179\n",
       "glistening grey              172\n",
       "granite grey                 168\n",
       "golden brown metallic        142\n",
       "diamond white                122\n",
       "carnelian red pearl          120\n",
       "green                        119\n",
       "pearl white                  108\n",
       "urban titanium metallic      100\n",
       "metallic silky silver         99\n",
       "tafeta white                  95\n",
       "star dust                     94\n",
       "glacier white pearl           87\n",
       "white orchid pearl            82\n",
       "stardust                      78\n",
       "taffeta white                 78\n",
       "tefeta white                  77\n",
       "purple                        73\n",
       "blazing red                   69\n",
       "magma grey                    68\n",
       "passion red                   66\n",
       "metallic glistening grey      66\n",
       "Name: exterior_color, dtype: int64"
      ]
     },
     "execution_count": 7,
     "metadata": {},
     "output_type": "execute_result"
    }
   ],
   "source": [
    "train['exterior_color'].value_counts()[0:40]"
   ]
  },
  {
   "cell_type": "code",
   "execution_count": 8,
   "id": "5467a4f4",
   "metadata": {},
   "outputs": [],
   "source": [
    "colors = ['white', 'silver', 'grey', 'red', 'blue', 'black', 'brown', 'maroon', 'orange', 'green',\n",
    "          'metallic']"
   ]
  },
  {
   "cell_type": "code",
   "execution_count": 9,
   "id": "86b8372b",
   "metadata": {},
   "outputs": [],
   "source": [
    "#Reducing the cardinality of color and some data entry errors\n",
    "def reduceColor(row):\n",
    "    if 'gray' in row['exterior_color'].split():\n",
    "        return 'grey'\n",
    "    if row['exterior_color'] not in colors:\n",
    "        if row['exterior_color'] == 'other':\n",
    "            return 'white'\n",
    "        for color in colors:\n",
    "            if color in row['exterior_color'].split():\n",
    "                return color\n",
    "        else:\n",
    "            return row['exterior_color']\n",
    "    else:\n",
    "        return row['exterior_color']"
   ]
  },
  {
   "cell_type": "code",
   "execution_count": 10,
   "id": "1e5efc0b",
   "metadata": {},
   "outputs": [],
   "source": [
    "train['exterior_color'] = train.apply(reduceColor, axis = 1)\n",
    "test['exterior_color'] = test.apply(reduceColor, axis = 1)"
   ]
  },
  {
   "cell_type": "code",
   "execution_count": 11,
   "id": "f274da4e",
   "metadata": {},
   "outputs": [
    {
     "data": {
      "text/plain": [
       "154"
      ]
     },
     "execution_count": 11,
     "metadata": {},
     "output_type": "execute_result"
    }
   ],
   "source": [
    "train['exterior_color'].nunique()"
   ]
  },
  {
   "cell_type": "markdown",
   "id": "8827967e",
   "metadata": {},
   "source": [
    "### 1.2. Cleaning 'top features'"
   ]
  },
  {
   "cell_type": "code",
   "execution_count": 12,
   "id": "c8c72c03",
   "metadata": {},
   "outputs": [
    {
     "data": {
      "text/plain": [
       "\"['power steering', 'power windows front', 'air conditioner', 'heater', 'adjustable head lights', 'power adjustable exterior rear view mirror', 'anti lock braking system', 'brake assist', 'speakers front']\""
      ]
     },
     "execution_count": 12,
     "metadata": {},
     "output_type": "execute_result"
    }
   ],
   "source": [
    "train['top_features'][0]"
   ]
  },
  {
   "cell_type": "code",
   "execution_count": 13,
   "id": "9ba4551f",
   "metadata": {},
   "outputs": [
    {
     "data": {
      "text/plain": [
       "9"
      ]
     },
     "execution_count": 13,
     "metadata": {},
     "output_type": "execute_result"
    }
   ],
   "source": [
    "len(train['top_features'][0][1:-1].split(', '))"
   ]
  },
  {
   "cell_type": "code",
   "execution_count": 14,
   "id": "0d9353d2",
   "metadata": {},
   "outputs": [],
   "source": [
    "#Converting the entries to categorical columns\n",
    "def reduceTF(row):\n",
    "    if row['top_features'] == '[]':\n",
    "        return np.nan\n",
    "    else:\n",
    "        return len(row['top_features'][1:-1].split(', '))"
   ]
  },
  {
   "cell_type": "code",
   "execution_count": 23,
   "id": "8268cddd",
   "metadata": {},
   "outputs": [
    {
     "name": "stdout",
     "output_type": "stream",
     "text": [
      "In train, Nans in top_features:  228\n",
      "In test, Nans in top_features:  34\n"
     ]
    }
   ],
   "source": [
    "#Applying function to the dataset\n",
    "train['top_features'] = train.apply(reduceTF, axis = 1)\n",
    "test['top_features'] = test.apply(reduceTF, axis = 1)\n",
    "\n",
    "print(\"In train, Nans in top_features: \", train['top_features'].isnull().sum())\n",
    "print(\"In test, Nans in top_features: \", test['top_features'].isnull().sum())"
   ]
  },
  {
   "cell_type": "markdown",
   "id": "33ebe1f2",
   "metadata": {},
   "source": [
    "### 1.3. Cleaning comfort_features"
   ]
  },
  {
   "cell_type": "code",
   "execution_count": 24,
   "id": "522e4e40",
   "metadata": {},
   "outputs": [],
   "source": [
    "#Creating encodings out of the feature\n",
    "def reduceCF(row):\n",
    "    if row['comfort_features'] == '[]':\n",
    "        return np.nan\n",
    "    else:\n",
    "        return len(row['comfort_features'][1:-1].split(', '))"
   ]
  },
  {
   "cell_type": "code",
   "execution_count": 26,
   "id": "a0ed7f58",
   "metadata": {},
   "outputs": [
    {
     "name": "stdout",
     "output_type": "stream",
     "text": [
      "In train, Nans in comfort_features:  232\n",
      "In test, Nans in comfort_features:  36\n"
     ]
    }
   ],
   "source": [
    "#Applying the function to the dataset\n",
    "train['comfort_features'] = train.apply(reduceCF, axis = 1)\n",
    "test['comfort_features'] = test.apply(reduceCF, axis = 1)\n",
    "\n",
    "print(\"In train, Nans in comfort_features: \", train['comfort_features'].isnull().sum())\n",
    "print(\"In test, Nans in comfort_features: \", test['comfort_features'].isnull().sum())"
   ]
  },
  {
   "cell_type": "markdown",
   "id": "64ee512c",
   "metadata": {},
   "source": [
    "### 1.4. Cleaning interior_features"
   ]
  },
  {
   "cell_type": "code",
   "execution_count": 29,
   "id": "14c4bd0b",
   "metadata": {},
   "outputs": [],
   "source": [
    "#Creating encodings out of the feature\n",
    "def reduceIF(row):\n",
    "    if row['interior_features'] == '[]':\n",
    "        return np.nan\n",
    "    else:\n",
    "        return len(row['interior_features'][1:-1].split(', '))"
   ]
  },
  {
   "cell_type": "code",
   "execution_count": 30,
   "id": "1d34901f",
   "metadata": {},
   "outputs": [
    {
     "name": "stdout",
     "output_type": "stream",
     "text": [
      "In train, Nans in interior_features:  273\n",
      "In test, Nans in interior_features:  38\n"
     ]
    }
   ],
   "source": [
    "#Applying the function to the dataset\n",
    "train['interior_features'] = train.apply(reduceIF, axis = 1)\n",
    "test['interior_features'] = test.apply(reduceIF, axis = 1)\n",
    "\n",
    "print(\"In train, Nans in interior_features: \", train['interior_features'].isnull().sum())\n",
    "print(\"In test, Nans in interior_features: \", test['interior_features'].isnull().sum())"
   ]
  },
  {
   "cell_type": "markdown",
   "id": "8468cbaf",
   "metadata": {},
   "source": [
    "### 1.5. Cleaning exterior_features"
   ]
  },
  {
   "cell_type": "code",
   "execution_count": 33,
   "id": "d862f756",
   "metadata": {},
   "outputs": [],
   "source": [
    "#Creating encodings out of the feature\n",
    "def reduceEF(row):\n",
    "    if row['exterior_features'] == '[]':\n",
    "        return np.nan\n",
    "    else:\n",
    "        return len(row['exterior_features'][1:-1].split(', '))"
   ]
  },
  {
   "cell_type": "code",
   "execution_count": 34,
   "id": "c4949565",
   "metadata": {},
   "outputs": [
    {
     "name": "stdout",
     "output_type": "stream",
     "text": [
      "In train, Nans in exterior_features:  304\n",
      "In test, Nans in exterior_features:  40\n"
     ]
    }
   ],
   "source": [
    "#Applying the function to the dataset\n",
    "train['exterior_features'] = train.apply(reduceEF, axis = 1)\n",
    "test['exterior_features'] = test.apply(reduceEF, axis = 1)\n",
    "\n",
    "print(\"In train, Nans in exterior_features: \", train['exterior_features'].isnull().sum())\n",
    "print(\"In test, Nans in exterior_features: \", test['exterior_features'].isnull().sum())"
   ]
  },
  {
   "cell_type": "markdown",
   "id": "5eba930f",
   "metadata": {},
   "source": [
    "### 1.6. Cleaning safety_features"
   ]
  },
  {
   "cell_type": "code",
   "execution_count": 36,
   "id": "bf38f48e",
   "metadata": {},
   "outputs": [],
   "source": [
    "#Creating encodings out of the feature\n",
    "def reduceSF(row):\n",
    "    if row['safety_features'] == '[]':\n",
    "        return np.nan\n",
    "    else:\n",
    "        return len(row['safety_features'][1:-1].split(', '))"
   ]
  },
  {
   "cell_type": "code",
   "execution_count": 37,
   "id": "91328547",
   "metadata": {},
   "outputs": [
    {
     "name": "stdout",
     "output_type": "stream",
     "text": [
      "In train, Nans in safety_features:  345\n",
      "In test, Nans in safety_features:  46\n"
     ]
    }
   ],
   "source": [
    "#Applying the function to the dataset\n",
    "train['safety_features'] = train.apply(reduceSF, axis = 1)\n",
    "test['safety_features'] = test.apply(reduceSF, axis = 1)\n",
    "\n",
    "print(\"In train, Nans in safety_features: \", train['safety_features'].isnull().sum())\n",
    "print(\"In test, Nans in safety_features: \", test['safety_features'].isnull().sum())   "
   ]
  },
  {
   "cell_type": "markdown",
   "id": "e8a8618c",
   "metadata": {},
   "source": [
    "### 2. Imputing the newly created NaNs"
   ]
  },
  {
   "cell_type": "code",
   "execution_count": 40,
   "id": "879a770a",
   "metadata": {},
   "outputs": [
    {
     "data": {
      "text/plain": [
       "['top_features',\n",
       " 'comfort_features',\n",
       " 'interior_features',\n",
       " 'exterior_features',\n",
       " 'safety_features']"
      ]
     },
     "execution_count": 40,
     "metadata": {},
     "output_type": "execute_result"
    }
   ],
   "source": [
    "#Gathering the columns with Nans\n",
    "nan_cols = [col for col in train.columns\n",
    "           if train[col].isnull().sum() != 0]\n",
    "nan_cols"
   ]
  },
  {
   "cell_type": "code",
   "execution_count": 42,
   "id": "b13adc99",
   "metadata": {},
   "outputs": [],
   "source": [
    "#Creating the simple imputer object\n",
    "from sklearn.impute import SimpleImputer\n",
    "si = SimpleImputer(strategy = 'mean')"
   ]
  },
  {
   "cell_type": "code",
   "execution_count": 44,
   "id": "f83ed9cb",
   "metadata": {},
   "outputs": [],
   "source": [
    "#Imputing the features\n",
    "imp_train = pd.DataFrame(si.fit_transform(train[nan_cols]))\n",
    "imp_test = pd.DataFrame(si.transform(test[nan_cols]))"
   ]
  },
  {
   "cell_type": "code",
   "execution_count": 51,
   "id": "f86d441c",
   "metadata": {},
   "outputs": [],
   "source": [
    "#Adding column names\n",
    "imp_train.columns = nan_cols\n",
    "imp_test.columns = nan_cols\n",
    "#Index is already the same since both indexes start from 0"
   ]
  },
  {
   "cell_type": "code",
   "execution_count": 55,
   "id": "1d721618",
   "metadata": {},
   "outputs": [],
   "source": [
    "#Replacing the columns with the new columns in the original dataset\n",
    "train[nan_cols] = imp_train\n",
    "test[nan_cols] = imp_test"
   ]
  },
  {
   "cell_type": "code",
   "execution_count": 58,
   "id": "7c37b465",
   "metadata": {},
   "outputs": [],
   "source": [
    "#Creating csv files\n",
    "train.to_csv('train2.csv')\n",
    "test.to_csv('test2.csv')"
   ]
  },
  {
   "cell_type": "code",
   "execution_count": null,
   "id": "cbe70830",
   "metadata": {},
   "outputs": [],
   "source": []
  }
 ],
 "metadata": {
  "kernelspec": {
   "display_name": "Python 3 (ipykernel)",
   "language": "python",
   "name": "python3"
  },
  "language_info": {
   "codemirror_mode": {
    "name": "ipython",
    "version": 3
   },
   "file_extension": ".py",
   "mimetype": "text/x-python",
   "name": "python",
   "nbconvert_exporter": "python",
   "pygments_lexer": "ipython3",
   "version": "3.9.13"
  }
 },
 "nbformat": 4,
 "nbformat_minor": 5
}
